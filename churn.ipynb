{
 "cells": [
  {
   "cell_type": "markdown",
   "metadata": {
    "toc": true
   },
   "source": [
    "<h1>Содержание<span class=\"tocSkip\"></span></h1>\n",
    "<div class=\"toc\"><ul class=\"toc-item\"><li><span><a href=\"#Отток-клиентов\" data-toc-modified-id=\"Отток-клиентов-1\"><span class=\"toc-item-num\">1&nbsp;&nbsp;</span>Отток клиентов</a></span><ul class=\"toc-item\"><li><span><a href=\"#Шаг-1.-Изучение-и-подготовка-данных\" data-toc-modified-id=\"Шаг-1.-Изучение-и-подготовка-данных-1.1\"><span class=\"toc-item-num\">1.1&nbsp;&nbsp;</span>Шаг 1. Изучение и подготовка данных</a></span></li><li><span><a href=\"#Шаг-2.-Исследование-задачи\" data-toc-modified-id=\"Шаг-2.-Исследование-задачи-1.2\"><span class=\"toc-item-num\">1.2&nbsp;&nbsp;</span>Шаг 2. Исследование задачи</a></span></li><li><span><a href=\"#Шаг-3.-Борьба-с-дисбалансом\" data-toc-modified-id=\"Шаг-3.-Борьба-с-дисбалансом-1.3\"><span class=\"toc-item-num\">1.3&nbsp;&nbsp;</span>Шаг 3. Борьба с дисбалансом</a></span></li><li><span><a href=\"#Шаг-4.-Тестирование-модели\" data-toc-modified-id=\"Шаг-4.-Тестирование-модели-1.4\"><span class=\"toc-item-num\">1.4&nbsp;&nbsp;</span>Шаг 4. Тестирование модели</a></span></li><li><span><a href=\"#Шаг-5.-Общий-вывод\" data-toc-modified-id=\"Шаг-5.-Общий-вывод-1.5\"><span class=\"toc-item-num\">1.5&nbsp;&nbsp;</span>Шаг 5. Общий вывод</a></span></li></ul></li><li><span><a href=\"#Чек-лист-готовности-проекта\" data-toc-modified-id=\"Чек-лист-готовности-проекта-2\"><span class=\"toc-item-num\">2&nbsp;&nbsp;</span>Чек-лист готовности проекта</a></span></li></ul></div>"
   ]
  },
  {
   "cell_type": "markdown",
   "metadata": {},
   "source": [
    "## Отток клиентов"
   ]
  },
  {
   "cell_type": "markdown",
   "metadata": {},
   "source": [
    "Банковская компания `Бета-Банк` теряет клиентов ежемесячно. Отток небольшой, но заметный, т.е. динамика оттока явно прослеживается. Банковские маркетологи провели исследование и посчитали, что сохранение текущей клиентской базы приведёт к меньшим затратам, чем привлечение новых клиентов. "
   ]
  },
  {
   "cell_type": "markdown",
   "metadata": {},
   "source": [
    "**Цель проекта** — спрогнозировать, уйдёт клиент из банка в ближайшее время или нет."
   ]
  },
  {
   "cell_type": "markdown",
   "metadata": {},
   "source": [
    "**Задача проекта** — построить модель для задачи классификации с предельно большим значением *F1-меры*, дополнительно измеряя метрику AUC-ROC. "
   ]
  },
  {
   "cell_type": "markdown",
   "metadata": {},
   "source": [
    "Источником данных является `Kaggle`, одна из наиболее известных платформ для проведения соревнований по Data Science."
   ]
  },
  {
   "cell_type": "markdown",
   "metadata": {},
   "source": [
    "> Ссылка на задачу:\n",
    "[https://www.kaggle.com/barelydedicated/bank-customer-churn-modeling](https://www.kaggle.com/barelydedicated/bank-customer-churn-modeling)"
   ]
  },
  {
   "cell_type": "markdown",
   "metadata": {},
   "source": [
    "### Шаг 1. Изучение и подготовка данных"
   ]
  },
  {
   "cell_type": "code",
   "execution_count": 1,
   "metadata": {},
   "outputs": [],
   "source": [
    "# импорт библиотек и методов\n",
    "import pandas as pd\n",
    "import seaborn as sns\n",
    "import matplotlib.pyplot as plt\n",
    "from pathlib import Path\n",
    "import os\n",
    "import urllib.request\n",
    "import numpy as np\n",
    "from sklearn.tree import DecisionTreeClassifier\n",
    "from sklearn.ensemble import RandomForestClassifier\n",
    "from sklearn.linear_model import LogisticRegression\n",
    "from sklearn.metrics import accuracy_score\n",
    "from sklearn.model_selection import train_test_split\n",
    "from sklearn.preprocessing import OrdinalEncoder\n",
    "from sklearn.preprocessing import StandardScaler\n",
    "from sklearn.metrics import recall_score\n",
    "from sklearn.metrics import precision_score\n",
    "from sklearn.metrics import f1_score\n",
    "from sklearn.metrics import roc_curve\n",
    "from sklearn.metrics import roc_auc_score\n",
    "from sklearn.metrics import confusion_matrix\n",
    "from sklearn.utils import shuffle"
   ]
  },
  {
   "cell_type": "markdown",
   "metadata": {},
   "source": [
    "> Данные о клиентах банка находятся в файле `Churn_Modelling.csv`, который расположен на *Яндекс.Диске*"
   ]
  },
  {
   "cell_type": "markdown",
   "metadata": {},
   "source": [
    "Чтобы не прилагать файл с данными каждый раз при отправке, напишем код, позволяющий прочитать файл с любого компьютера."
   ]
  },
  {
   "cell_type": "code",
   "execution_count": 2,
   "metadata": {},
   "outputs": [
    {
     "name": "stdout",
     "output_type": "stream",
     "text": [
      "datasets/Churn_Modelling.csv файл не найден, будет загружен из сети\n"
     ]
    }
   ],
   "source": [
    "# создание папки 'datsets' в директории\n",
    "Path('datasets').mkdir(parents=True, exist_ok=True)\n",
    "\n",
    "# создание словаря с именем файла и ссылкой на него\n",
    "urls = {\n",
    "   'Churn_Modelling': ('https://getfile.dokpub.com/yandex/get/https://disk.yandex.ru/d/QKD42_uJ2hUicg', 'datasets/Churn_Modelling.csv'),\n",
    "\n",
    "}\n",
    "\n",
    "# проверка наличия файла \n",
    "if not os.path.exists(urls.get('Churn_Modelling')[1]):\n",
    "    print(urls.get('Churn_Modelling')[1], 'файл не найден, будет загружен из сети')\n",
    "# скачивание файла по ссылке url и размещение файла по пути file_name\n",
    "    urllib.request.urlretrieve(*urls.get('Churn_Modelling'))\n",
    "     \n",
    "df =  pd.read_csv(urls['Churn_Modelling'][1])"
   ]
  },
  {
   "cell_type": "code",
   "execution_count": 3,
   "metadata": {},
   "outputs": [
    {
     "data": {
      "text/html": [
       "<div>\n",
       "<style scoped>\n",
       "    .dataframe tbody tr th:only-of-type {\n",
       "        vertical-align: middle;\n",
       "    }\n",
       "\n",
       "    .dataframe tbody tr th {\n",
       "        vertical-align: top;\n",
       "    }\n",
       "\n",
       "    .dataframe thead th {\n",
       "        text-align: right;\n",
       "    }\n",
       "</style>\n",
       "<table border=\"1\" class=\"dataframe\">\n",
       "  <thead>\n",
       "    <tr style=\"text-align: right;\">\n",
       "      <th></th>\n",
       "      <th>RowNumber</th>\n",
       "      <th>CustomerId</th>\n",
       "      <th>Surname</th>\n",
       "      <th>CreditScore</th>\n",
       "      <th>Geography</th>\n",
       "      <th>Gender</th>\n",
       "      <th>Age</th>\n",
       "      <th>Tenure</th>\n",
       "      <th>Balance</th>\n",
       "      <th>NumOfProducts</th>\n",
       "      <th>HasCrCard</th>\n",
       "      <th>IsActiveMember</th>\n",
       "      <th>EstimatedSalary</th>\n",
       "      <th>Exited</th>\n",
       "    </tr>\n",
       "  </thead>\n",
       "  <tbody>\n",
       "    <tr>\n",
       "      <td>0</td>\n",
       "      <td>1</td>\n",
       "      <td>15634602</td>\n",
       "      <td>Hargrave</td>\n",
       "      <td>619</td>\n",
       "      <td>France</td>\n",
       "      <td>Female</td>\n",
       "      <td>42</td>\n",
       "      <td>2</td>\n",
       "      <td>0.00</td>\n",
       "      <td>1</td>\n",
       "      <td>1</td>\n",
       "      <td>1</td>\n",
       "      <td>101348.88</td>\n",
       "      <td>1</td>\n",
       "    </tr>\n",
       "    <tr>\n",
       "      <td>1</td>\n",
       "      <td>2</td>\n",
       "      <td>15647311</td>\n",
       "      <td>Hill</td>\n",
       "      <td>608</td>\n",
       "      <td>Spain</td>\n",
       "      <td>Female</td>\n",
       "      <td>41</td>\n",
       "      <td>1</td>\n",
       "      <td>83807.86</td>\n",
       "      <td>1</td>\n",
       "      <td>0</td>\n",
       "      <td>1</td>\n",
       "      <td>112542.58</td>\n",
       "      <td>0</td>\n",
       "    </tr>\n",
       "    <tr>\n",
       "      <td>2</td>\n",
       "      <td>3</td>\n",
       "      <td>15619304</td>\n",
       "      <td>Onio</td>\n",
       "      <td>502</td>\n",
       "      <td>France</td>\n",
       "      <td>Female</td>\n",
       "      <td>42</td>\n",
       "      <td>8</td>\n",
       "      <td>159660.80</td>\n",
       "      <td>3</td>\n",
       "      <td>1</td>\n",
       "      <td>0</td>\n",
       "      <td>113931.57</td>\n",
       "      <td>1</td>\n",
       "    </tr>\n",
       "    <tr>\n",
       "      <td>3</td>\n",
       "      <td>4</td>\n",
       "      <td>15701354</td>\n",
       "      <td>Boni</td>\n",
       "      <td>699</td>\n",
       "      <td>France</td>\n",
       "      <td>Female</td>\n",
       "      <td>39</td>\n",
       "      <td>1</td>\n",
       "      <td>0.00</td>\n",
       "      <td>2</td>\n",
       "      <td>0</td>\n",
       "      <td>0</td>\n",
       "      <td>93826.63</td>\n",
       "      <td>0</td>\n",
       "    </tr>\n",
       "    <tr>\n",
       "      <td>4</td>\n",
       "      <td>5</td>\n",
       "      <td>15737888</td>\n",
       "      <td>Mitchell</td>\n",
       "      <td>850</td>\n",
       "      <td>Spain</td>\n",
       "      <td>Female</td>\n",
       "      <td>43</td>\n",
       "      <td>2</td>\n",
       "      <td>125510.82</td>\n",
       "      <td>1</td>\n",
       "      <td>1</td>\n",
       "      <td>1</td>\n",
       "      <td>79084.10</td>\n",
       "      <td>0</td>\n",
       "    </tr>\n",
       "  </tbody>\n",
       "</table>\n",
       "</div>"
      ],
      "text/plain": [
       "   RowNumber  CustomerId   Surname  CreditScore Geography  Gender  Age  \\\n",
       "0          1    15634602  Hargrave          619    France  Female   42   \n",
       "1          2    15647311      Hill          608     Spain  Female   41   \n",
       "2          3    15619304      Onio          502    France  Female   42   \n",
       "3          4    15701354      Boni          699    France  Female   39   \n",
       "4          5    15737888  Mitchell          850     Spain  Female   43   \n",
       "\n",
       "   Tenure    Balance  NumOfProducts  HasCrCard  IsActiveMember  \\\n",
       "0       2       0.00              1          1               1   \n",
       "1       1   83807.86              1          0               1   \n",
       "2       8  159660.80              3          1               0   \n",
       "3       1       0.00              2          0               0   \n",
       "4       2  125510.82              1          1               1   \n",
       "\n",
       "   EstimatedSalary  Exited  \n",
       "0        101348.88       1  \n",
       "1        112542.58       0  \n",
       "2        113931.57       1  \n",
       "3         93826.63       0  \n",
       "4         79084.10       0  "
      ]
     },
     "execution_count": 3,
     "metadata": {},
     "output_type": "execute_result"
    }
   ],
   "source": [
    "# вывод первых пяти строк таблиц\n",
    "df.head()"
   ]
  },
  {
   "cell_type": "markdown",
   "metadata": {},
   "source": [
    "**Исходные данные:**\n",
    "\n",
    "Таблица `Churn_Modelling`"
   ]
  },
  {
   "cell_type": "markdown",
   "metadata": {},
   "source": [
    "`Признаки`\n",
    "\n",
    "* *RowNumber* — индекс строки в данных\n",
    "* *CustomerId* — уникальный идентификатор клиента\n",
    "* *Surname* — фамилия\n",
    "* *CreditScore* — кредитный рейтинг\n",
    "* *Geography* — страна проживания\n",
    "* *Gender* — пол\n",
    "* *Age* — возраст\n",
    "* *Tenure* — сколько лет человек является клиентом банка\n",
    "* *Balance* — баланс на счёте\n",
    "* *NumOfProducts* — количество продуктов банка, используемых клиентом\n",
    "* *HasCrCard* — наличие кредитной карты\n",
    "* *IsActiveMember* — активность клиента\n",
    "* *EstimatedSalary* — предполагаемая зарплата\n",
    "\n",
    "`Целевой признак`\n",
    "\n",
    "* *Exited* — факт ухода клиента"
   ]
  },
  {
   "cell_type": "code",
   "execution_count": 4,
   "metadata": {
    "scrolled": true
   },
   "outputs": [
    {
     "name": "stdout",
     "output_type": "stream",
     "text": [
      "<class 'pandas.core.frame.DataFrame'>\n",
      "RangeIndex: 10000 entries, 0 to 9999\n",
      "Data columns (total 14 columns):\n",
      "RowNumber          10000 non-null int64\n",
      "CustomerId         10000 non-null int64\n",
      "Surname            10000 non-null object\n",
      "CreditScore        10000 non-null int64\n",
      "Geography          10000 non-null object\n",
      "Gender             10000 non-null object\n",
      "Age                10000 non-null int64\n",
      "Tenure             10000 non-null int64\n",
      "Balance            10000 non-null float64\n",
      "NumOfProducts      10000 non-null int64\n",
      "HasCrCard          10000 non-null int64\n",
      "IsActiveMember     10000 non-null int64\n",
      "EstimatedSalary    10000 non-null float64\n",
      "Exited             10000 non-null int64\n",
      "dtypes: float64(2), int64(9), object(3)\n",
      "memory usage: 1.1+ MB\n"
     ]
    }
   ],
   "source": [
    "# получение общей информации о данных в таблице\n",
    "df.info()"
   ]
  },
  {
   "cell_type": "code",
   "execution_count": 5,
   "metadata": {},
   "outputs": [
    {
     "data": {
      "text/html": [
       "<div>\n",
       "<style scoped>\n",
       "    .dataframe tbody tr th:only-of-type {\n",
       "        vertical-align: middle;\n",
       "    }\n",
       "\n",
       "    .dataframe tbody tr th {\n",
       "        vertical-align: top;\n",
       "    }\n",
       "\n",
       "    .dataframe thead th {\n",
       "        text-align: right;\n",
       "    }\n",
       "</style>\n",
       "<table border=\"1\" class=\"dataframe\">\n",
       "  <thead>\n",
       "    <tr style=\"text-align: right;\">\n",
       "      <th></th>\n",
       "      <th>index</th>\n",
       "      <th>0</th>\n",
       "    </tr>\n",
       "  </thead>\n",
       "  <tbody>\n",
       "    <tr>\n",
       "      <td>0</td>\n",
       "      <td>RowNumber</td>\n",
       "      <td>0.0</td>\n",
       "    </tr>\n",
       "    <tr>\n",
       "      <td>1</td>\n",
       "      <td>CustomerId</td>\n",
       "      <td>0.0</td>\n",
       "    </tr>\n",
       "    <tr>\n",
       "      <td>2</td>\n",
       "      <td>Surname</td>\n",
       "      <td>0.0</td>\n",
       "    </tr>\n",
       "    <tr>\n",
       "      <td>3</td>\n",
       "      <td>CreditScore</td>\n",
       "      <td>0.0</td>\n",
       "    </tr>\n",
       "    <tr>\n",
       "      <td>4</td>\n",
       "      <td>Geography</td>\n",
       "      <td>0.0</td>\n",
       "    </tr>\n",
       "    <tr>\n",
       "      <td>5</td>\n",
       "      <td>Gender</td>\n",
       "      <td>0.0</td>\n",
       "    </tr>\n",
       "    <tr>\n",
       "      <td>6</td>\n",
       "      <td>Age</td>\n",
       "      <td>0.0</td>\n",
       "    </tr>\n",
       "    <tr>\n",
       "      <td>7</td>\n",
       "      <td>Tenure</td>\n",
       "      <td>0.0</td>\n",
       "    </tr>\n",
       "    <tr>\n",
       "      <td>8</td>\n",
       "      <td>Balance</td>\n",
       "      <td>0.0</td>\n",
       "    </tr>\n",
       "    <tr>\n",
       "      <td>9</td>\n",
       "      <td>NumOfProducts</td>\n",
       "      <td>0.0</td>\n",
       "    </tr>\n",
       "    <tr>\n",
       "      <td>10</td>\n",
       "      <td>HasCrCard</td>\n",
       "      <td>0.0</td>\n",
       "    </tr>\n",
       "    <tr>\n",
       "      <td>11</td>\n",
       "      <td>IsActiveMember</td>\n",
       "      <td>0.0</td>\n",
       "    </tr>\n",
       "    <tr>\n",
       "      <td>12</td>\n",
       "      <td>EstimatedSalary</td>\n",
       "      <td>0.0</td>\n",
       "    </tr>\n",
       "    <tr>\n",
       "      <td>13</td>\n",
       "      <td>Exited</td>\n",
       "      <td>0.0</td>\n",
       "    </tr>\n",
       "  </tbody>\n",
       "</table>\n",
       "</div>"
      ],
      "text/plain": [
       "              index    0\n",
       "0         RowNumber  0.0\n",
       "1        CustomerId  0.0\n",
       "2           Surname  0.0\n",
       "3       CreditScore  0.0\n",
       "4         Geography  0.0\n",
       "5            Gender  0.0\n",
       "6               Age  0.0\n",
       "7            Tenure  0.0\n",
       "8           Balance  0.0\n",
       "9     NumOfProducts  0.0\n",
       "10        HasCrCard  0.0\n",
       "11   IsActiveMember  0.0\n",
       "12  EstimatedSalary  0.0\n",
       "13           Exited  0.0"
      ]
     },
     "execution_count": 5,
     "metadata": {},
     "output_type": "execute_result"
    }
   ],
   "source": [
    "# проверка наличия пропусков\n",
    "df.isna().mean().reset_index()"
   ]
  },
  {
   "cell_type": "code",
   "execution_count": 6,
   "metadata": {
    "scrolled": true
   },
   "outputs": [
    {
     "data": {
      "text/html": [
       "<div>\n",
       "<style scoped>\n",
       "    .dataframe tbody tr th:only-of-type {\n",
       "        vertical-align: middle;\n",
       "    }\n",
       "\n",
       "    .dataframe tbody tr th {\n",
       "        vertical-align: top;\n",
       "    }\n",
       "\n",
       "    .dataframe thead th {\n",
       "        text-align: right;\n",
       "    }\n",
       "</style>\n",
       "<table border=\"1\" class=\"dataframe\">\n",
       "  <thead>\n",
       "    <tr style=\"text-align: right;\">\n",
       "      <th></th>\n",
       "      <th>RowNumber</th>\n",
       "      <th>CustomerId</th>\n",
       "      <th>CreditScore</th>\n",
       "      <th>Age</th>\n",
       "      <th>Tenure</th>\n",
       "      <th>Balance</th>\n",
       "      <th>NumOfProducts</th>\n",
       "      <th>HasCrCard</th>\n",
       "      <th>IsActiveMember</th>\n",
       "      <th>EstimatedSalary</th>\n",
       "      <th>Exited</th>\n",
       "    </tr>\n",
       "  </thead>\n",
       "  <tbody>\n",
       "    <tr>\n",
       "      <td>count</td>\n",
       "      <td>10000.00000</td>\n",
       "      <td>1.000000e+04</td>\n",
       "      <td>10000.000000</td>\n",
       "      <td>10000.000000</td>\n",
       "      <td>10000.000000</td>\n",
       "      <td>10000.000000</td>\n",
       "      <td>10000.000000</td>\n",
       "      <td>10000.00000</td>\n",
       "      <td>10000.000000</td>\n",
       "      <td>10000.000000</td>\n",
       "      <td>10000.000000</td>\n",
       "    </tr>\n",
       "    <tr>\n",
       "      <td>mean</td>\n",
       "      <td>5000.50000</td>\n",
       "      <td>1.569094e+07</td>\n",
       "      <td>650.528800</td>\n",
       "      <td>38.921800</td>\n",
       "      <td>5.012800</td>\n",
       "      <td>76485.889288</td>\n",
       "      <td>1.530200</td>\n",
       "      <td>0.70550</td>\n",
       "      <td>0.515100</td>\n",
       "      <td>100090.239881</td>\n",
       "      <td>0.203700</td>\n",
       "    </tr>\n",
       "    <tr>\n",
       "      <td>std</td>\n",
       "      <td>2886.89568</td>\n",
       "      <td>7.193619e+04</td>\n",
       "      <td>96.653299</td>\n",
       "      <td>10.487806</td>\n",
       "      <td>2.892174</td>\n",
       "      <td>62397.405202</td>\n",
       "      <td>0.581654</td>\n",
       "      <td>0.45584</td>\n",
       "      <td>0.499797</td>\n",
       "      <td>57510.492818</td>\n",
       "      <td>0.402769</td>\n",
       "    </tr>\n",
       "    <tr>\n",
       "      <td>min</td>\n",
       "      <td>1.00000</td>\n",
       "      <td>1.556570e+07</td>\n",
       "      <td>350.000000</td>\n",
       "      <td>18.000000</td>\n",
       "      <td>0.000000</td>\n",
       "      <td>0.000000</td>\n",
       "      <td>1.000000</td>\n",
       "      <td>0.00000</td>\n",
       "      <td>0.000000</td>\n",
       "      <td>11.580000</td>\n",
       "      <td>0.000000</td>\n",
       "    </tr>\n",
       "    <tr>\n",
       "      <td>25%</td>\n",
       "      <td>2500.75000</td>\n",
       "      <td>1.562853e+07</td>\n",
       "      <td>584.000000</td>\n",
       "      <td>32.000000</td>\n",
       "      <td>3.000000</td>\n",
       "      <td>0.000000</td>\n",
       "      <td>1.000000</td>\n",
       "      <td>0.00000</td>\n",
       "      <td>0.000000</td>\n",
       "      <td>51002.110000</td>\n",
       "      <td>0.000000</td>\n",
       "    </tr>\n",
       "    <tr>\n",
       "      <td>50%</td>\n",
       "      <td>5000.50000</td>\n",
       "      <td>1.569074e+07</td>\n",
       "      <td>652.000000</td>\n",
       "      <td>37.000000</td>\n",
       "      <td>5.000000</td>\n",
       "      <td>97198.540000</td>\n",
       "      <td>1.000000</td>\n",
       "      <td>1.00000</td>\n",
       "      <td>1.000000</td>\n",
       "      <td>100193.915000</td>\n",
       "      <td>0.000000</td>\n",
       "    </tr>\n",
       "    <tr>\n",
       "      <td>75%</td>\n",
       "      <td>7500.25000</td>\n",
       "      <td>1.575323e+07</td>\n",
       "      <td>718.000000</td>\n",
       "      <td>44.000000</td>\n",
       "      <td>7.000000</td>\n",
       "      <td>127644.240000</td>\n",
       "      <td>2.000000</td>\n",
       "      <td>1.00000</td>\n",
       "      <td>1.000000</td>\n",
       "      <td>149388.247500</td>\n",
       "      <td>0.000000</td>\n",
       "    </tr>\n",
       "    <tr>\n",
       "      <td>max</td>\n",
       "      <td>10000.00000</td>\n",
       "      <td>1.581569e+07</td>\n",
       "      <td>850.000000</td>\n",
       "      <td>92.000000</td>\n",
       "      <td>10.000000</td>\n",
       "      <td>250898.090000</td>\n",
       "      <td>4.000000</td>\n",
       "      <td>1.00000</td>\n",
       "      <td>1.000000</td>\n",
       "      <td>199992.480000</td>\n",
       "      <td>1.000000</td>\n",
       "    </tr>\n",
       "  </tbody>\n",
       "</table>\n",
       "</div>"
      ],
      "text/plain": [
       "         RowNumber    CustomerId   CreditScore           Age        Tenure  \\\n",
       "count  10000.00000  1.000000e+04  10000.000000  10000.000000  10000.000000   \n",
       "mean    5000.50000  1.569094e+07    650.528800     38.921800      5.012800   \n",
       "std     2886.89568  7.193619e+04     96.653299     10.487806      2.892174   \n",
       "min        1.00000  1.556570e+07    350.000000     18.000000      0.000000   \n",
       "25%     2500.75000  1.562853e+07    584.000000     32.000000      3.000000   \n",
       "50%     5000.50000  1.569074e+07    652.000000     37.000000      5.000000   \n",
       "75%     7500.25000  1.575323e+07    718.000000     44.000000      7.000000   \n",
       "max    10000.00000  1.581569e+07    850.000000     92.000000     10.000000   \n",
       "\n",
       "             Balance  NumOfProducts    HasCrCard  IsActiveMember  \\\n",
       "count   10000.000000   10000.000000  10000.00000    10000.000000   \n",
       "mean    76485.889288       1.530200      0.70550        0.515100   \n",
       "std     62397.405202       0.581654      0.45584        0.499797   \n",
       "min         0.000000       1.000000      0.00000        0.000000   \n",
       "25%         0.000000       1.000000      0.00000        0.000000   \n",
       "50%     97198.540000       1.000000      1.00000        1.000000   \n",
       "75%    127644.240000       2.000000      1.00000        1.000000   \n",
       "max    250898.090000       4.000000      1.00000        1.000000   \n",
       "\n",
       "       EstimatedSalary        Exited  \n",
       "count     10000.000000  10000.000000  \n",
       "mean     100090.239881      0.203700  \n",
       "std       57510.492818      0.402769  \n",
       "min          11.580000      0.000000  \n",
       "25%       51002.110000      0.000000  \n",
       "50%      100193.915000      0.000000  \n",
       "75%      149388.247500      0.000000  \n",
       "max      199992.480000      1.000000  "
      ]
     },
     "execution_count": 6,
     "metadata": {},
     "output_type": "execute_result"
    }
   ],
   "source": [
    "# получение сводки числовых значений данных в таблицe\n",
    "df.describe()"
   ]
  },
  {
   "cell_type": "markdown",
   "metadata": {},
   "source": [
    "Проанализируем полученную информацию. Таблица содержит 14 колонок с типами данных:\n",
    "* `int64`\n",
    "* `float64`\n",
    "* `object`\n",
    "\n",
    "В названиях колонок использован стиль наименования переменных *CapitalizedWords*. Нарушения стиля названия имен отсутствуют. Количество значений в стоблцах таблицы не различается. Пропуски отсутствуют. Минимальные значения в колонках выглядят адекватными. Единственное, как можно улучшить представление данных — привести все числовые значения таблицы к типу `int64`."
   ]
  },
  {
   "cell_type": "code",
   "execution_count": 7,
   "metadata": {
    "scrolled": true
   },
   "outputs": [
    {
     "data": {
      "text/plain": [
       "RowNumber           int64\n",
       "CustomerId          int64\n",
       "Surname            object\n",
       "CreditScore         int64\n",
       "Geography          object\n",
       "Gender             object\n",
       "Age                 int64\n",
       "Tenure              int64\n",
       "Balance             int64\n",
       "NumOfProducts       int64\n",
       "HasCrCard           int64\n",
       "IsActiveMember      int64\n",
       "EstimatedSalary     int64\n",
       "Exited              int64\n",
       "dtype: object"
      ]
     },
     "execution_count": 7,
     "metadata": {},
     "output_type": "execute_result"
    }
   ],
   "source": [
    "# приведение типов данных\n",
    "columns = ['Balance','EstimatedSalary']\n",
    "for column in columns:\n",
    "    df[column] = df[column].astype('int64')\n",
    "# проверка типов данных  \n",
    "df.dtypes"
   ]
  },
  {
   "cell_type": "markdown",
   "metadata": {},
   "source": [
    "Для построения модели предсказания целевого признака *Exited* (факта ухода клиента из банка; 0 — клиент остался в банке, 1 — клиент покинул банк) понадобятся не все признаки (столбцы) в таблице. Так колонки *RowNumber*, *Surname*, *CustomerId* не несут полезной информации для обучения модели, поэтому от них мы можем избавиться."
   ]
  },
  {
   "cell_type": "code",
   "execution_count": 8,
   "metadata": {},
   "outputs": [],
   "source": [
    "# удаление лишних колонок таблицы\n",
    "df = df.drop(['RowNumber', 'Surname', 'CustomerId'], axis=1)"
   ]
  },
  {
   "cell_type": "code",
   "execution_count": 9,
   "metadata": {},
   "outputs": [
    {
     "data": {
      "text/plain": [
       "Index(['CreditScore', 'Geography', 'Gender', 'Age', 'Tenure', 'Balance',\n",
       "       'NumOfProducts', 'HasCrCard', 'IsActiveMember', 'EstimatedSalary',\n",
       "       'Exited'],\n",
       "      dtype='object')"
      ]
     },
     "execution_count": 9,
     "metadata": {},
     "output_type": "execute_result"
    }
   ],
   "source": [
    "# проверка колонок таблицы\n",
    "df.columns"
   ]
  },
  {
   "cell_type": "markdown",
   "metadata": {},
   "source": [
    "Чтобы приступить к обучению модели, необходимо **подготовить входные данные**, а именно:\n",
    "\n",
    "* все имеющиеся признаки привести к количественному формату (будем использовать OHE)\n",
    "* разделить исходные данные на признаки (все, кроме колонки `Exited`) и целевой признак (колонка `Exited`)\n",
    "* разбить данные на три части: *обучающую, валидационную и тестовую* выборки"
   ]
  },
  {
   "cell_type": "code",
   "execution_count": 12,
   "metadata": {},
   "outputs": [],
   "source": [
    "# приведение признаков к количественному формату\n",
    "df_ohe = pd.get_dummies(df, drop_first=True)\n",
    "# деление датафрейма на признаки и целевой признак\n",
    "features = df_ohe.drop('Exited', axis=1)\n",
    "target = df_ohe['Exited']"
   ]
  },
  {
   "cell_type": "markdown",
   "metadata": {},
   "source": [
    "Теперь исходные данные разобьём в соотношении 3:1:1, т.е. *обучающая выборка* составит 60% данных, *валидационная* и *тестовая* — по 20% каждая."
   ]
  },
  {
   "cell_type": "code",
   "execution_count": 13,
   "metadata": {
    "scrolled": true
   },
   "outputs": [
    {
     "name": "stdout",
     "output_type": "stream",
     "text": [
      "(6000, 11) (6000,)\n",
      "(2000, 11) (2000,)\n",
      "(2000, 11) (2000,)\n"
     ]
    }
   ],
   "source": [
    "# разбиение данных на три выборки\n",
    "features_train, features_valid, target_train, target_valid = train_test_split(\n",
    "    features, target, test_size=0.4, random_state=12345)\n",
    "features_valid, features_test, target_valid, target_test = train_test_split(\n",
    "    features_valid, target_valid, test_size=0.5, random_state=12345)\n",
    "\n",
    "# проверка размеров полученных наборов данных\n",
    "features_ = [features_train, features_valid, features_test]\n",
    "target_ = [target_train, target_valid, target_test]\n",
    "\n",
    "for f,t in zip(features_, target_):\n",
    "    print(f.shape, t.shape)"
   ]
  },
  {
   "cell_type": "code",
   "execution_count": 14,
   "metadata": {
    "scrolled": false
   },
   "outputs": [
    {
     "data": {
      "text/html": [
       "<div>\n",
       "<style scoped>\n",
       "    .dataframe tbody tr th:only-of-type {\n",
       "        vertical-align: middle;\n",
       "    }\n",
       "\n",
       "    .dataframe tbody tr th {\n",
       "        vertical-align: top;\n",
       "    }\n",
       "\n",
       "    .dataframe thead th {\n",
       "        text-align: right;\n",
       "    }\n",
       "</style>\n",
       "<table border=\"1\" class=\"dataframe\">\n",
       "  <thead>\n",
       "    <tr style=\"text-align: right;\">\n",
       "      <th></th>\n",
       "      <th>CreditScore</th>\n",
       "      <th>Age</th>\n",
       "      <th>Tenure</th>\n",
       "      <th>Balance</th>\n",
       "      <th>NumOfProducts</th>\n",
       "      <th>HasCrCard</th>\n",
       "      <th>IsActiveMember</th>\n",
       "      <th>EstimatedSalary</th>\n",
       "      <th>Geography_Germany</th>\n",
       "      <th>Geography_Spain</th>\n",
       "      <th>Gender_Male</th>\n",
       "    </tr>\n",
       "  </thead>\n",
       "  <tbody>\n",
       "    <tr>\n",
       "      <td>7479</td>\n",
       "      <td>567</td>\n",
       "      <td>35</td>\n",
       "      <td>8</td>\n",
       "      <td>153137</td>\n",
       "      <td>1</td>\n",
       "      <td>1</td>\n",
       "      <td>0</td>\n",
       "      <td>88659</td>\n",
       "      <td>0</td>\n",
       "      <td>1</td>\n",
       "      <td>1</td>\n",
       "    </tr>\n",
       "    <tr>\n",
       "      <td>3411</td>\n",
       "      <td>711</td>\n",
       "      <td>37</td>\n",
       "      <td>8</td>\n",
       "      <td>113899</td>\n",
       "      <td>1</td>\n",
       "      <td>0</td>\n",
       "      <td>0</td>\n",
       "      <td>80215</td>\n",
       "      <td>0</td>\n",
       "      <td>0</td>\n",
       "      <td>0</td>\n",
       "    </tr>\n",
       "    <tr>\n",
       "      <td>6027</td>\n",
       "      <td>850</td>\n",
       "      <td>44</td>\n",
       "      <td>3</td>\n",
       "      <td>140393</td>\n",
       "      <td>2</td>\n",
       "      <td>0</td>\n",
       "      <td>1</td>\n",
       "      <td>186285</td>\n",
       "      <td>1</td>\n",
       "      <td>0</td>\n",
       "      <td>1</td>\n",
       "    </tr>\n",
       "    <tr>\n",
       "      <td>1247</td>\n",
       "      <td>512</td>\n",
       "      <td>24</td>\n",
       "      <td>6</td>\n",
       "      <td>0</td>\n",
       "      <td>2</td>\n",
       "      <td>1</td>\n",
       "      <td>0</td>\n",
       "      <td>37654</td>\n",
       "      <td>0</td>\n",
       "      <td>0</td>\n",
       "      <td>1</td>\n",
       "    </tr>\n",
       "    <tr>\n",
       "      <td>3716</td>\n",
       "      <td>665</td>\n",
       "      <td>27</td>\n",
       "      <td>2</td>\n",
       "      <td>147435</td>\n",
       "      <td>1</td>\n",
       "      <td>0</td>\n",
       "      <td>0</td>\n",
       "      <td>187508</td>\n",
       "      <td>1</td>\n",
       "      <td>0</td>\n",
       "      <td>0</td>\n",
       "    </tr>\n",
       "  </tbody>\n",
       "</table>\n",
       "</div>"
      ],
      "text/plain": [
       "      CreditScore  Age  Tenure  Balance  NumOfProducts  HasCrCard  \\\n",
       "7479          567   35       8   153137              1          1   \n",
       "3411          711   37       8   113899              1          0   \n",
       "6027          850   44       3   140393              2          0   \n",
       "1247          512   24       6        0              2          1   \n",
       "3716          665   27       2   147435              1          0   \n",
       "\n",
       "      IsActiveMember  EstimatedSalary  Geography_Germany  Geography_Spain  \\\n",
       "7479               0            88659                  0                1   \n",
       "3411               0            80215                  0                0   \n",
       "6027               1           186285                  1                0   \n",
       "1247               0            37654                  0                0   \n",
       "3716               0           187508                  1                0   \n",
       "\n",
       "      Gender_Male  \n",
       "7479            1  \n",
       "3411            0  \n",
       "6027            1  \n",
       "1247            1  \n",
       "3716            0  "
      ]
     },
     "execution_count": 14,
     "metadata": {},
     "output_type": "execute_result"
    }
   ],
   "source": [
    "# просмотр первых пяти строк признаков обучающей выборки\n",
    "features_train.head()"
   ]
  },
  {
   "cell_type": "markdown",
   "metadata": {},
   "source": [
    "Разбросы значений в колонках датафрейма различаются. Те признаки, у которых разброс данных значиельный, будут автоматически признаны алгоритмами моделей машинного обучения более важными. В действительности это не так. Чтобы признаки считались равнозначными, воспользуемся **мастабированием признаков**. Применим метод **стандартизации данных** с помощью структуры данных *StandardScaler*."
   ]
  },
  {
   "cell_type": "code",
   "execution_count": 15,
   "metadata": {},
   "outputs": [],
   "source": [
    "# функция стандартизации и обновления датафрейма\n",
    "def scaler_method(data):\n",
    "    numeric=['CreditScore', 'Age', 'Tenure',\n",
    "             'Balance', 'NumOfProducts', 'EstimatedSalary']\n",
    "    col_names = list(data.columns)\n",
    "    data[numeric] = scaler.transform(data[numeric])\n",
    "    data = pd.DataFrame(data, columns=col_names)\n",
    "    return data"
   ]
  },
  {
   "cell_type": "markdown",
   "metadata": {},
   "source": [
    "Применим функцию стандартизации к каждой выборке."
   ]
  },
  {
   "cell_type": "code",
   "execution_count": 16,
   "metadata": {},
   "outputs": [
    {
     "name": "stderr",
     "output_type": "stream",
     "text": [
      "/opt/conda/lib/python3.7/site-packages/ipykernel_launcher.py:6: SettingWithCopyWarning: \n",
      "A value is trying to be set on a copy of a slice from a DataFrame.\n",
      "Try using .loc[row_indexer,col_indexer] = value instead\n",
      "\n",
      "See the caveats in the documentation: http://pandas.pydata.org/pandas-docs/stable/user_guide/indexing.html#returning-a-view-versus-a-copy\n",
      "  \n",
      "/opt/conda/lib/python3.7/site-packages/pandas/core/indexing.py:494: SettingWithCopyWarning: \n",
      "A value is trying to be set on a copy of a slice from a DataFrame.\n",
      "Try using .loc[row_indexer,col_indexer] = value instead\n",
      "\n",
      "See the caveats in the documentation: http://pandas.pydata.org/pandas-docs/stable/user_guide/indexing.html#returning-a-view-versus-a-copy\n",
      "  self.obj[item] = s\n"
     ]
    }
   ],
   "source": [
    "# применение функции стандартизации\n",
    "numeric=['CreditScore', 'Age', 'Tenure',\n",
    "             'Balance', 'NumOfProducts', 'EstimatedSalary']\n",
    "scaler = StandardScaler()\n",
    "scaler.fit(features_train[numeric])\n",
    "features_train = scaler_method(features_train)\n",
    "features_valid = scaler_method(features_valid)\n",
    "features_test = scaler_method(features_test)\n",
    "pd.options.mode.chained_assignment = None"
   ]
  },
  {
   "cell_type": "code",
   "execution_count": 29,
   "metadata": {
    "scrolled": true
   },
   "outputs": [
    {
     "data": {
      "text/html": [
       "<div>\n",
       "<style scoped>\n",
       "    .dataframe tbody tr th:only-of-type {\n",
       "        vertical-align: middle;\n",
       "    }\n",
       "\n",
       "    .dataframe tbody tr th {\n",
       "        vertical-align: top;\n",
       "    }\n",
       "\n",
       "    .dataframe thead th {\n",
       "        text-align: right;\n",
       "    }\n",
       "</style>\n",
       "<table border=\"1\" class=\"dataframe\">\n",
       "  <thead>\n",
       "    <tr style=\"text-align: right;\">\n",
       "      <th></th>\n",
       "      <th>CreditScore</th>\n",
       "      <th>Age</th>\n",
       "      <th>Tenure</th>\n",
       "      <th>Balance</th>\n",
       "      <th>NumOfProducts</th>\n",
       "      <th>HasCrCard</th>\n",
       "      <th>IsActiveMember</th>\n",
       "      <th>EstimatedSalary</th>\n",
       "      <th>Geography_Germany</th>\n",
       "      <th>Geography_Spain</th>\n",
       "      <th>Gender_Male</th>\n",
       "    </tr>\n",
       "  </thead>\n",
       "  <tbody>\n",
       "    <tr>\n",
       "      <td>7479</td>\n",
       "      <td>-0.886751</td>\n",
       "      <td>-0.373192</td>\n",
       "      <td>1.027273</td>\n",
       "      <td>1.232268</td>\n",
       "      <td>-0.891560</td>\n",
       "      <td>1</td>\n",
       "      <td>0</td>\n",
       "      <td>-0.187698</td>\n",
       "      <td>0</td>\n",
       "      <td>1</td>\n",
       "      <td>1</td>\n",
       "    </tr>\n",
       "    <tr>\n",
       "      <td>3411</td>\n",
       "      <td>0.608663</td>\n",
       "      <td>-0.183385</td>\n",
       "      <td>1.027273</td>\n",
       "      <td>0.600556</td>\n",
       "      <td>-0.891560</td>\n",
       "      <td>0</td>\n",
       "      <td>0</td>\n",
       "      <td>-0.333940</td>\n",
       "      <td>0</td>\n",
       "      <td>0</td>\n",
       "      <td>0</td>\n",
       "    </tr>\n",
       "    <tr>\n",
       "      <td>6027</td>\n",
       "      <td>2.052152</td>\n",
       "      <td>0.480939</td>\n",
       "      <td>-0.707790</td>\n",
       "      <td>1.027096</td>\n",
       "      <td>0.830152</td>\n",
       "      <td>0</td>\n",
       "      <td>1</td>\n",
       "      <td>1.503095</td>\n",
       "      <td>1</td>\n",
       "      <td>0</td>\n",
       "      <td>1</td>\n",
       "    </tr>\n",
       "    <tr>\n",
       "      <td>1247</td>\n",
       "      <td>-1.457915</td>\n",
       "      <td>-1.417129</td>\n",
       "      <td>0.333248</td>\n",
       "      <td>-1.233162</td>\n",
       "      <td>0.830152</td>\n",
       "      <td>1</td>\n",
       "      <td>0</td>\n",
       "      <td>-1.071058</td>\n",
       "      <td>0</td>\n",
       "      <td>0</td>\n",
       "      <td>1</td>\n",
       "    </tr>\n",
       "    <tr>\n",
       "      <td>3716</td>\n",
       "      <td>0.130961</td>\n",
       "      <td>-1.132419</td>\n",
       "      <td>-1.054802</td>\n",
       "      <td>1.140469</td>\n",
       "      <td>-0.891560</td>\n",
       "      <td>0</td>\n",
       "      <td>0</td>\n",
       "      <td>1.524276</td>\n",
       "      <td>1</td>\n",
       "      <td>0</td>\n",
       "      <td>0</td>\n",
       "    </tr>\n",
       "  </tbody>\n",
       "</table>\n",
       "</div>"
      ],
      "text/plain": [
       "      CreditScore       Age    Tenure   Balance  NumOfProducts  HasCrCard  \\\n",
       "7479    -0.886751 -0.373192  1.027273  1.232268      -0.891560          1   \n",
       "3411     0.608663 -0.183385  1.027273  0.600556      -0.891560          0   \n",
       "6027     2.052152  0.480939 -0.707790  1.027096       0.830152          0   \n",
       "1247    -1.457915 -1.417129  0.333248 -1.233162       0.830152          1   \n",
       "3716     0.130961 -1.132419 -1.054802  1.140469      -0.891560          0   \n",
       "\n",
       "      IsActiveMember  EstimatedSalary  Geography_Germany  Geography_Spain  \\\n",
       "7479               0        -0.187698                  0                1   \n",
       "3411               0        -0.333940                  0                0   \n",
       "6027               1         1.503095                  1                0   \n",
       "1247               0        -1.071058                  0                0   \n",
       "3716               0         1.524276                  1                0   \n",
       "\n",
       "      Gender_Male  \n",
       "7479            1  \n",
       "3411            0  \n",
       "6027            1  \n",
       "1247            1  \n",
       "3716            0  "
      ]
     },
     "execution_count": 29,
     "metadata": {},
     "output_type": "execute_result"
    }
   ],
   "source": [
    "# вывод первых пяти значений реобразованных признаков обучающей выборки\n",
    "features_train.head()"
   ]
  },
  {
   "cell_type": "markdown",
   "metadata": {},
   "source": [
    "**Вывод:**"
   ]
  },
  {
   "cell_type": "markdown",
   "metadata": {},
   "source": [
    "Данные изучены и подготовлены к обучению."
   ]
  },
  {
   "cell_type": "markdown",
   "metadata": {},
   "source": [
    "### Шаг 2. Исследование задачи"
   ]
  },
  {
   "cell_type": "markdown",
   "metadata": {},
   "source": [
    "Перед рассмотрением моделей машинного обучения, применимых к поставленной задаче, посмотрим на процентное соотношение классов целевого признака. Графически представим картину ушедших и оставшихся клиентов банка."
   ]
  },
  {
   "cell_type": "code",
   "execution_count": 30,
   "metadata": {
    "scrolled": true
   },
   "outputs": [
    {
     "data": {
      "text/plain": [
       "Text(0.5, 1.0, 'Диаграмма распределения количества ушедших и оставшихся клиентов банка')"
      ]
     },
     "execution_count": 30,
     "metadata": {},
     "output_type": "execute_result"
    },
    {
     "data": {
      "image/png": "[encoded data removed]",
      "text/plain": [
       "<Figure size 1200x600 with 1 Axes>"
      ]
     },
     "metadata": {},
     "output_type": "display_data"
    }
   ],
   "source": [
    "# графическое представление классового распределение целевого признака\n",
    "data = pd.DataFrame({'Exited':target})\n",
    "f, ax = plt.subplots(figsize=(12, 6))\n",
    "sns.despine(f)\n",
    "sns.countplot(data=data, x='Exited', palette='pastel')\n",
    "ax.set_title('Диаграмма распределения количества ушедших и оставшихся клиентов банка')"
   ]
  },
  {
   "cell_type": "markdown",
   "metadata": {},
   "source": [
    "На диаграмме хорошо просматривается превалирование отрицательного класса, т.е. клиентов, которые остались в банке. Однако клиенты, отказавшиеся от услуг банка, составляют около 20% от общего количества. Отток клиентов чётко выражен, как и сообщали банковские маркетологи.\n",
    "\n",
    "Такой дисбаланс классов может привести к худшему качеству моделей машинного обучения, т.к. алгоритмы в основном будут обучаться на данных большего по размерам класса. Пока не будем учитывать дисбаланс классов и посмотрим, как отработают модели."
   ]
  },
  {
   "cell_type": "markdown",
   "metadata": {},
   "source": [
    "Рассмотрим три модели машинного обучения:\n",
    "* `решающее дерево`\n",
    "* `случайный лес`\n",
    "* `логистическая регрессия`\n",
    "\n",
    "По метрикам *F1-score* и *AUC-ROC*, а также по скоросте работы алгоритма оценим модели по качеству. Также посмотрим на изменение таких метрик, как *recall* и *precision*, по которым рассчитывается метрика *F1-score*."
   ]
  },
  {
   "cell_type": "code",
   "execution_count": 31,
   "metadata": {
    "scrolled": true
   },
   "outputs": [
    {
     "name": "stdout",
     "output_type": "stream",
     "text": [
      "F1-score лучшей модели:\n",
      "0.57\n",
      "Глубина дерева max_depth лучшей модели:\n",
      "9\n",
      "CPU times: user 149 ms, sys: 4.08 ms, total: 154 ms\n",
      "Wall time: 152 ms\n"
     ]
    },
    {
     "name": "stderr",
     "output_type": "stream",
     "text": [
      "/opt/conda/lib/python3.7/site-packages/sklearn/metrics/classification.py:1437: UndefinedMetricWarning: F-score is ill-defined and being set to 0.0 due to no predicted samples.\n",
      "  'precision', 'predicted', average, warn_for)\n"
     ]
    }
   ],
   "source": [
    "%%time\n",
    "# модель решающего дерева\n",
    "best_model = None\n",
    "best_result = 0\n",
    "best_max_depth = 0\n",
    "for depth in range(1, 11):\n",
    "    model = DecisionTreeClassifier(random_state=12345, max_depth=depth)\n",
    "    model.fit(features_train, target_train)\n",
    "    predicted_valid = model.predict(features_valid)\n",
    "    result = f1_score(target_valid, predicted_valid)\n",
    "    if result > best_result:\n",
    "        best_model = model\n",
    "        best_result = result\n",
    "        best_max_depth = depth\n",
    "\n",
    "print('F1-score лучшей модели:', round(best_result, 2),\n",
    "      'Глубина дерева max_depth лучшей модели:', best_max_depth, sep='\\n')"
   ]
  },
  {
   "cell_type": "code",
   "execution_count": 32,
   "metadata": {},
   "outputs": [],
   "source": [
    "# функция расчёта метрик качества модели\n",
    "def metrics(features, target):\n",
    "    probabilities_valid = model.predict_proba(features)\n",
    "    probabilities_one_valid = probabilities_valid[:, 1]\n",
    "    auc_roc = roc_auc_score(target, probabilities_one_valid)\n",
    "    recall = recall_score(target_valid, predicted_valid)\n",
    "    precision = precision_score(target_valid, predicted_valid)\n",
    "    confusion = confusion_matrix(target_valid, predicted_valid)\n",
    "    \n",
    "    return print('AUC-ROC модели:', round(auc_roc, 2),\n",
    "    'Recall модели:', round(recall, 2),\n",
    "    'Precision модели:', round(precision, 2), \n",
    "    'Матрица неточностей модели:', confusion, sep='\\n')"
   ]
  },
  {
   "cell_type": "code",
   "execution_count": 33,
   "metadata": {},
   "outputs": [
    {
     "name": "stdout",
     "output_type": "stream",
     "text": [
      "AUC-ROC модели:\n",
      "0.77\n",
      "Recall модели:\n",
      "0.46\n",
      "Precision модели:\n",
      "0.64\n",
      "Матрица неточностей модели:\n",
      "[[1474  108]\n",
      " [ 224  194]]\n"
     ]
    }
   ],
   "source": [
    "# применение функции к модели решающего дерева\n",
    "metrics(features_valid, target_valid)"
   ]
  },
  {
   "cell_type": "markdown",
   "metadata": {},
   "source": [
    "При обучении на несбалансированной выборке модель решающего дерева показала лучший результат при значении гиперпараметра *max_depth = 9*; среднее гармоническое метрик *precision* и *recall*, а именно *F1-score*, составляет меньше 0.6, метрика AUC-ROC составляет около 0.8. В данном примере дисбаланс классов больше повлиял на метрику *F1-score*, в частности на величину *recall*, **долю TP-ответов среди всех, у которых истинная метка 1**. TP-ответов достаточно мало из-за немногочисленности положительного класса, что может приводить к занижению метрики полноты *recall*. Матрица неточностей так же, как и диаграмма выше указывает на превалирование отрицательного класса."
   ]
  },
  {
   "cell_type": "markdown",
   "metadata": {},
   "source": [
    "> **Примечание**\n",
    ">* TP — модель ответил \"да\" и угадала\n",
    ">* TN — модель ответил \"да\" и ошиблась\n",
    ">* FP — модель ответил \"нет\" и угадала\n",
    ">* FN — модель ответил \"нет\" и ошиблась"
   ]
  },
  {
   "cell_type": "code",
   "execution_count": 34,
   "metadata": {},
   "outputs": [
    {
     "name": "stdout",
     "output_type": "stream",
     "text": [
      "AUC-ROC модели:\n",
      "0.76\n",
      "Recall модели:\n",
      "0.24\n",
      "Precision модели:\n",
      "0.57\n",
      "Матрица неточностей модели:\n",
      "[[1506   76]\n",
      " [ 319   99]]\n",
      "None\n",
      "F1-score модели:\n",
      "0.33\n",
      "CPU times: user 60.3 ms, sys: 64.5 ms, total: 125 ms\n",
      "Wall time: 51.4 ms\n"
     ]
    }
   ],
   "source": [
    "%%time\n",
    "# модель логистической регресии\n",
    "model = LogisticRegression(solver='liblinear')\n",
    "model.fit(features_train, target_train)\n",
    "predicted_valid = model.predict(features_valid)\n",
    "\n",
    "print(metrics(features_valid, target_valid), \n",
    "      'F1-score модели:', round(f1_score(target_valid, predicted_valid), 2), sep='\\n')"
   ]
  },
  {
   "cell_type": "markdown",
   "metadata": {},
   "source": [
    "При обучении на несбалансированной выборке модель логистической регрессии показала более низкое значение метрики *f1-score* в 0.33, полнота *recall* также ниже по отношению к модели решающего дерева. Метрика AUC-ROC практически не отличается от той же метрики предыдущей модели."
   ]
  },
  {
   "cell_type": "code",
   "execution_count": 35,
   "metadata": {
    "scrolled": true
   },
   "outputs": [
    {
     "name": "stderr",
     "output_type": "stream",
     "text": [
      "/opt/conda/lib/python3.7/site-packages/sklearn/metrics/classification.py:1437: UndefinedMetricWarning: F-score is ill-defined and being set to 0.0 due to no predicted samples.\n",
      "  'precision', 'predicted', average, warn_for)\n",
      "/opt/conda/lib/python3.7/site-packages/sklearn/metrics/classification.py:1437: UndefinedMetricWarning: F-score is ill-defined and being set to 0.0 due to no predicted samples.\n",
      "  'precision', 'predicted', average, warn_for)\n",
      "/opt/conda/lib/python3.7/site-packages/sklearn/metrics/classification.py:1437: UndefinedMetricWarning: F-score is ill-defined and being set to 0.0 due to no predicted samples.\n",
      "  'precision', 'predicted', average, warn_for)\n",
      "/opt/conda/lib/python3.7/site-packages/sklearn/metrics/classification.py:1437: UndefinedMetricWarning: F-score is ill-defined and being set to 0.0 due to no predicted samples.\n",
      "  'precision', 'predicted', average, warn_for)\n",
      "/opt/conda/lib/python3.7/site-packages/sklearn/metrics/classification.py:1437: UndefinedMetricWarning: F-score is ill-defined and being set to 0.0 due to no predicted samples.\n",
      "  'precision', 'predicted', average, warn_for)\n",
      "/opt/conda/lib/python3.7/site-packages/sklearn/metrics/classification.py:1437: UndefinedMetricWarning: F-score is ill-defined and being set to 0.0 due to no predicted samples.\n",
      "  'precision', 'predicted', average, warn_for)\n",
      "/opt/conda/lib/python3.7/site-packages/sklearn/metrics/classification.py:1437: UndefinedMetricWarning: F-score is ill-defined and being set to 0.0 due to no predicted samples.\n",
      "  'precision', 'predicted', average, warn_for)\n",
      "/opt/conda/lib/python3.7/site-packages/sklearn/metrics/classification.py:1437: UndefinedMetricWarning: F-score is ill-defined and being set to 0.0 due to no predicted samples.\n",
      "  'precision', 'predicted', average, warn_for)\n",
      "/opt/conda/lib/python3.7/site-packages/sklearn/metrics/classification.py:1437: UndefinedMetricWarning: F-score is ill-defined and being set to 0.0 due to no predicted samples.\n",
      "  'precision', 'predicted', average, warn_for)\n",
      "/opt/conda/lib/python3.7/site-packages/sklearn/metrics/classification.py:1437: UndefinedMetricWarning: F-score is ill-defined and being set to 0.0 due to no predicted samples.\n",
      "  'precision', 'predicted', average, warn_for)\n"
     ]
    },
    {
     "name": "stdout",
     "output_type": "stream",
     "text": [
      "F1 лучшей модели:\n",
      "0.6\n",
      "Глубина дерева max_depth лучшей модели:\n",
      "15\n",
      "Количество деревьев n_estimators лучшей модели:\n",
      "50\n",
      "AUC-ROC модели:\n",
      "0.84\n",
      "Recall модели:\n",
      "0.46\n",
      "Precision модели:\n",
      "0.77\n",
      "Матрица неточностей модели:\n",
      "[[1526   56]\n",
      " [ 226  192]]\n",
      "None\n",
      "CPU times: user 38.9 s, sys: 261 ms, total: 39.2 s\n",
      "Wall time: 39.2 s\n"
     ]
    }
   ],
   "source": [
    "%%time\n",
    "# модель случайного леса\n",
    "best_model = None\n",
    "best_result = 0\n",
    "best_max_depth = 0\n",
    "best_n_estimators = 0\n",
    "for est in range(10, 101, 10):\n",
    "    for depth in range(1, 16, 1):\n",
    "        model = RandomForestClassifier(random_state=12345, n_estimators=est, max_depth=depth)\n",
    "        model.fit(features_train, target_train)\n",
    "        predicted_valid = model.predict(features_valid)\n",
    "        result = f1_score(target_valid, predicted_valid)\n",
    "        if result > best_result:\n",
    "            best_model = model\n",
    "            best_result = result\n",
    "            best_max_depth = depth\n",
    "            best_n_estimators = est\n",
    "print('F1 лучшей модели:', round(best_result, 2),\n",
    "      'Глубина дерева max_depth лучшей модели:', best_max_depth,\n",
    "     'Количество деревьев n_estimators лучшей модели:', best_n_estimators, sep='\\n')\n",
    "print(metrics(features_valid, target_valid))"
   ]
  },
  {
   "cell_type": "markdown",
   "metadata": {},
   "source": [
    "Лучший результат на несбалансированной выборке показала модель случайного леса с гиперпараметрами *max_depth = 15* и *n_estimators = 50*. Значение метрики *F1-score* составило 0.6, метрика AUC-ROC также показала лучший результат среди моделей, а именно 0.84. Однако поиск оптимального случайного леса занял значительное количество времени."
   ]
  },
  {
   "cell_type": "markdown",
   "metadata": {},
   "source": [
    "Чтобы визуально представить значение метрики AUC-ROC(площадь под кривой TPR/FPR), построим график зависимости TPR и FPR от порога классификации для случайного леса."
   ]
  },
  {
   "cell_type": "code",
   "execution_count": 37,
   "metadata": {},
   "outputs": [
    {
     "data": {
      "image/png": "[encoded data removed]",
      "text/plain": [
       "<Figure size 1200x600 with 1 Axes>"
      ]
     },
     "metadata": {},
     "output_type": "display_data"
    }
   ],
   "source": [
    "# ROC-кривая модели случайного\n",
    "probabilities_valid = model.predict_proba(features_valid)\n",
    "probabilities_one_valid = probabilities_valid[:, 1]\n",
    "fpr, tpr, thresholds = roc_curve(target_valid, probabilities_one_valid)\n",
    "plt.figure(figsize=(12, 6))\n",
    "plt.plot(fpr, tpr, color='red')\n",
    "\n",
    "# ROC-кривая случайной модели\n",
    "plt.plot([0, 1], [0, 1], linestyle='--', color='green')\n",
    "\n",
    "plt.xlim([0, 1])\n",
    "plt.ylim([0, 1])\n",
    "plt.xlabel('False Positive Rate')\n",
    "plt.ylabel('True Positive Rate')\n",
    "plt.title('ROC-кривая')\n",
    "plt.show()"
   ]
  },
  {
   "cell_type": "markdown",
   "metadata": {},
   "source": [
    "ROC-кривая стремится к верхнему левому углу, в котором значение TPR = 1, а значение FPR = 0, т.е. все ответы угаданы правильно. ROC-кривая случайной модели представляет из себя прямую, проходящую через точки (0, 0) и (1, 1). Случайная модель с равной вероятностью относит ответ к положительному классу вне зависимости от истинного класса ответа."
   ]
  },
  {
   "cell_type": "markdown",
   "metadata": {},
   "source": [
    "**Вывод:**"
   ]
  },
  {
   "cell_type": "markdown",
   "metadata": {},
   "source": [
    "При дисбалансе классов лучше всего с задачей предсказания целевого признака *Exited* справилась **модель случайного леса**. Модель прошла проверку на валидационной выборке."
   ]
  },
  {
   "cell_type": "markdown",
   "metadata": {},
   "source": [
    "### Шаг 3. Борьба с дисбалансом"
   ]
  },
  {
   "cell_type": "markdown",
   "metadata": {},
   "source": [
    "Чтобы улучшить качество модели, попробуем разобраться с дисбалансом классов несколькими способами. Будем использовать следующие методы:\n",
    "\n",
    "* *взвешивание классов*\n",
    "* *увеличение/уменьшение выборки пропрционально большему/меньшему классу*\n",
    "* *нивелирование порога классификации*"
   ]
  },
  {
   "cell_type": "markdown",
   "metadata": {},
   "source": [
    "**Взвешивание классов**"
   ]
  },
  {
   "cell_type": "markdown",
   "metadata": {},
   "source": [
    "Алгоритмы машинного обучения считают все объекты обучающей выборки равнозначными по умолчанию. Чтобы сбалансировать выборку, придадим объектам редкого класса (*Exited = 1*) больший вес. Зададим гиперпараметр *class_weight = 'balanced'*."
   ]
  },
  {
   "cell_type": "code",
   "execution_count": 38,
   "metadata": {},
   "outputs": [
    {
     "name": "stdout",
     "output_type": "stream",
     "text": [
      "AUC-ROC модели:\n",
      "0.78\n",
      "Recall модели:\n",
      "0.67\n",
      "Precision модели:\n",
      "0.47\n",
      "Матрица неточностей модели:\n",
      "[[1270  312]\n",
      " [ 140  278]]\n",
      "None\n",
      "F1-score модели:\n",
      "0.55\n",
      "CPU times: user 33 ms, sys: 4.09 ms, total: 37.1 ms\n",
      "Wall time: 34.5 ms\n"
     ]
    }
   ],
   "source": [
    "%%time\n",
    "# модель решающего дерева\n",
    "model = DecisionTreeClassifier(random_state=12345, max_depth=9, class_weight='balanced')\n",
    "model.fit(features_train, target_train)\n",
    "predicted_valid = model.predict(features_valid)\n",
    "\n",
    "print(metrics(features_valid, target_valid), \n",
    "      'F1-score модели:', round(f1_score(target_valid, predicted_valid), 2), sep='\\n')"
   ]
  },
  {
   "cell_type": "markdown",
   "metadata": {},
   "source": [
    "Взвешивание классов в модели решающего дерева не помогло улучшить метрику *F1-score*, её значение даже уменьшилось с 0.57 до 0.55. AUC-ROC практически не изменилась."
   ]
  },
  {
   "cell_type": "code",
   "execution_count": 39,
   "metadata": {},
   "outputs": [
    {
     "name": "stdout",
     "output_type": "stream",
     "text": [
      "AUC-ROC модели:\n",
      "0.76\n",
      "Recall модели:\n",
      "0.24\n",
      "Precision модели:\n",
      "0.57\n",
      "Матрица неточностей модели:\n",
      "[[1506   76]\n",
      " [ 319   99]]\n",
      "None\n",
      "F1-score модели:\n",
      "0.33\n",
      "CPU times: user 49.5 ms, sys: 80.3 ms, total: 130 ms\n",
      "Wall time: 57.1 ms\n"
     ]
    }
   ],
   "source": [
    "%%time\n",
    "# модель логистической регресии\n",
    "model = LogisticRegression(solver='liblinear')\n",
    "model.fit(features_train, target_train)\n",
    "predicted_valid = model.predict(features_valid)\n",
    "\n",
    "print(metrics(features_valid, target_valid), \n",
    "      'F1-score модели:', round(f1_score(target_valid, predicted_valid), 2), sep='\\n')"
   ]
  },
  {
   "cell_type": "markdown",
   "metadata": {},
   "source": [
    "На модель логистической регрессии взвешивание классов не оказало никакого влияния, метрика *F1-score* также принимает низкое значение."
   ]
  },
  {
   "cell_type": "code",
   "execution_count": 40,
   "metadata": {},
   "outputs": [
    {
     "name": "stdout",
     "output_type": "stream",
     "text": [
      "AUC-ROC модели:\n",
      "0.84\n",
      "Recall модели:\n",
      "0.48\n",
      "Precision модели:\n",
      "0.75\n",
      "Матрица неточностей модели:\n",
      "[[1517   65]\n",
      " [ 218  200]]\n",
      "None\n",
      "F1-score модели:\n",
      "0.59\n",
      "CPU times: user 345 ms, sys: 4.07 ms, total: 350 ms\n",
      "Wall time: 348 ms\n"
     ]
    }
   ],
   "source": [
    "%%time\n",
    "# модель случайного леса\n",
    "model = RandomForestClassifier(random_state=12345, n_estimators=50, max_depth=15, class_weight='balanced')\n",
    "model.fit(features_train, target_train)\n",
    "predicted_valid = model.predict(features_valid)\n",
    "\n",
    "print(metrics(features_valid, target_valid), \n",
    "      'F1-score модели:', round(f1_score(target_valid, predicted_valid), 2), sep='\\n')"
   ]
  },
  {
   "cell_type": "markdown",
   "metadata": {},
   "source": [
    "Значение метрики *F1-score* модели случайного леса понизилось с 0.6 до 0.59. AUC-ROC не изменилась."
   ]
  },
  {
   "cell_type": "markdown",
   "metadata": {},
   "source": [
    "> **Прмечание:**\n",
    ">в целом `взвешивание классов` оказалось неэффективным способом борьбы с дисбалансом в данной задаче."
   ]
  },
  {
   "cell_type": "markdown",
   "metadata": {},
   "source": [
    "**Увеличение `upsampling` /уменьшение `downsamplng` выборки**"
   ]
  },
  {
   "cell_type": "markdown",
   "metadata": {},
   "source": [
    "Сначала протестируем `upsampling`, увеличение количества объектов редкого класса. В нашем случае это объекты положительного класса.\n",
    "Преобразование выборки будет происходить в такой последовательности:\n",
    "* разделим обучающую выборку на отрицательные и положительные объекты;\n",
    "* скопируем положительные объекты некоторое количество раз;\n",
    "* создадим новую обучающую выборку с учётом преобразований;\n",
    "* изменим порядок данных(перемешаем данные)"
   ]
  },
  {
   "cell_type": "markdown",
   "metadata": {},
   "source": [
    "Напишем функцию для увеличения выборки."
   ]
  },
  {
   "cell_type": "code",
   "execution_count": 41,
   "metadata": {},
   "outputs": [],
   "source": [
    "# функция увеличения выборки\n",
    "def upsample(features, target, repeat):\n",
    "    features_zeros = features[target == 0]\n",
    "    features_ones = features[target == 1]\n",
    "    target_zeros = target[target == 0]\n",
    "    target_ones = target[target == 1]\n",
    "\n",
    "    features_upsampled = pd.concat([features_zeros] + [features_ones] * repeat)\n",
    "    target_upsampled = pd.concat([target_zeros] + [target_ones] * repeat)\n",
    "    \n",
    "    features_upsampled, target_upsampled = shuffle(\n",
    "        features_upsampled, target_upsampled, random_state=12345)\n",
    "    \n",
    "    return features_upsampled, target_upsampled"
   ]
  },
  {
   "cell_type": "markdown",
   "metadata": {},
   "source": [
    "Применим функцию последовательно для трёх рассмотренных моделей машинного обучения."
   ]
  },
  {
   "cell_type": "code",
   "execution_count": 42,
   "metadata": {},
   "outputs": [
    {
     "name": "stdout",
     "output_type": "stream",
     "text": [
      "AUC-ROC модели:\n",
      "0.68\n",
      "Recall модели:\n",
      "0.49\n",
      "Precision модели:\n",
      "0.51\n",
      "Матрица неточностей модели:\n",
      "[[1388  194]\n",
      " [ 214  204]]\n",
      "None\n",
      "F1-score модели:\n",
      "0.5\n",
      "CPU times: user 46.9 ms, sys: 7.43 ms, total: 54.3 ms\n",
      "Wall time: 52 ms\n"
     ]
    }
   ],
   "source": [
    "%%time\n",
    "# модель решающего дерева\n",
    "features_upsampled, target_upsampled = upsample(features_train, target_train, 4)\n",
    "\n",
    "model = DecisionTreeClassifier(random_state=12345)\n",
    "model.fit(features_upsampled, target_upsampled)\n",
    "predicted_valid = model.predict(features_valid)\n",
    "print(metrics(features_valid, target_valid), \n",
    "      'F1-score модели:', round(f1_score(target_valid, predicted_valid), 2), sep='\\n')"
   ]
  },
  {
   "cell_type": "code",
   "execution_count": 43,
   "metadata": {},
   "outputs": [
    {
     "name": "stdout",
     "output_type": "stream",
     "text": [
      "AUC-ROC модели:\n",
      "0.76\n",
      "Recall модели:\n",
      "0.68\n",
      "Precision модели:\n",
      "0.38\n",
      "Матрица неточностей модели:\n",
      "[[1116  466]\n",
      " [ 135  283]]\n",
      "None\n",
      "F1-score модели:\n",
      "0.49\n",
      "CPU times: user 91.1 ms, sys: 107 ms, total: 198 ms\n",
      "Wall time: 169 ms\n"
     ]
    }
   ],
   "source": [
    "%%time\n",
    "# модель логистической регрессии\n",
    "features_upsampled, target_upsampled = upsample(features_train, target_train, 4)\n",
    "\n",
    "model = LogisticRegression(solver='liblinear')\n",
    "model.fit(features_upsampled, target_upsampled)\n",
    "predicted_valid = model.predict(features_valid)\n",
    "print(metrics(features_valid, target_valid), \n",
    "      'F1-score модели:', round(f1_score(target_valid, predicted_valid), 2), sep='\\n')"
   ]
  },
  {
   "cell_type": "code",
   "execution_count": 44,
   "metadata": {},
   "outputs": [
    {
     "name": "stdout",
     "output_type": "stream",
     "text": [
      "AUC-ROC модели:\n",
      "0.84\n",
      "Recall модели:\n",
      "0.58\n",
      "Precision модели:\n",
      "0.65\n",
      "Матрица неточностей модели:\n",
      "[[1449  133]\n",
      " [ 174  244]]\n",
      "None\n",
      "F1-score модели:\n",
      "0.61\n",
      "CPU times: user 496 ms, sys: 0 ns, total: 496 ms\n",
      "Wall time: 494 ms\n"
     ]
    }
   ],
   "source": [
    "%%time\n",
    "# модель случайного леса\n",
    "features_upsampled, target_upsampled = upsample(features_train, target_train, 4)\n",
    "\n",
    "model = RandomForestClassifier(random_state=12345, n_estimators=50, max_depth=15)\n",
    "model.fit(features_upsampled, target_upsampled)\n",
    "predicted_valid = model.predict(features_valid)\n",
    "print(metrics(features_valid, target_valid), \n",
    "      'F1-score модели:', round(f1_score(target_valid, predicted_valid), 2), sep='\\n')"
   ]
  },
  {
   "cell_type": "markdown",
   "metadata": {},
   "source": [
    "По сравнению со взвешиванием классов при использовании техники `upsampling` модель решающего дерева ухудшила свои показатели по оцениваемым метрикам *f1-score* и *AUC-ROC*. Модель логистической регрессии улучшила значение метрики *f1-score* на 16%. Метрика *f1-score* модели случайного леса приняла значение большее 60%, т.е. показала хороший результат."
   ]
  },
  {
   "cell_type": "markdown",
   "metadata": {},
   "source": [
    "Теперь поступим по-другому. Сократим количество объектов частого класса, в нашем случае отрицательного класса. Этапы преобразования выборки техникой `downsampling`:\n",
    "* деление обучающей выборки на отрицательные и положительные объекты;\n",
    "* отбрасывание части отрицательных объектов случайным образом;\n",
    "* создание новой выборки с учётом преобразований;\n",
    "* перемешивание данных"
   ]
  },
  {
   "cell_type": "markdown",
   "metadata": {},
   "source": [
    "Напишем функцию для уменьшения выборки."
   ]
  },
  {
   "cell_type": "code",
   "execution_count": 45,
   "metadata": {},
   "outputs": [],
   "source": [
    "# функция уменьшения выборки \n",
    "def downsample(features, target, fraction):\n",
    "    features_zeros = features[target == 0]\n",
    "    features_ones = features[target == 1]\n",
    "    target_zeros = target[target == 0]\n",
    "    target_ones = target[target == 1]\n",
    "    \n",
    "    features_downsampled = pd.concat([features_zeros.sample(frac=fraction, random_state=12345)] + [features_ones])\n",
    "    target_downsampled = pd.concat([target_zeros.sample(frac=fraction, random_state=12345)] + [target_ones])\n",
    "    features_downsampled, target_downsampled = shuffle(\n",
    "        features_downsampled, target_downsampled, random_state=12345)\n",
    "    return features_downsampled, target_downsampled "
   ]
  },
  {
   "cell_type": "markdown",
   "metadata": {},
   "source": [
    "Применим функцию последовательно для трёх рассмотренных моделей машинного обучения."
   ]
  },
  {
   "cell_type": "code",
   "execution_count": 46,
   "metadata": {},
   "outputs": [
    {
     "name": "stdout",
     "output_type": "stream",
     "text": [
      "AUC-ROC модели:\n",
      "0.69\n",
      "Recall модели:\n",
      "0.7\n",
      "Precision модели:\n",
      "0.37\n",
      "Матрица неточностей модели:\n",
      "[[1093  489]\n",
      " [ 126  292]]\n",
      "None\n",
      "F1-score модели:\n",
      "0.49\n",
      "CPU times: user 32 ms, sys: 42 µs, total: 32 ms\n",
      "Wall time: 30.4 ms\n"
     ]
    }
   ],
   "source": [
    "%%time\n",
    "# модель решающего дерева\n",
    "features_downsampled, target_downsampled = downsample(features_train, target_train, 0.25)\n",
    "\n",
    "model = DecisionTreeClassifier(random_state=12345)\n",
    "model.fit(features_downsampled, target_downsampled)\n",
    "predicted_valid = model.predict(features_valid)\n",
    "print(metrics(features_valid, target_valid), \n",
    "      'F1-score модели:', round(f1_score(target_valid, predicted_valid), 2), sep='\\n')"
   ]
  },
  {
   "cell_type": "code",
   "execution_count": 47,
   "metadata": {},
   "outputs": [
    {
     "name": "stdout",
     "output_type": "stream",
     "text": [
      "AUC-ROC модели:\n",
      "0.76\n",
      "Recall модели:\n",
      "0.66\n",
      "Precision модели:\n",
      "0.38\n",
      "Матрица неточностей модели:\n",
      "[[1124  458]\n",
      " [ 141  277]]\n",
      "None\n",
      "F1-score модели:\n",
      "0.48\n",
      "CPU times: user 90.1 ms, sys: 51.2 ms, total: 141 ms\n",
      "Wall time: 37.8 ms\n"
     ]
    }
   ],
   "source": [
    "%%time\n",
    "# модель логистической регрессии\n",
    "features_downsampled, target_downsampled = downsample(features_train, target_train, 0.25)\n",
    "\n",
    "model = LogisticRegression(solver='liblinear')\n",
    "model.fit(features_downsampled, target_downsampled)\n",
    "predicted_valid = model.predict(features_valid)\n",
    "print(metrics(features_valid, target_valid), \n",
    "      'F1-score модели:', round(f1_score(target_valid, predicted_valid), 2), sep='\\n')"
   ]
  },
  {
   "cell_type": "code",
   "execution_count": 48,
   "metadata": {
    "scrolled": true
   },
   "outputs": [
    {
     "name": "stdout",
     "output_type": "stream",
     "text": [
      "AUC-ROC модели:\n",
      "0.84\n",
      "Recall модели:\n",
      "0.58\n",
      "Precision модели:\n",
      "0.65\n",
      "Матрица неточностей модели:\n",
      "[[1449  133]\n",
      " [ 174  244]]\n",
      "None\n",
      "F1-score модели:\n",
      "0.61\n",
      "CPU times: user 490 ms, sys: 470 µs, total: 491 ms\n",
      "Wall time: 508 ms\n"
     ]
    }
   ],
   "source": [
    "%%time\n",
    "# модель случайного леса\n",
    "features_downsampled, target_downsampled = downsample(features_train, target_train, 0.25)\n",
    "\n",
    "model = RandomForestClassifier(random_state=12345, n_estimators=50, max_depth=15)\n",
    "model.fit(features_upsampled, target_upsampled)\n",
    "predicted_valid = model.predict(features_valid)\n",
    "print(metrics(features_valid, target_valid), \n",
    "      'F1-score модели:', round(f1_score(target_valid, predicted_valid), 2), sep='\\n')"
   ]
  },
  {
   "cell_type": "markdown",
   "metadata": {},
   "source": [
    "При использовании техники `downsampling` по оцениваемым показателям *f1-score* и *AUC-ROC* также лидирует модель случайного леса. Показатели данной модели не изменились относительно техники `upsampling`."
   ]
  },
  {
   "cell_type": "markdown",
   "metadata": {},
   "source": [
    "**Нивелирование порога классификации**"
   ]
  },
  {
   "cell_type": "markdown",
   "metadata": {},
   "source": [
    "Протестируем ещё один вид борьбы с дисбалансом — изменение порога классификации. Границу между отрицательным и положительным классами будет двигать в цикле и выберем лучшее значение, при котором оцениваемые метрики примут максимальные значения."
   ]
  },
  {
   "cell_type": "code",
   "execution_count": 49,
   "metadata": {},
   "outputs": [
    {
     "name": "stdout",
     "output_type": "stream",
     "text": [
      "AUC-ROC модели: 0.68\n",
      "Порог = 0.00 | Точность = 0.490 | Полнота = 0.493 | F1-мера = 0.492\n",
      "Порог = 0.02 | Точность = 0.490 | Полнота = 0.493 | F1-мера = 0.492\n",
      "Порог = 0.04 | Точность = 0.490 | Полнота = 0.493 | F1-мера = 0.492\n",
      "Порог = 0.06 | Точность = 0.490 | Полнота = 0.493 | F1-мера = 0.492\n",
      "Порог = 0.08 | Точность = 0.490 | Полнота = 0.493 | F1-мера = 0.492\n",
      "Порог = 0.10 | Точность = 0.490 | Полнота = 0.493 | F1-мера = 0.492\n",
      "Порог = 0.12 | Точность = 0.490 | Полнота = 0.493 | F1-мера = 0.492\n",
      "Порог = 0.14 | Точность = 0.490 | Полнота = 0.493 | F1-мера = 0.492\n",
      "Порог = 0.16 | Точность = 0.490 | Полнота = 0.493 | F1-мера = 0.492\n",
      "Порог = 0.18 | Точность = 0.490 | Полнота = 0.493 | F1-мера = 0.492\n",
      "Порог = 0.20 | Точность = 0.490 | Полнота = 0.493 | F1-мера = 0.492\n",
      "Порог = 0.22 | Точность = 0.490 | Полнота = 0.493 | F1-мера = 0.492\n",
      "Порог = 0.24 | Точность = 0.490 | Полнота = 0.493 | F1-мера = 0.492\n",
      "Порог = 0.26 | Точность = 0.490 | Полнота = 0.493 | F1-мера = 0.492\n",
      "Порог = 0.28 | Точность = 0.490 | Полнота = 0.493 | F1-мера = 0.492\n",
      "Порог = 0.30 | Точность = 0.490 | Полнота = 0.493 | F1-мера = 0.492\n",
      "Порог = 0.32 | Точность = 0.490 | Полнота = 0.493 | F1-мера = 0.492\n",
      "Порог = 0.34 | Точность = 0.490 | Полнота = 0.493 | F1-мера = 0.492\n",
      "Порог = 0.36 | Точность = 0.490 | Полнота = 0.493 | F1-мера = 0.492\n",
      "Порог = 0.38 | Точность = 0.490 | Полнота = 0.493 | F1-мера = 0.492\n",
      "Порог = 0.40 | Точность = 0.490 | Полнота = 0.493 | F1-мера = 0.492\n",
      "Порог = 0.42 | Точность = 0.490 | Полнота = 0.493 | F1-мера = 0.492\n",
      "Порог = 0.44 | Точность = 0.490 | Полнота = 0.493 | F1-мера = 0.492\n",
      "Порог = 0.46 | Точность = 0.490 | Полнота = 0.493 | F1-мера = 0.492\n",
      "Порог = 0.48 | Точность = 0.490 | Полнота = 0.493 | F1-мера = 0.492\n",
      "CPU times: user 139 ms, sys: 4.38 ms, total: 143 ms\n",
      "Wall time: 138 ms\n"
     ]
    }
   ],
   "source": [
    "%%time\n",
    "# модель решающего дерева\n",
    "model = DecisionTreeClassifier(random_state=12345)\n",
    "model.fit(features_train, target_train)\n",
    "probabilities_valid = model.predict_proba(features_valid)\n",
    "probabilities_one_valid = probabilities_valid[:, 1]\n",
    "auc_roc = roc_auc_score(target_valid, probabilities_one_valid)\n",
    "print('AUC-ROC модели:', round(auc_roc, 2))\n",
    "\n",
    "for threshold in np.arange(0, 0.5, 0.02):\n",
    "    predicted_valid = probabilities_one_valid > threshold\n",
    "    precision = precision_score(target_valid, predicted_valid)\n",
    "    recall = recall_score(target_valid, predicted_valid)\n",
    "    f1 = f1_score(target_valid, predicted_valid)\n",
    "    \n",
    "    print(\"Порог = {:.2f} | Точность = {:.3f} | Полнота = {:.3f} | F1-мера = {:.3f}\".format(\n",
    "        threshold, precision, recall, f1))"
   ]
  },
  {
   "cell_type": "code",
   "execution_count": 50,
   "metadata": {},
   "outputs": [
    {
     "name": "stdout",
     "output_type": "stream",
     "text": [
      "AUC-ROC модели: 0.76\n",
      "Порог = 0.00 | Точность = 0.209 | Полнота = 1.000 | F1-мера = 0.346\n",
      "Порог = 0.02 | Точность = 0.211 | Полнота = 1.000 | F1-мера = 0.349\n",
      "Порог = 0.04 | Точность = 0.226 | Полнота = 0.990 | F1-мера = 0.368\n",
      "Порог = 0.06 | Точность = 0.245 | Полнота = 0.967 | F1-мера = 0.391\n",
      "Порог = 0.08 | Точность = 0.258 | Полнота = 0.923 | F1-мера = 0.403\n",
      "Порог = 0.10 | Точность = 0.276 | Полнота = 0.897 | F1-мера = 0.422\n",
      "Порог = 0.12 | Точность = 0.299 | Полнота = 0.864 | F1-мера = 0.444\n",
      "Порог = 0.14 | Точность = 0.323 | Полнота = 0.823 | F1-мера = 0.464\n",
      "Порог = 0.16 | Точность = 0.336 | Полнота = 0.770 | F1-мера = 0.468\n",
      "Порог = 0.18 | Точность = 0.359 | Полнота = 0.732 | F1-мера = 0.482\n",
      "Порог = 0.20 | Точность = 0.369 | Полнота = 0.677 | F1-мера = 0.478\n",
      "Порог = 0.22 | Точность = 0.387 | Полнота = 0.634 | F1-мера = 0.481\n",
      "Порог = 0.24 | Точность = 0.415 | Полнота = 0.617 | F1-мера = 0.496\n",
      "Порог = 0.26 | Точность = 0.440 | Полнота = 0.593 | F1-мера = 0.505\n",
      "Порог = 0.28 | Точность = 0.436 | Полнота = 0.543 | F1-мера = 0.483\n",
      "Порог = 0.30 | Точность = 0.456 | Полнота = 0.519 | F1-мера = 0.485\n",
      "Порог = 0.32 | Точность = 0.470 | Полнота = 0.483 | F1-мера = 0.476\n",
      "Порог = 0.34 | Точность = 0.482 | Полнота = 0.440 | F1-мера = 0.460\n",
      "Порог = 0.36 | Точность = 0.487 | Полнота = 0.402 | F1-мера = 0.440\n",
      "Порог = 0.38 | Точность = 0.497 | Полнота = 0.366 | F1-мера = 0.421\n",
      "Порог = 0.40 | Точность = 0.500 | Полнота = 0.328 | F1-мера = 0.396\n",
      "Порог = 0.42 | Точность = 0.502 | Полнота = 0.306 | F1-мера = 0.380\n",
      "Порог = 0.44 | Точность = 0.522 | Полнота = 0.287 | F1-мера = 0.370\n",
      "Порог = 0.46 | Точность = 0.550 | Полнота = 0.278 | F1-мера = 0.369\n",
      "Порог = 0.48 | Точность = 0.554 | Полнота = 0.256 | F1-мера = 0.350\n",
      "CPU times: user 214 ms, sys: 174 ms, total: 388 ms\n",
      "Wall time: 305 ms\n"
     ]
    }
   ],
   "source": [
    "%%time\n",
    "# модель логистической регрессии\n",
    "model = LogisticRegression(solver='liblinear')\n",
    "model.fit(features_train, target_train)\n",
    "probabilities_valid = model.predict_proba(features_valid)\n",
    "probabilities_one_valid = probabilities_valid[:, 1]\n",
    "\n",
    "auc_roc = roc_auc_score(target_valid, probabilities_one_valid)\n",
    "print('AUC-ROC модели:', round(auc_roc, 2))\n",
    "\n",
    "for threshold in np.arange(0, 0.5, 0.02):\n",
    "    predicted_valid = probabilities_one_valid > threshold\n",
    "    precision = precision_score(target_valid, predicted_valid)\n",
    "    recall = recall_score(target_valid, predicted_valid)\n",
    "    f1 = f1_score(target_valid, predicted_valid)\n",
    "    \n",
    "    print(\"Порог = {:.2f} | Точность = {:.3f} | Полнота = {:.3f} | F1-мера = {:.3f}\".format(\n",
    "        threshold, precision, recall, f1))"
   ]
  },
  {
   "cell_type": "code",
   "execution_count": 51,
   "metadata": {
    "scrolled": true
   },
   "outputs": [
    {
     "name": "stdout",
     "output_type": "stream",
     "text": [
      "AUC-ROC модели: 0.84\n",
      "Порог = 0.00 | Точность = 0.213 | Полнота = 0.998 | F1-мера = 0.351\n",
      "Порог = 0.02 | Точность = 0.235 | Полнота = 0.969 | F1-мера = 0.378\n",
      "Порог = 0.04 | Точность = 0.261 | Полнота = 0.952 | F1-мера = 0.409\n",
      "Порог = 0.06 | Точность = 0.287 | Полнота = 0.931 | F1-мера = 0.439\n",
      "Порог = 0.08 | Точность = 0.313 | Полнота = 0.907 | F1-мера = 0.466\n",
      "Порог = 0.10 | Точность = 0.333 | Полнота = 0.883 | F1-мера = 0.484\n",
      "Порог = 0.12 | Точность = 0.355 | Полнота = 0.856 | F1-мера = 0.502\n",
      "Порог = 0.14 | Точность = 0.384 | Полнота = 0.840 | F1-мера = 0.527\n",
      "Порог = 0.16 | Точность = 0.405 | Полнота = 0.806 | F1-мера = 0.539\n",
      "Порог = 0.18 | Точность = 0.432 | Полнота = 0.789 | F1-мера = 0.558\n",
      "Порог = 0.20 | Точность = 0.458 | Полнота = 0.766 | F1-мера = 0.573\n",
      "Порог = 0.22 | Точность = 0.475 | Полнота = 0.742 | F1-мера = 0.579\n",
      "Порог = 0.24 | Точность = 0.490 | Полнота = 0.708 | F1-мера = 0.579\n",
      "Порог = 0.26 | Точность = 0.529 | Полнота = 0.701 | F1-мера = 0.603\n",
      "Порог = 0.28 | Точность = 0.550 | Полнота = 0.682 | F1-мера = 0.609\n",
      "Порог = 0.30 | Точность = 0.572 | Полнота = 0.648 | F1-мера = 0.608\n",
      "Порог = 0.32 | Точность = 0.592 | Полнота = 0.632 | F1-мера = 0.611\n",
      "Порог = 0.34 | Точность = 0.613 | Полнота = 0.615 | F1-мера = 0.614\n",
      "Порог = 0.36 | Точность = 0.641 | Полнота = 0.598 | F1-мера = 0.619\n",
      "Порог = 0.38 | Точность = 0.680 | Полнота = 0.579 | F1-мера = 0.625\n",
      "Порог = 0.40 | Точность = 0.696 | Полнота = 0.560 | F1-мера = 0.621\n",
      "Порог = 0.42 | Точность = 0.708 | Полнота = 0.541 | F1-мера = 0.613\n",
      "Порог = 0.44 | Точность = 0.720 | Полнота = 0.529 | F1-мера = 0.610\n",
      "Порог = 0.46 | Точность = 0.740 | Полнота = 0.517 | F1-мера = 0.608\n",
      "Порог = 0.48 | Точность = 0.770 | Полнота = 0.495 | F1-мера = 0.603\n",
      "CPU times: user 421 ms, sys: 12.5 ms, total: 433 ms\n",
      "Wall time: 434 ms\n"
     ]
    }
   ],
   "source": [
    "%%time\n",
    "# модель случайного леса\n",
    "model = RandomForestClassifier(random_state=12345, n_estimators=50, max_depth=15)\n",
    "model.fit(features_train, target_train)\n",
    "probabilities_valid = model.predict_proba(features_valid)\n",
    "probabilities_one_valid = probabilities_valid[:, 1]\n",
    "auc_roc = roc_auc_score(target_valid, probabilities_one_valid)\n",
    "print('AUC-ROC модели:', round(auc_roc, 2))\n",
    "\n",
    "for threshold in np.arange(0, 0.5, 0.02):\n",
    "    predicted_valid = probabilities_one_valid > threshold\n",
    "    precision = precision_score(target_valid, predicted_valid)\n",
    "    recall = recall_score(target_valid, predicted_valid)\n",
    "    f1 = f1_score(target_valid, predicted_valid)\n",
    "    \n",
    "    print(\"Порог = {:.2f} | Точность = {:.3f} | Полнота = {:.3f} | F1-мера = {:.3f}\".format(\n",
    "        threshold, precision, recall, f1))"
   ]
  },
  {
   "cell_type": "markdown",
   "metadata": {},
   "source": [
    "Показатели модели решающего дерева не менялись в зависимости от порога классификации. Модель логистической регрессии при пороге классификации в 0.36 показала свой лучший результат — *f1-score = 0.505*. Самый высокий результат показала модель случайного леса при пороге классификации в 0.38. На тестирование пропустим **модель случайного леса** с порогом классификации в 0.38 и эту же модель, но с использовнием техники `upsampling` и `downsampling`."
   ]
  },
  {
   "cell_type": "markdown",
   "metadata": {},
   "source": [
    "**Вывод:**"
   ]
  },
  {
   "cell_type": "markdown",
   "metadata": {},
   "source": [
    "Учтён дисбаланс классов при построении моделей машинного обучения. Отобраны лучшие модели для тестирования."
   ]
  },
  {
   "cell_type": "markdown",
   "metadata": {},
   "source": [
    "### Шаг 4. Тестирование модели"
   ]
  },
  {
   "cell_type": "markdown",
   "metadata": {},
   "source": [
    "Проведём тестирование трёх отобранных моделей и выберем лучшую."
   ]
  },
  {
   "cell_type": "code",
   "execution_count": 52,
   "metadata": {},
   "outputs": [
    {
     "name": "stdout",
     "output_type": "stream",
     "text": [
      "Порог = 0.38 | Точность = 0.480 | Полнота = 0.677 | F1-мера = 0.546 | Площадь под кривой AUC-ROC = 0.60 \n",
      "CPU times: user 325 ms, sys: 564 µs, total: 326 ms\n",
      "Wall time: 324 ms\n"
     ]
    }
   ],
   "source": [
    "%%time\n",
    "# модель случайного леса с изменённым порогом классификации\n",
    "model = RandomForestClassifier(random_state=12345, n_estimators=50, max_depth=15)\n",
    "model.fit(features_train, target_train)\n",
    "probabilities_test = model.predict_proba(features_test)\n",
    "probabilities_one_test = probabilities_test[:, 1]\n",
    "\n",
    "predicted_test = probabilities_one_test > 0.38\n",
    "precision = precision_score(target_test, predicted_test)\n",
    "recall = recall_score(target_test, predicted_test)\n",
    "f1 = f1_score(target_test, predicted_test)\n",
    "auc_roc = roc_auc_score(target_test, probabilities_one_test)\n",
    "    \n",
    "print(\"Порог = 0.38 | Точность = {:.3f} | Полнота = {:.3f} | F1-мера = {:.3f} | Площадь под кривой AUC-ROC = {:.2f} \".format(\n",
    "    threshold, precision, recall, f1, auc_roc))"
   ]
  },
  {
   "cell_type": "code",
   "execution_count": 53,
   "metadata": {},
   "outputs": [
    {
     "name": "stdout",
     "output_type": "stream",
     "text": [
      "AUC-ROC модели:\n",
      "0.84\n",
      "Recall модели:\n",
      "0.5\n",
      "Precision модели:\n",
      "0.77\n",
      "Матрица неточностей модели:\n",
      "[[1520   62]\n",
      " [ 211  207]]\n",
      "None\n",
      "F1-score модели:\n",
      "0.603\n",
      "CPU times: user 499 ms, sys: 471 µs, total: 499 ms\n",
      "Wall time: 497 ms\n"
     ]
    }
   ],
   "source": [
    "%%time\n",
    "# модель случайного леса с увеличенной выборкой\n",
    "features_upsampled, target_upsampled = upsample(features_train, target_train, 4)\n",
    "\n",
    "model = RandomForestClassifier(random_state=12345, n_estimators=50, max_depth=15)\n",
    "model.fit(features_upsampled, target_upsampled)\n",
    "predicted_test = model.predict(features_test)\n",
    "print(metrics(features_valid, target_valid), \n",
    "      'F1-score модели:', round(f1_score(target_valid, predicted_valid), 3), sep='\\n')"
   ]
  },
  {
   "cell_type": "code",
   "execution_count": 54,
   "metadata": {
    "scrolled": true
   },
   "outputs": [
    {
     "name": "stdout",
     "output_type": "stream",
     "text": [
      "AUC-ROC модели:\n",
      "0.84\n",
      "Recall модели:\n",
      "0.5\n",
      "Precision модели:\n",
      "0.77\n",
      "Матрица неточностей модели:\n",
      "[[1520   62]\n",
      " [ 211  207]]\n",
      "None\n",
      "F1-score модели:\n",
      "0.603\n",
      "CPU times: user 505 ms, sys: 407 µs, total: 506 ms\n",
      "Wall time: 511 ms\n"
     ]
    }
   ],
   "source": [
    "%%time\n",
    "# модель случайного леса с уменьшенной выборкой\n",
    "features_downsampled, target_downsampled = downsample(features_train, target_train, 0.25)\n",
    "\n",
    "model = RandomForestClassifier(random_state=12345, n_estimators=50, max_depth=15)\n",
    "model.fit(features_upsampled, target_upsampled)\n",
    "predicted_test = model.predict(features_test)\n",
    "print(metrics(features_valid, target_valid), \n",
    "      'F1-score модели:', round(f1_score(target_valid, predicted_valid), 3), sep='\\n')"
   ]
  },
  {
   "cell_type": "markdown",
   "metadata": {},
   "source": [
    "Не смотря на то что модель случайного леса с порогом классификации в 0.38 показала самый высокий результат на валидационной выборке, её метрика *F1-score* на тестовой выборке приняла более низкое значение. Модели случайного леса с увеличенной и уменьшенной выборкой показали одинаково высокие значения метрик качества: *AUC-ROC = 0.84, F1-score = 0.603*."
   ]
  },
  {
   "cell_type": "markdown",
   "metadata": {},
   "source": [
    "**Вывод:**"
   ]
  },
  {
   "cell_type": "markdown",
   "metadata": {},
   "source": [
    "Проведено тестирование отобранных моделей машинного обучения. Найдена лучшая модель."
   ]
  },
  {
   "cell_type": "markdown",
   "metadata": {},
   "source": [
    "### Шаг 5. Общий вывод"
   ]
  },
  {
   "cell_type": "markdown",
   "metadata": {},
   "source": [
    "В результате исследования отобрана наиболее высокая по качеству модель — **модель случайного леса, обученная с использованием техник `downsampling` или `upsampling`(обе техники показали одинаково высокие значения оцениваемых метрик)**. Метрика качества *F1-score* доведена до достаточно высокого значения в **0.603**, а метрика *AUC-ROC* показала результат в **0.84**, который является хорошим показателем *(максимальное значение метрик — 1)*. В целом метрика *AUC-ROC* демонстрировала более высокие значения, чем метрика *F1-score* вне зависимости от баланса классов, т.е. показатель *AUC-ROC* менее чувствителен к дисбалансу классов. Поэтому предпочтение в выборе модели отдавалось показателю *F1-score*, в который входит метрика *precision*, явно реагирующая на дисбаланс. По времени работы модель случайного леса уступает остальным моделям, однако приоритетом в данном случае время не обладает."
   ]
  },
  {
   "cell_type": "code",
   "execution_count": 60,
   "metadata": {},
   "outputs": [
    {
     "data": {
      "image/png": "[encoded data removed]",
      "text/plain": [
       "<Figure size 1200x800 with 1 Axes>"
      ]
     },
     "metadata": {},
     "output_type": "display_data"
    }
   ],
   "source": [
    "# вывод графика важности признаков\n",
    "importances = model.feature_importances_\n",
    "forest_importances = pd.Series(importances, index=features_train.columns)\n",
    "\n",
    "fig, ax = plt.subplots()\n",
    "forest_importances.sort_values(ascending=False).plot.bar(figsize=(12,8))\n",
    "ax.set_title(\"Feature importances\")\n",
    "for label in (ax.get_xticklabels() + ax.get_yticklabels()):\n",
    "    label.set_fontsize(12)\n",
    "fig.tight_layout()"
   ]
  }
 ],
 "metadata": {
  "ExecuteTimeLog": [
   {
    "duration": 391,
    "start_time": "2022-02-05T14:22:49.464Z"
   },
   {
    "duration": 1995,
    "start_time": "2022-02-05T14:22:53.759Z"
   },
   {
    "duration": 6591,
    "start_time": "2022-02-05T14:22:56.308Z"
   },
   {
    "duration": -125,
    "start_time": "2022-02-05T14:23:03.027Z"
   },
   {
    "duration": 6191,
    "start_time": "2022-02-05T14:23:05.622Z"
   },
   {
    "duration": 6324,
    "start_time": "2022-02-05T14:36:23.676Z"
   },
   {
    "duration": 736,
    "start_time": "2022-02-05T14:37:37.613Z"
   },
   {
    "duration": 657,
    "start_time": "2022-02-05T14:46:59.127Z"
   },
   {
    "duration": 241,
    "start_time": "2022-02-05T15:03:32.398Z"
   },
   {
    "duration": 233,
    "start_time": "2022-02-05T15:03:47.838Z"
   },
   {
    "duration": 27,
    "start_time": "2022-02-05T15:03:57.902Z"
   },
   {
    "duration": 382,
    "start_time": "2022-02-05T15:33:40.237Z"
   },
   {
    "duration": 330,
    "start_time": "2022-02-05T15:33:43.868Z"
   },
   {
    "duration": 5,
    "start_time": "2022-02-05T15:34:06.589Z"
   },
   {
    "duration": 8876,
    "start_time": "2022-02-05T15:34:09.388Z"
   },
   {
    "duration": 6194,
    "start_time": "2022-02-05T15:34:45.900Z"
   },
   {
    "duration": 5618,
    "start_time": "2022-02-05T15:37:52.155Z"
   },
   {
    "duration": 6117,
    "start_time": "2022-02-05T15:39:06.875Z"
   },
   {
    "duration": 5667,
    "start_time": "2022-02-05T15:51:59.313Z"
   },
   {
    "duration": 7,
    "start_time": "2022-02-05T16:05:50.217Z"
   },
   {
    "duration": 7579,
    "start_time": "2022-02-05T16:05:52.541Z"
   },
   {
    "duration": 5925,
    "start_time": "2022-02-05T16:06:22.284Z"
   },
   {
    "duration": 8,
    "start_time": "2022-02-05T16:06:59.429Z"
   },
   {
    "duration": 9,
    "start_time": "2022-02-05T16:08:46.393Z"
   },
   {
    "duration": 8,
    "start_time": "2022-02-05T16:09:16.281Z"
   },
   {
    "duration": 20,
    "start_time": "2022-02-05T16:12:58.678Z"
   },
   {
    "duration": 5374,
    "start_time": "2022-02-05T16:16:04.887Z"
   },
   {
    "duration": 5354,
    "start_time": "2022-02-05T16:16:16.486Z"
   },
   {
    "duration": 135,
    "start_time": "2022-02-05T16:18:21.061Z"
   },
   {
    "duration": 162,
    "start_time": "2022-02-05T16:18:26.564Z"
   },
   {
    "duration": 12,
    "start_time": "2022-02-05T16:18:39.795Z"
   },
   {
    "duration": 6824,
    "start_time": "2022-02-05T16:18:49.892Z"
   },
   {
    "duration": 8,
    "start_time": "2022-02-05T16:18:59.779Z"
   },
   {
    "duration": 7871,
    "start_time": "2022-02-05T16:21:14.995Z"
   },
   {
    "duration": 11,
    "start_time": "2022-02-05T16:21:22.882Z"
   },
   {
    "duration": 6064,
    "start_time": "2022-02-05T16:21:34.018Z"
   },
   {
    "duration": -196,
    "start_time": "2022-02-05T16:21:40.281Z"
   },
   {
    "duration": 898,
    "start_time": "2022-02-05T16:23:22.802Z"
   },
   {
    "duration": 955,
    "start_time": "2022-02-05T16:23:35.442Z"
   },
   {
    "duration": 890,
    "start_time": "2022-02-05T16:23:43.283Z"
   },
   {
    "duration": 3102,
    "start_time": "2022-02-05T16:24:47.824Z"
   },
   {
    "duration": 2725,
    "start_time": "2022-02-05T16:27:18.145Z"
   },
   {
    "duration": 1013,
    "start_time": "2022-02-05T16:29:02.031Z"
   },
   {
    "duration": 860,
    "start_time": "2022-02-05T16:29:21.742Z"
   },
   {
    "duration": 915,
    "start_time": "2022-02-05T16:29:41.998Z"
   },
   {
    "duration": 2529,
    "start_time": "2022-02-05T16:30:49.326Z"
   },
   {
    "duration": 1167,
    "start_time": "2022-02-05T16:31:03.166Z"
   },
   {
    "duration": 896,
    "start_time": "2022-02-05T16:31:36.734Z"
   },
   {
    "duration": 4874,
    "start_time": "2022-02-05T16:33:16.925Z"
   },
   {
    "duration": 2619,
    "start_time": "2022-02-05T16:33:40.508Z"
   },
   {
    "duration": 2924,
    "start_time": "2022-02-05T16:36:07.822Z"
   },
   {
    "duration": 2575,
    "start_time": "2022-02-05T16:36:20.889Z"
   },
   {
    "duration": 948,
    "start_time": "2022-02-05T16:36:28.283Z"
   },
   {
    "duration": 2483,
    "start_time": "2022-02-05T16:36:39.688Z"
   },
   {
    "duration": 2553,
    "start_time": "2022-02-05T16:39:33.736Z"
   },
   {
    "duration": 8,
    "start_time": "2022-02-05T16:39:59.227Z"
   },
   {
    "duration": 5,
    "start_time": "2022-02-05T16:39:59.239Z"
   },
   {
    "duration": 2574,
    "start_time": "2022-02-05T16:39:59.248Z"
   },
   {
    "duration": 873,
    "start_time": "2022-02-05T16:41:50.374Z"
   },
   {
    "duration": 3339,
    "start_time": "2022-02-05T16:42:33.046Z"
   },
   {
    "duration": 891,
    "start_time": "2022-02-05T16:42:39.526Z"
   },
   {
    "duration": 2483,
    "start_time": "2022-02-05T16:43:39.508Z"
   },
   {
    "duration": 2323,
    "start_time": "2022-02-05T16:47:29.897Z"
   },
   {
    "duration": 3024,
    "start_time": "2022-02-05T16:49:31.283Z"
   },
   {
    "duration": 835,
    "start_time": "2022-02-05T16:49:55.250Z"
   },
   {
    "duration": 18,
    "start_time": "2022-02-05T16:50:11.521Z"
   },
   {
    "duration": 2805,
    "start_time": "2022-02-05T16:51:45.154Z"
   },
   {
    "duration": 2559,
    "start_time": "2022-02-05T16:51:53.776Z"
   },
   {
    "duration": 2345,
    "start_time": "2022-02-05T16:52:12.704Z"
   },
   {
    "duration": 2589,
    "start_time": "2022-02-05T16:57:27.534Z"
   },
   {
    "duration": 2241,
    "start_time": "2022-02-05T16:57:45.922Z"
   },
   {
    "duration": 2362,
    "start_time": "2022-02-05T16:58:03.645Z"
   },
   {
    "duration": 2353,
    "start_time": "2022-02-05T16:58:20.077Z"
   },
   {
    "duration": 2456,
    "start_time": "2022-02-05T16:58:38.908Z"
   },
   {
    "duration": 2608,
    "start_time": "2022-02-05T17:00:57.180Z"
   },
   {
    "duration": 2433,
    "start_time": "2022-02-05T17:03:14.155Z"
   },
   {
    "duration": 2629,
    "start_time": "2022-02-05T17:03:49.467Z"
   },
   {
    "duration": 2462,
    "start_time": "2022-02-05T17:04:04.490Z"
   },
   {
    "duration": 2815,
    "start_time": "2022-02-05T17:06:14.939Z"
   },
   {
    "duration": 102,
    "start_time": "2022-02-05T17:06:49.016Z"
   },
   {
    "duration": 2630,
    "start_time": "2022-02-05T17:06:56.887Z"
   },
   {
    "duration": 2315,
    "start_time": "2022-02-05T17:07:05.432Z"
   },
   {
    "duration": 2728,
    "start_time": "2022-02-05T17:08:22.328Z"
   },
   {
    "duration": 3979,
    "start_time": "2022-02-05T17:08:53.801Z"
   },
   {
    "duration": 6,
    "start_time": "2022-02-05T17:10:43.632Z"
   },
   {
    "duration": 8,
    "start_time": "2022-02-05T17:10:43.641Z"
   },
   {
    "duration": 822,
    "start_time": "2022-02-05T17:10:43.652Z"
   },
   {
    "duration": 18,
    "start_time": "2022-02-05T17:10:44.477Z"
   },
   {
    "duration": 3,
    "start_time": "2022-02-05T17:10:58.487Z"
   },
   {
    "duration": 119,
    "start_time": "2022-02-05T17:14:19.346Z"
   },
   {
    "duration": 12,
    "start_time": "2022-02-05T17:20:18.096Z"
   },
   {
    "duration": 60,
    "start_time": "2022-02-05T17:20:28.337Z"
   },
   {
    "duration": 6,
    "start_time": "2022-02-05T17:25:18.446Z"
   },
   {
    "duration": 9,
    "start_time": "2022-02-05T17:25:34.253Z"
   },
   {
    "duration": 565,
    "start_time": "2022-02-05T17:35:35.160Z"
   },
   {
    "duration": 2495,
    "start_time": "2022-02-05T17:35:46.023Z"
   },
   {
    "duration": 11793,
    "start_time": "2022-02-05T17:36:26.521Z"
   },
   {
    "duration": 8,
    "start_time": "2022-02-05T17:36:47.863Z"
   },
   {
    "duration": 9230,
    "start_time": "2022-02-05T17:36:52.695Z"
   },
   {
    "duration": 8663,
    "start_time": "2022-02-05T17:37:43.447Z"
   },
   {
    "duration": 8,
    "start_time": "2022-02-05T17:38:30.326Z"
   },
   {
    "duration": 8504,
    "start_time": "2022-02-05T17:39:00.550Z"
   },
   {
    "duration": 9,
    "start_time": "2022-02-05T17:39:18.390Z"
   },
   {
    "duration": 8,
    "start_time": "2022-02-05T17:39:32.630Z"
   },
   {
    "duration": -229,
    "start_time": "2022-02-05T17:39:50.331Z"
   },
   {
    "duration": 8458,
    "start_time": "2022-02-05T17:39:50.757Z"
   },
   {
    "duration": 8,
    "start_time": "2022-02-05T17:40:17.364Z"
   },
   {
    "duration": 8,
    "start_time": "2022-02-05T17:40:17.375Z"
   },
   {
    "duration": 677,
    "start_time": "2022-02-05T17:40:17.387Z"
   },
   {
    "duration": 2,
    "start_time": "2022-02-05T17:40:18.067Z"
   },
   {
    "duration": 6,
    "start_time": "2022-02-05T17:40:18.072Z"
   },
   {
    "duration": 18,
    "start_time": "2022-02-05T17:40:18.080Z"
   },
   {
    "duration": 12,
    "start_time": "2022-02-05T17:40:18.100Z"
   },
   {
    "duration": 61,
    "start_time": "2022-02-05T17:40:18.124Z"
   },
   {
    "duration": 10,
    "start_time": "2022-02-05T17:40:18.187Z"
   },
   {
    "duration": 8,
    "start_time": "2022-02-05T17:40:28.165Z"
   },
   {
    "duration": 15,
    "start_time": "2022-02-05T17:40:35.892Z"
   },
   {
    "duration": 34,
    "start_time": "2022-02-05T17:41:21.460Z"
   },
   {
    "duration": 6,
    "start_time": "2022-02-05T17:41:36.231Z"
   },
   {
    "duration": 8,
    "start_time": "2022-02-05T17:41:36.240Z"
   },
   {
    "duration": 603,
    "start_time": "2022-02-05T17:41:36.251Z"
   },
   {
    "duration": 3,
    "start_time": "2022-02-05T17:41:36.857Z"
   },
   {
    "duration": 7,
    "start_time": "2022-02-05T17:41:36.862Z"
   },
   {
    "duration": 19,
    "start_time": "2022-02-05T17:41:36.871Z"
   },
   {
    "duration": 12,
    "start_time": "2022-02-05T17:41:36.892Z"
   },
   {
    "duration": 61,
    "start_time": "2022-02-05T17:41:36.924Z"
   },
   {
    "duration": 9,
    "start_time": "2022-02-05T17:41:36.988Z"
   },
   {
    "duration": 8,
    "start_time": "2022-02-05T17:41:37.024Z"
   },
   {
    "duration": 24,
    "start_time": "2022-02-05T17:41:47.396Z"
   },
   {
    "duration": 9,
    "start_time": "2022-02-05T17:41:53.957Z"
   },
   {
    "duration": 306,
    "start_time": "2022-02-05T17:42:32.266Z"
   },
   {
    "duration": 23,
    "start_time": "2022-02-05T17:42:41.028Z"
   },
   {
    "duration": 407,
    "start_time": "2022-02-05T17:43:29.301Z"
   },
   {
    "duration": 7,
    "start_time": "2022-02-05T17:43:39.325Z"
   },
   {
    "duration": 5,
    "start_time": "2022-02-05T17:43:39.335Z"
   },
   {
    "duration": 867,
    "start_time": "2022-02-05T17:43:39.343Z"
   },
   {
    "duration": 3,
    "start_time": "2022-02-05T17:43:40.213Z"
   },
   {
    "duration": 8,
    "start_time": "2022-02-05T17:43:40.219Z"
   },
   {
    "duration": 19,
    "start_time": "2022-02-05T17:43:40.229Z"
   },
   {
    "duration": 13,
    "start_time": "2022-02-05T17:43:40.250Z"
   },
   {
    "duration": 74,
    "start_time": "2022-02-05T17:43:40.266Z"
   },
   {
    "duration": 8,
    "start_time": "2022-02-05T17:43:40.343Z"
   },
   {
    "duration": 24,
    "start_time": "2022-02-05T17:43:42.884Z"
   },
   {
    "duration": 351,
    "start_time": "2022-02-05T17:45:08.563Z"
   },
   {
    "duration": 302,
    "start_time": "2022-02-05T17:45:15.890Z"
   },
   {
    "duration": 5,
    "start_time": "2022-02-05T17:45:31.923Z"
   },
   {
    "duration": 6,
    "start_time": "2022-02-05T17:45:36.165Z"
   },
   {
    "duration": 8,
    "start_time": "2022-02-05T17:45:36.173Z"
   },
   {
    "duration": 624,
    "start_time": "2022-02-05T17:45:36.184Z"
   },
   {
    "duration": 3,
    "start_time": "2022-02-05T17:45:36.811Z"
   },
   {
    "duration": 21,
    "start_time": "2022-02-05T17:45:36.816Z"
   },
   {
    "duration": 22,
    "start_time": "2022-02-05T17:45:36.840Z"
   },
   {
    "duration": 12,
    "start_time": "2022-02-05T17:45:36.864Z"
   },
   {
    "duration": 68,
    "start_time": "2022-02-05T17:45:36.879Z"
   },
   {
    "duration": 9,
    "start_time": "2022-02-05T17:45:36.950Z"
   },
   {
    "duration": 7,
    "start_time": "2022-02-05T17:45:41.762Z"
   },
   {
    "duration": 5,
    "start_time": "2022-02-05T17:45:53.874Z"
   },
   {
    "duration": 35,
    "start_time": "2022-02-05T17:46:01.330Z"
   },
   {
    "duration": 34,
    "start_time": "2022-02-05T17:46:59.938Z"
   },
   {
    "duration": 18,
    "start_time": "2022-02-05T17:47:22.258Z"
   },
   {
    "duration": 30,
    "start_time": "2022-02-05T17:47:42.593Z"
   },
   {
    "duration": 28,
    "start_time": "2022-02-05T17:48:24.817Z"
   },
   {
    "duration": 16,
    "start_time": "2022-02-05T17:48:36.002Z"
   },
   {
    "duration": 18,
    "start_time": "2022-02-05T17:48:49.488Z"
   },
   {
    "duration": 19,
    "start_time": "2022-02-05T17:49:02.688Z"
   },
   {
    "duration": 33,
    "start_time": "2022-02-05T17:50:44.384Z"
   },
   {
    "duration": 22,
    "start_time": "2022-02-05T17:51:12.992Z"
   },
   {
    "duration": 32,
    "start_time": "2022-02-05T17:51:35.199Z"
   },
   {
    "duration": 39,
    "start_time": "2022-02-05T17:51:50.688Z"
   },
   {
    "duration": 30,
    "start_time": "2022-02-05T17:53:08.831Z"
   },
   {
    "duration": 30,
    "start_time": "2022-02-05T17:53:22.414Z"
   },
   {
    "duration": 26,
    "start_time": "2022-02-05T17:54:00.687Z"
   },
   {
    "duration": 27,
    "start_time": "2022-02-05T17:54:08.237Z"
   },
   {
    "duration": 27,
    "start_time": "2022-02-05T17:54:10.541Z"
   },
   {
    "duration": 6,
    "start_time": "2022-02-05T17:54:14.034Z"
   },
   {
    "duration": 10,
    "start_time": "2022-02-05T17:54:14.043Z"
   },
   {
    "duration": 617,
    "start_time": "2022-02-05T17:54:14.056Z"
   },
   {
    "duration": 3,
    "start_time": "2022-02-05T17:54:14.675Z"
   },
   {
    "duration": 6,
    "start_time": "2022-02-05T17:54:14.680Z"
   },
   {
    "duration": 13,
    "start_time": "2022-02-05T17:54:14.688Z"
   },
   {
    "duration": 11,
    "start_time": "2022-02-05T17:54:14.704Z"
   },
   {
    "duration": 52,
    "start_time": "2022-02-05T17:54:14.717Z"
   },
   {
    "duration": 9,
    "start_time": "2022-02-05T17:54:14.772Z"
   },
   {
    "duration": 6,
    "start_time": "2022-02-05T17:54:14.784Z"
   },
   {
    "duration": 33,
    "start_time": "2022-02-05T17:54:14.792Z"
   },
   {
    "duration": 27,
    "start_time": "2022-02-05T17:54:17.500Z"
   },
   {
    "duration": 7,
    "start_time": "2022-02-05T17:54:27.248Z"
   },
   {
    "duration": 6,
    "start_time": "2022-02-05T17:54:27.259Z"
   },
   {
    "duration": 628,
    "start_time": "2022-02-05T17:54:27.270Z"
   },
   {
    "duration": 3,
    "start_time": "2022-02-05T17:54:27.901Z"
   },
   {
    "duration": 6,
    "start_time": "2022-02-05T17:54:27.906Z"
   },
   {
    "duration": 13,
    "start_time": "2022-02-05T17:54:27.914Z"
   },
   {
    "duration": 14,
    "start_time": "2022-02-05T17:54:27.929Z"
   },
   {
    "duration": 51,
    "start_time": "2022-02-05T17:54:27.945Z"
   },
   {
    "duration": 30,
    "start_time": "2022-02-05T17:54:27.999Z"
   },
   {
    "duration": 7,
    "start_time": "2022-02-05T17:54:28.031Z"
   },
   {
    "duration": 6,
    "start_time": "2022-02-05T17:54:28.040Z"
   },
   {
    "duration": 26,
    "start_time": "2022-02-05T17:54:30.893Z"
   },
   {
    "duration": 1622,
    "start_time": "2022-02-05T17:54:47.121Z"
   },
   {
    "duration": 3,
    "start_time": "2022-02-05T17:54:48.745Z"
   },
   {
    "duration": 650,
    "start_time": "2022-02-05T17:54:48.751Z"
   },
   {
    "duration": 4,
    "start_time": "2022-02-05T17:54:49.404Z"
   },
   {
    "duration": 5,
    "start_time": "2022-02-05T17:54:49.410Z"
   },
   {
    "duration": 30,
    "start_time": "2022-02-05T17:54:49.417Z"
   },
   {
    "duration": 13,
    "start_time": "2022-02-05T17:54:49.450Z"
   },
   {
    "duration": 86,
    "start_time": "2022-02-05T17:54:49.466Z"
   },
   {
    "duration": 11,
    "start_time": "2022-02-05T17:54:49.555Z"
   },
   {
    "duration": 8,
    "start_time": "2022-02-05T17:54:49.568Z"
   },
   {
    "duration": 4,
    "start_time": "2022-02-05T17:54:49.579Z"
   },
   {
    "duration": 30,
    "start_time": "2022-02-05T17:54:53.038Z"
   },
   {
    "duration": 6,
    "start_time": "2022-02-05T18:08:12.394Z"
   },
   {
    "duration": 7,
    "start_time": "2022-02-05T18:08:12.403Z"
   },
   {
    "duration": 1033,
    "start_time": "2022-02-05T18:08:12.414Z"
   },
   {
    "duration": 3,
    "start_time": "2022-02-05T18:08:13.450Z"
   },
   {
    "duration": 7,
    "start_time": "2022-02-05T18:08:13.456Z"
   },
   {
    "duration": 23,
    "start_time": "2022-02-05T18:08:13.466Z"
   },
   {
    "duration": 44,
    "start_time": "2022-02-05T18:08:13.493Z"
   },
   {
    "duration": 96,
    "start_time": "2022-02-05T18:08:13.540Z"
   },
   {
    "duration": 10,
    "start_time": "2022-02-05T18:08:13.639Z"
   },
   {
    "duration": 41,
    "start_time": "2022-02-05T18:08:13.651Z"
   },
   {
    "duration": 6,
    "start_time": "2022-02-05T18:08:18.053Z"
   },
   {
    "duration": 34,
    "start_time": "2022-02-05T18:12:00.373Z"
   },
   {
    "duration": 549,
    "start_time": "2022-02-05T18:23:25.759Z"
   },
   {
    "duration": 437,
    "start_time": "2022-02-05T18:23:42.481Z"
   },
   {
    "duration": -275,
    "start_time": "2022-02-05T18:23:43.196Z"
   },
   {
    "duration": -287,
    "start_time": "2022-02-05T18:23:43.210Z"
   },
   {
    "duration": -296,
    "start_time": "2022-02-05T18:23:43.221Z"
   },
   {
    "duration": -297,
    "start_time": "2022-02-05T18:23:43.224Z"
   },
   {
    "duration": -298,
    "start_time": "2022-02-05T18:23:43.226Z"
   },
   {
    "duration": -301,
    "start_time": "2022-02-05T18:23:43.230Z"
   },
   {
    "duration": -303,
    "start_time": "2022-02-05T18:23:43.233Z"
   },
   {
    "duration": -304,
    "start_time": "2022-02-05T18:23:43.236Z"
   },
   {
    "duration": -305,
    "start_time": "2022-02-05T18:23:43.238Z"
   },
   {
    "duration": -308,
    "start_time": "2022-02-05T18:23:43.242Z"
   },
   {
    "duration": -313,
    "start_time": "2022-02-05T18:23:43.249Z"
   },
   {
    "duration": 323,
    "start_time": "2022-02-05T18:24:10.094Z"
   },
   {
    "duration": 117,
    "start_time": "2022-02-05T18:24:40.361Z"
   },
   {
    "duration": 3,
    "start_time": "2022-02-05T18:24:40.480Z"
   },
   {
    "duration": 664,
    "start_time": "2022-02-05T18:24:40.487Z"
   },
   {
    "duration": 3,
    "start_time": "2022-02-05T18:24:41.154Z"
   },
   {
    "duration": 9,
    "start_time": "2022-02-05T18:24:41.160Z"
   },
   {
    "duration": 28,
    "start_time": "2022-02-05T18:24:41.171Z"
   },
   {
    "duration": 24,
    "start_time": "2022-02-05T18:24:41.202Z"
   },
   {
    "duration": 59,
    "start_time": "2022-02-05T18:24:41.228Z"
   },
   {
    "duration": 38,
    "start_time": "2022-02-05T18:24:41.291Z"
   },
   {
    "duration": 11,
    "start_time": "2022-02-05T18:24:41.332Z"
   },
   {
    "duration": 23,
    "start_time": "2022-02-05T18:24:41.346Z"
   },
   {
    "duration": 65,
    "start_time": "2022-02-05T18:24:41.372Z"
   },
   {
    "duration": 639,
    "start_time": "2022-02-05T18:24:46.221Z"
   },
   {
    "duration": 88,
    "start_time": "2022-02-05T18:25:02.407Z"
   },
   {
    "duration": 5,
    "start_time": "2022-02-05T18:25:02.497Z"
   },
   {
    "duration": 675,
    "start_time": "2022-02-05T18:25:02.522Z"
   },
   {
    "duration": 3,
    "start_time": "2022-02-05T18:25:03.200Z"
   },
   {
    "duration": 6,
    "start_time": "2022-02-05T18:25:03.205Z"
   },
   {
    "duration": 20,
    "start_time": "2022-02-05T18:25:03.213Z"
   },
   {
    "duration": 15,
    "start_time": "2022-02-05T18:25:03.236Z"
   },
   {
    "duration": 108,
    "start_time": "2022-02-05T18:25:03.255Z"
   },
   {
    "duration": 13,
    "start_time": "2022-02-05T18:25:03.375Z"
   },
   {
    "duration": 19,
    "start_time": "2022-02-05T18:25:03.391Z"
   },
   {
    "duration": 32,
    "start_time": "2022-02-05T18:25:03.413Z"
   },
   {
    "duration": 42,
    "start_time": "2022-02-05T18:25:03.447Z"
   },
   {
    "duration": 309,
    "start_time": "2022-02-05T18:25:09.453Z"
   },
   {
    "duration": 296,
    "start_time": "2022-02-05T18:27:04.061Z"
   },
   {
    "duration": 317,
    "start_time": "2022-02-05T18:28:38.715Z"
   },
   {
    "duration": 64,
    "start_time": "2022-02-05T18:34:13.864Z"
   },
   {
    "duration": 79,
    "start_time": "2022-02-05T18:34:26.358Z"
   },
   {
    "duration": 56,
    "start_time": "2022-02-05T18:35:51.878Z"
   },
   {
    "duration": 56,
    "start_time": "2022-02-05T18:36:10.885Z"
   },
   {
    "duration": 79,
    "start_time": "2022-02-05T18:36:15.414Z"
   },
   {
    "duration": 6,
    "start_time": "2022-02-05T18:39:01.466Z"
   },
   {
    "duration": 14,
    "start_time": "2022-02-05T18:39:01.475Z"
   },
   {
    "duration": 796,
    "start_time": "2022-02-05T18:39:01.492Z"
   },
   {
    "duration": 3,
    "start_time": "2022-02-05T18:39:02.291Z"
   },
   {
    "duration": 10,
    "start_time": "2022-02-05T18:39:02.297Z"
   },
   {
    "duration": 25,
    "start_time": "2022-02-05T18:39:02.310Z"
   },
   {
    "duration": 16,
    "start_time": "2022-02-05T18:39:02.338Z"
   },
   {
    "duration": 107,
    "start_time": "2022-02-05T18:39:02.357Z"
   },
   {
    "duration": 10,
    "start_time": "2022-02-05T18:39:02.469Z"
   },
   {
    "duration": 7,
    "start_time": "2022-02-05T18:39:02.481Z"
   },
   {
    "duration": 6,
    "start_time": "2022-02-05T18:39:02.523Z"
   },
   {
    "duration": 29,
    "start_time": "2022-02-05T18:39:05.157Z"
   },
   {
    "duration": 13,
    "start_time": "2022-02-05T18:39:17.139Z"
   },
   {
    "duration": 352,
    "start_time": "2022-02-05T18:39:20.836Z"
   },
   {
    "duration": 41,
    "start_time": "2022-02-05T18:39:25.492Z"
   },
   {
    "duration": 46,
    "start_time": "2022-02-05T18:39:29.491Z"
   },
   {
    "duration": 421,
    "start_time": "2022-02-05T18:53:07.309Z"
   },
   {
    "duration": 571,
    "start_time": "2022-02-05T18:53:23.934Z"
   },
   {
    "duration": 423,
    "start_time": "2022-02-05T18:55:24.478Z"
   },
   {
    "duration": 6,
    "start_time": "2022-02-05T18:55:38.768Z"
   },
   {
    "duration": 8,
    "start_time": "2022-02-05T18:55:38.776Z"
   },
   {
    "duration": 681,
    "start_time": "2022-02-05T18:55:38.787Z"
   },
   {
    "duration": 3,
    "start_time": "2022-02-05T18:55:39.471Z"
   },
   {
    "duration": 6,
    "start_time": "2022-02-05T18:55:39.476Z"
   },
   {
    "duration": 88,
    "start_time": "2022-02-05T18:55:39.485Z"
   },
   {
    "duration": 16,
    "start_time": "2022-02-05T18:55:39.576Z"
   },
   {
    "duration": 80,
    "start_time": "2022-02-05T18:55:39.595Z"
   },
   {
    "duration": 10,
    "start_time": "2022-02-05T18:55:39.679Z"
   },
   {
    "duration": 6,
    "start_time": "2022-02-05T18:55:39.723Z"
   },
   {
    "duration": 5,
    "start_time": "2022-02-05T18:55:39.732Z"
   },
   {
    "duration": 30,
    "start_time": "2022-02-05T18:55:39.740Z"
   },
   {
    "duration": 53,
    "start_time": "2022-02-05T18:55:39.772Z"
   },
   {
    "duration": 330,
    "start_time": "2022-02-05T18:55:39.827Z"
   },
   {
    "duration": 73,
    "start_time": "2022-02-05T18:55:40.159Z"
   },
   {
    "duration": 46,
    "start_time": "2022-02-05T18:55:40.324Z"
   },
   {
    "duration": 402,
    "start_time": "2022-02-05T18:55:43.052Z"
   },
   {
    "duration": 326,
    "start_time": "2022-02-05T19:00:39.305Z"
   },
   {
    "duration": 9,
    "start_time": "2022-02-05T19:00:56.533Z"
   },
   {
    "duration": 4,
    "start_time": "2022-02-05T19:00:56.546Z"
   },
   {
    "duration": 830,
    "start_time": "2022-02-05T19:00:56.554Z"
   },
   {
    "duration": 3,
    "start_time": "2022-02-05T19:00:57.387Z"
   },
   {
    "duration": 9,
    "start_time": "2022-02-05T19:00:57.392Z"
   },
   {
    "duration": 25,
    "start_time": "2022-02-05T19:00:57.403Z"
   },
   {
    "duration": 12,
    "start_time": "2022-02-05T19:00:57.432Z"
   },
   {
    "duration": 90,
    "start_time": "2022-02-05T19:00:57.446Z"
   },
   {
    "duration": 10,
    "start_time": "2022-02-05T19:00:57.538Z"
   },
   {
    "duration": 8,
    "start_time": "2022-02-05T19:00:57.550Z"
   },
   {
    "duration": 6,
    "start_time": "2022-02-05T19:00:57.560Z"
   },
   {
    "duration": 76,
    "start_time": "2022-02-05T19:00:57.568Z"
   },
   {
    "duration": 12,
    "start_time": "2022-02-05T19:00:57.647Z"
   },
   {
    "duration": 338,
    "start_time": "2022-02-05T19:00:57.661Z"
   },
   {
    "duration": 38,
    "start_time": "2022-02-05T19:00:58.002Z"
   },
   {
    "duration": 139,
    "start_time": "2022-02-05T19:00:58.125Z"
   },
   {
    "duration": 331,
    "start_time": "2022-02-05T19:01:56.089Z"
   },
   {
    "duration": 6,
    "start_time": "2022-02-05T19:02:02.091Z"
   },
   {
    "duration": 13,
    "start_time": "2022-02-05T19:02:02.100Z"
   },
   {
    "duration": 652,
    "start_time": "2022-02-05T19:02:02.117Z"
   },
   {
    "duration": 4,
    "start_time": "2022-02-05T19:02:02.773Z"
   },
   {
    "duration": 9,
    "start_time": "2022-02-05T19:02:02.780Z"
   },
   {
    "duration": 19,
    "start_time": "2022-02-05T19:02:02.792Z"
   },
   {
    "duration": 17,
    "start_time": "2022-02-05T19:02:02.813Z"
   },
   {
    "duration": 91,
    "start_time": "2022-02-05T19:02:02.834Z"
   },
   {
    "duration": 10,
    "start_time": "2022-02-05T19:02:02.927Z"
   },
   {
    "duration": 7,
    "start_time": "2022-02-05T19:02:02.940Z"
   },
   {
    "duration": 7,
    "start_time": "2022-02-05T19:02:02.949Z"
   },
   {
    "duration": 82,
    "start_time": "2022-02-05T19:02:02.959Z"
   },
   {
    "duration": 12,
    "start_time": "2022-02-05T19:02:03.044Z"
   },
   {
    "duration": 353,
    "start_time": "2022-02-05T19:02:03.058Z"
   },
   {
    "duration": 118,
    "start_time": "2022-02-05T19:02:03.413Z"
   },
   {
    "duration": 50,
    "start_time": "2022-02-05T19:02:03.623Z"
   },
   {
    "duration": 324,
    "start_time": "2022-02-05T19:02:05.672Z"
   },
   {
    "duration": 7,
    "start_time": "2022-02-05T19:02:23.405Z"
   },
   {
    "duration": 8,
    "start_time": "2022-02-05T19:02:23.414Z"
   },
   {
    "duration": 638,
    "start_time": "2022-02-05T19:02:23.425Z"
   },
   {
    "duration": 4,
    "start_time": "2022-02-05T19:02:24.065Z"
   },
   {
    "duration": 9,
    "start_time": "2022-02-05T19:02:24.071Z"
   },
   {
    "duration": 20,
    "start_time": "2022-02-05T19:02:24.082Z"
   },
   {
    "duration": 19,
    "start_time": "2022-02-05T19:02:24.104Z"
   },
   {
    "duration": 60,
    "start_time": "2022-02-05T19:02:24.127Z"
   },
   {
    "duration": 40,
    "start_time": "2022-02-05T19:02:24.191Z"
   },
   {
    "duration": 8,
    "start_time": "2022-02-05T19:02:24.233Z"
   },
   {
    "duration": 7,
    "start_time": "2022-02-05T19:02:24.243Z"
   },
   {
    "duration": 73,
    "start_time": "2022-02-05T19:02:24.252Z"
   },
   {
    "duration": 13,
    "start_time": "2022-02-05T19:02:24.328Z"
   },
   {
    "duration": 324,
    "start_time": "2022-02-05T19:02:24.344Z"
   },
   {
    "duration": 61,
    "start_time": "2022-02-05T19:02:24.671Z"
   },
   {
    "duration": 46,
    "start_time": "2022-02-05T19:02:24.824Z"
   },
   {
    "duration": 383,
    "start_time": "2022-02-05T19:02:27.192Z"
   },
   {
    "duration": 538,
    "start_time": "2022-02-05T19:02:38.873Z"
   },
   {
    "duration": 446,
    "start_time": "2022-02-05T19:03:09.209Z"
   },
   {
    "duration": 1990,
    "start_time": "2022-02-05T19:03:20.156Z"
   },
   {
    "duration": 1962,
    "start_time": "2022-02-05T19:03:37.207Z"
   },
   {
    "duration": 1998,
    "start_time": "2022-02-05T19:04:21.783Z"
   },
   {
    "duration": 2224,
    "start_time": "2022-02-05T19:05:19.016Z"
   },
   {
    "duration": 2136,
    "start_time": "2022-02-05T19:05:44.102Z"
   },
   {
    "duration": 2123,
    "start_time": "2022-02-05T19:08:45.204Z"
   },
   {
    "duration": 2053,
    "start_time": "2022-02-05T19:08:57.460Z"
   },
   {
    "duration": 71378,
    "start_time": "2022-02-05T19:12:02.707Z"
   },
   {
    "duration": 58959,
    "start_time": "2022-02-05T19:14:00.785Z"
   },
   {
    "duration": 55,
    "start_time": "2022-02-05T19:17:08.815Z"
   },
   {
    "duration": 6,
    "start_time": "2022-02-05T19:17:22.482Z"
   },
   {
    "duration": 9,
    "start_time": "2022-02-05T19:17:22.492Z"
   },
   {
    "duration": 722,
    "start_time": "2022-02-05T19:17:22.505Z"
   },
   {
    "duration": 3,
    "start_time": "2022-02-05T19:17:23.231Z"
   },
   {
    "duration": 5,
    "start_time": "2022-02-05T19:17:23.237Z"
   },
   {
    "duration": 41,
    "start_time": "2022-02-05T19:17:23.245Z"
   },
   {
    "duration": 42,
    "start_time": "2022-02-05T19:17:23.289Z"
   },
   {
    "duration": 60,
    "start_time": "2022-02-05T19:17:23.335Z"
   },
   {
    "duration": 31,
    "start_time": "2022-02-05T19:17:23.398Z"
   },
   {
    "duration": 10,
    "start_time": "2022-02-05T19:17:23.431Z"
   },
   {
    "duration": 7,
    "start_time": "2022-02-05T19:17:23.443Z"
   },
   {
    "duration": 34,
    "start_time": "2022-02-05T19:17:23.452Z"
   },
   {
    "duration": 13,
    "start_time": "2022-02-05T19:17:23.523Z"
   },
   {
    "duration": 347,
    "start_time": "2022-02-05T19:17:23.539Z"
   },
   {
    "duration": 58,
    "start_time": "2022-02-05T19:17:27.167Z"
   },
   {
    "duration": 9,
    "start_time": "2022-02-05T19:17:28.656Z"
   },
   {
    "duration": 49,
    "start_time": "2022-02-05T19:18:27.822Z"
   },
   {
    "duration": 9,
    "start_time": "2022-02-05T19:18:30.928Z"
   },
   {
    "duration": 6,
    "start_time": "2022-02-05T19:21:10.450Z"
   },
   {
    "duration": 5,
    "start_time": "2022-02-05T19:21:10.459Z"
   },
   {
    "duration": 605,
    "start_time": "2022-02-05T19:21:10.467Z"
   },
   {
    "duration": 3,
    "start_time": "2022-02-05T19:21:11.075Z"
   },
   {
    "duration": 5,
    "start_time": "2022-02-05T19:21:11.081Z"
   },
   {
    "duration": 24,
    "start_time": "2022-02-05T19:21:11.089Z"
   },
   {
    "duration": 14,
    "start_time": "2022-02-05T19:21:11.116Z"
   },
   {
    "duration": 62,
    "start_time": "2022-02-05T19:21:11.133Z"
   },
   {
    "duration": 34,
    "start_time": "2022-02-05T19:21:11.199Z"
   },
   {
    "duration": 9,
    "start_time": "2022-02-05T19:21:11.236Z"
   },
   {
    "duration": 6,
    "start_time": "2022-02-05T19:21:11.248Z"
   },
   {
    "duration": 84,
    "start_time": "2022-02-05T19:21:11.256Z"
   },
   {
    "duration": 13,
    "start_time": "2022-02-05T19:21:11.342Z"
   },
   {
    "duration": 352,
    "start_time": "2022-02-05T19:21:11.357Z"
   },
   {
    "duration": 32,
    "start_time": "2022-02-05T19:21:11.711Z"
   },
   {
    "duration": 90,
    "start_time": "2022-02-05T19:21:11.745Z"
   },
   {
    "duration": 450,
    "start_time": "2022-02-05T19:21:14.604Z"
   },
   {
    "duration": 336,
    "start_time": "2022-02-05T19:21:27.473Z"
   },
   {
    "duration": 360,
    "start_time": "2022-02-05T19:21:58.301Z"
   },
   {
    "duration": 5,
    "start_time": "2022-02-05T19:22:29.372Z"
   },
   {
    "duration": 8,
    "start_time": "2022-02-05T19:22:43.328Z"
   },
   {
    "duration": 4,
    "start_time": "2022-02-05T19:22:43.340Z"
   },
   {
    "duration": 637,
    "start_time": "2022-02-05T19:22:43.348Z"
   },
   {
    "duration": 4,
    "start_time": "2022-02-05T19:22:43.988Z"
   },
   {
    "duration": 4,
    "start_time": "2022-02-05T19:22:43.996Z"
   },
   {
    "duration": 24,
    "start_time": "2022-02-05T19:22:44.004Z"
   },
   {
    "duration": 15,
    "start_time": "2022-02-05T19:22:44.033Z"
   },
   {
    "duration": 99,
    "start_time": "2022-02-05T19:22:44.052Z"
   },
   {
    "duration": 10,
    "start_time": "2022-02-05T19:22:44.154Z"
   },
   {
    "duration": 7,
    "start_time": "2022-02-05T19:22:44.166Z"
   },
   {
    "duration": 6,
    "start_time": "2022-02-05T19:22:44.175Z"
   },
   {
    "duration": 67,
    "start_time": "2022-02-05T19:22:44.183Z"
   },
   {
    "duration": 12,
    "start_time": "2022-02-05T19:22:44.252Z"
   },
   {
    "duration": 349,
    "start_time": "2022-02-05T19:22:44.267Z"
   },
   {
    "duration": 106,
    "start_time": "2022-02-05T19:22:44.619Z"
   },
   {
    "duration": 104,
    "start_time": "2022-02-05T19:22:44.728Z"
   },
   {
    "duration": 255,
    "start_time": "2022-02-05T19:23:30.909Z"
   },
   {
    "duration": 7,
    "start_time": "2022-02-05T19:24:03.663Z"
   },
   {
    "duration": 16,
    "start_time": "2022-02-05T19:24:03.672Z"
   },
   {
    "duration": 1914,
    "start_time": "2022-02-05T19:24:03.692Z"
   },
   {
    "duration": 3,
    "start_time": "2022-02-05T19:24:05.608Z"
   },
   {
    "duration": 6,
    "start_time": "2022-02-05T19:24:05.614Z"
   },
   {
    "duration": 22,
    "start_time": "2022-02-05T19:24:05.622Z"
   },
   {
    "duration": 12,
    "start_time": "2022-02-05T19:24:05.647Z"
   },
   {
    "duration": 100,
    "start_time": "2022-02-05T19:24:05.662Z"
   },
   {
    "duration": 13,
    "start_time": "2022-02-05T19:24:05.764Z"
   },
   {
    "duration": 11,
    "start_time": "2022-02-05T19:24:05.779Z"
   },
   {
    "duration": 33,
    "start_time": "2022-02-05T19:24:05.792Z"
   },
   {
    "duration": 33,
    "start_time": "2022-02-05T19:24:05.827Z"
   },
   {
    "duration": 61,
    "start_time": "2022-02-05T19:24:05.863Z"
   },
   {
    "duration": 349,
    "start_time": "2022-02-05T19:24:05.927Z"
   },
   {
    "duration": 144,
    "start_time": "2022-02-05T19:24:06.280Z"
   },
   {
    "duration": 99,
    "start_time": "2022-02-05T19:24:06.426Z"
   },
   {
    "duration": 365,
    "start_time": "2022-02-05T19:24:06.528Z"
   },
   {
    "duration": 63,
    "start_time": "2022-02-05T19:24:06.895Z"
   },
   {
    "duration": 8,
    "start_time": "2022-02-05T19:24:06.961Z"
   },
   {
    "duration": 247,
    "start_time": "2022-02-05T19:24:13.164Z"
   },
   {
    "duration": 45,
    "start_time": "2022-02-05T19:24:21.819Z"
   },
   {
    "duration": 8,
    "start_time": "2022-02-05T19:24:23.947Z"
   },
   {
    "duration": 253,
    "start_time": "2022-02-05T19:24:24.811Z"
   },
   {
    "duration": 56392,
    "start_time": "2022-02-05T19:44:04.049Z"
   },
   {
    "duration": 60,
    "start_time": "2022-02-05T19:45:04.529Z"
   },
   {
    "duration": 251,
    "start_time": "2022-02-05T19:45:07.903Z"
   },
   {
    "duration": 59,
    "start_time": "2022-02-05T19:46:45.695Z"
   },
   {
    "duration": 58,
    "start_time": "2022-02-05T19:46:58.494Z"
   },
   {
    "duration": 7,
    "start_time": "2022-02-05T19:47:27.041Z"
   },
   {
    "duration": 8,
    "start_time": "2022-02-05T19:47:27.051Z"
   },
   {
    "duration": 800,
    "start_time": "2022-02-05T19:47:27.062Z"
   },
   {
    "duration": 3,
    "start_time": "2022-02-05T19:47:27.865Z"
   },
   {
    "duration": 6,
    "start_time": "2022-02-05T19:47:27.870Z"
   },
   {
    "duration": 19,
    "start_time": "2022-02-05T19:47:27.879Z"
   },
   {
    "duration": 23,
    "start_time": "2022-02-05T19:47:27.902Z"
   },
   {
    "duration": 59,
    "start_time": "2022-02-05T19:47:27.928Z"
   },
   {
    "duration": 36,
    "start_time": "2022-02-05T19:47:27.989Z"
   },
   {
    "duration": 9,
    "start_time": "2022-02-05T19:47:28.028Z"
   },
   {
    "duration": 6,
    "start_time": "2022-02-05T19:47:28.040Z"
   },
   {
    "duration": 82,
    "start_time": "2022-02-05T19:47:28.049Z"
   },
   {
    "duration": 13,
    "start_time": "2022-02-05T19:47:28.134Z"
   },
   {
    "duration": 334,
    "start_time": "2022-02-05T19:47:28.150Z"
   },
   {
    "duration": 47,
    "start_time": "2022-02-05T19:47:28.486Z"
   },
   {
    "duration": 25,
    "start_time": "2022-02-05T19:47:31.709Z"
   },
   {
    "duration": 7,
    "start_time": "2022-02-05T19:48:32.936Z"
   },
   {
    "duration": 10,
    "start_time": "2022-02-05T19:48:32.945Z"
   },
   {
    "duration": 658,
    "start_time": "2022-02-05T19:48:32.958Z"
   },
   {
    "duration": 3,
    "start_time": "2022-02-05T19:48:33.619Z"
   },
   {
    "duration": 6,
    "start_time": "2022-02-05T19:48:33.624Z"
   },
   {
    "duration": 20,
    "start_time": "2022-02-05T19:48:33.632Z"
   },
   {
    "duration": 12,
    "start_time": "2022-02-05T19:48:33.654Z"
   },
   {
    "duration": 101,
    "start_time": "2022-02-05T19:48:33.670Z"
   },
   {
    "duration": 10,
    "start_time": "2022-02-05T19:48:33.774Z"
   },
   {
    "duration": 37,
    "start_time": "2022-02-05T19:48:33.787Z"
   },
   {
    "duration": 6,
    "start_time": "2022-02-05T19:48:33.826Z"
   },
   {
    "duration": 30,
    "start_time": "2022-02-05T19:48:33.835Z"
   },
   {
    "duration": 55,
    "start_time": "2022-02-05T19:48:33.868Z"
   },
   {
    "duration": 310,
    "start_time": "2022-02-05T19:48:33.925Z"
   },
   {
    "duration": 90,
    "start_time": "2022-02-05T19:48:34.237Z"
   },
   {
    "duration": 99,
    "start_time": "2022-02-05T19:48:34.330Z"
   },
   {
    "duration": 351,
    "start_time": "2022-02-05T19:48:34.432Z"
   },
   {
    "duration": 60,
    "start_time": "2022-02-05T19:48:34.785Z"
   },
   {
    "duration": 14,
    "start_time": "2022-02-05T19:48:38.365Z"
   },
   {
    "duration": 7,
    "start_time": "2022-02-05T19:49:04.487Z"
   },
   {
    "duration": 7,
    "start_time": "2022-02-05T19:49:04.497Z"
   },
   {
    "duration": 616,
    "start_time": "2022-02-05T19:49:04.507Z"
   },
   {
    "duration": 3,
    "start_time": "2022-02-05T19:49:05.125Z"
   },
   {
    "duration": 6,
    "start_time": "2022-02-05T19:49:05.131Z"
   },
   {
    "duration": 21,
    "start_time": "2022-02-05T19:49:05.140Z"
   },
   {
    "duration": 11,
    "start_time": "2022-02-05T19:49:05.165Z"
   },
   {
    "duration": 95,
    "start_time": "2022-02-05T19:49:05.179Z"
   },
   {
    "duration": 10,
    "start_time": "2022-02-05T19:49:05.277Z"
   },
   {
    "duration": 37,
    "start_time": "2022-02-05T19:49:05.290Z"
   },
   {
    "duration": 6,
    "start_time": "2022-02-05T19:49:05.330Z"
   },
   {
    "duration": 31,
    "start_time": "2022-02-05T19:49:05.338Z"
   },
   {
    "duration": 53,
    "start_time": "2022-02-05T19:49:05.372Z"
   },
   {
    "duration": 367,
    "start_time": "2022-02-05T19:49:05.427Z"
   },
   {
    "duration": 57,
    "start_time": "2022-02-05T19:49:05.797Z"
   },
   {
    "duration": 199,
    "start_time": "2022-02-05T19:49:05.929Z"
   },
   {
    "duration": 349,
    "start_time": "2022-02-05T19:49:06.133Z"
   },
   {
    "duration": 60,
    "start_time": "2022-02-05T19:49:06.486Z"
   },
   {
    "duration": 13,
    "start_time": "2022-02-05T19:49:06.549Z"
   },
   {
    "duration": 291,
    "start_time": "2022-02-05T19:49:06.565Z"
   },
   {
    "duration": 57187,
    "start_time": "2022-02-05T19:49:06.859Z"
   },
   {
    "duration": 20,
    "start_time": "2022-02-05T19:50:45.292Z"
   },
   {
    "duration": 265,
    "start_time": "2022-02-05T19:50:51.084Z"
   },
   {
    "duration": 1533,
    "start_time": "2022-02-06T10:01:09.919Z"
   },
   {
    "duration": 3,
    "start_time": "2022-02-06T10:01:11.454Z"
   },
   {
    "duration": 1250,
    "start_time": "2022-02-06T10:01:11.460Z"
   },
   {
    "duration": 4,
    "start_time": "2022-02-06T10:01:12.713Z"
   },
   {
    "duration": 7,
    "start_time": "2022-02-06T10:01:12.719Z"
   },
   {
    "duration": 23,
    "start_time": "2022-02-06T10:01:12.728Z"
   },
   {
    "duration": 11,
    "start_time": "2022-02-06T10:01:12.753Z"
   },
   {
    "duration": 59,
    "start_time": "2022-02-06T10:01:12.768Z"
   },
   {
    "duration": 10,
    "start_time": "2022-02-06T10:01:12.850Z"
   },
   {
    "duration": 9,
    "start_time": "2022-02-06T10:01:12.863Z"
   },
   {
    "duration": 7,
    "start_time": "2022-02-06T10:01:12.875Z"
   },
   {
    "duration": 30,
    "start_time": "2022-02-06T10:01:12.884Z"
   },
   {
    "duration": 13,
    "start_time": "2022-02-06T10:01:12.949Z"
   },
   {
    "duration": 331,
    "start_time": "2022-02-06T10:01:12.964Z"
   },
   {
    "duration": 154,
    "start_time": "2022-02-06T10:01:13.297Z"
   },
   {
    "duration": 99,
    "start_time": "2022-02-06T10:01:13.453Z"
   },
   {
    "duration": 353,
    "start_time": "2022-02-06T10:01:13.555Z"
   },
   {
    "duration": 61,
    "start_time": "2022-02-06T10:01:13.911Z"
   },
   {
    "duration": 14,
    "start_time": "2022-02-06T10:01:13.975Z"
   },
   {
    "duration": 276,
    "start_time": "2022-02-06T10:01:13.993Z"
   },
   {
    "duration": 54498,
    "start_time": "2022-02-06T10:01:14.272Z"
   },
   {
    "duration": 17,
    "start_time": "2022-02-06T10:02:08.772Z"
   },
   {
    "duration": 268,
    "start_time": "2022-02-06T10:02:08.794Z"
   },
   {
    "duration": 26,
    "start_time": "2022-02-06T10:02:17.428Z"
   },
   {
    "duration": 40,
    "start_time": "2022-02-06T10:04:20.196Z"
   },
   {
    "duration": 39,
    "start_time": "2022-02-06T10:04:42.466Z"
   },
   {
    "duration": 41,
    "start_time": "2022-02-06T10:06:12.881Z"
   },
   {
    "duration": 48,
    "start_time": "2022-02-06T10:06:56.644Z"
   },
   {
    "duration": 101,
    "start_time": "2022-02-06T10:10:17.395Z"
   },
   {
    "duration": 107,
    "start_time": "2022-02-06T10:10:39.743Z"
   },
   {
    "duration": 503,
    "start_time": "2022-02-06T10:51:53.254Z"
   },
   {
    "duration": 78,
    "start_time": "2022-02-06T10:51:59.451Z"
   },
   {
    "duration": 568,
    "start_time": "2022-02-06T10:52:00.725Z"
   },
   {
    "duration": 7,
    "start_time": "2022-02-06T10:52:19.019Z"
   },
   {
    "duration": 578,
    "start_time": "2022-02-06T10:52:26.376Z"
   },
   {
    "duration": 8,
    "start_time": "2022-02-06T10:52:49.868Z"
   },
   {
    "duration": 471,
    "start_time": "2022-02-06T10:52:53.608Z"
   },
   {
    "duration": 366,
    "start_time": "2022-02-06T10:53:48.839Z"
   },
   {
    "duration": 7,
    "start_time": "2022-02-06T10:54:01.331Z"
   },
   {
    "duration": 28,
    "start_time": "2022-02-06T10:54:01.340Z"
   },
   {
    "duration": 858,
    "start_time": "2022-02-06T10:54:01.372Z"
   },
   {
    "duration": 4,
    "start_time": "2022-02-06T10:54:02.234Z"
   },
   {
    "duration": 8,
    "start_time": "2022-02-06T10:54:02.241Z"
   },
   {
    "duration": 38,
    "start_time": "2022-02-06T10:54:02.252Z"
   },
   {
    "duration": 20,
    "start_time": "2022-02-06T10:54:02.293Z"
   },
   {
    "duration": 65,
    "start_time": "2022-02-06T10:54:02.318Z"
   },
   {
    "duration": 11,
    "start_time": "2022-02-06T10:54:02.387Z"
   },
   {
    "duration": 10,
    "start_time": "2022-02-06T10:54:02.401Z"
   },
   {
    "duration": 34,
    "start_time": "2022-02-06T10:54:02.414Z"
   },
   {
    "duration": 32,
    "start_time": "2022-02-06T10:54:02.451Z"
   },
   {
    "duration": 17,
    "start_time": "2022-02-06T10:54:02.486Z"
   },
   {
    "duration": 425,
    "start_time": "2022-02-06T10:54:02.505Z"
   },
   {
    "duration": 118,
    "start_time": "2022-02-06T10:54:02.932Z"
   },
   {
    "duration": 195,
    "start_time": "2022-02-06T10:54:03.053Z"
   },
   {
    "duration": 270,
    "start_time": "2022-02-06T10:54:03.251Z"
   },
   {
    "duration": 56,
    "start_time": "2022-02-06T10:54:03.523Z"
   },
   {
    "duration": 13,
    "start_time": "2022-02-06T10:54:03.581Z"
   },
   {
    "duration": 309,
    "start_time": "2022-02-06T10:54:03.597Z"
   },
   {
    "duration": 56071,
    "start_time": "2022-02-06T10:54:03.908Z"
   },
   {
    "duration": 17,
    "start_time": "2022-02-06T10:54:59.981Z"
   },
   {
    "duration": 300,
    "start_time": "2022-02-06T10:55:00.002Z"
   },
   {
    "duration": 55,
    "start_time": "2022-02-06T10:55:00.305Z"
   },
   {
    "duration": 105,
    "start_time": "2022-02-06T10:55:00.449Z"
   },
   {
    "duration": 123,
    "start_time": "2022-02-06T10:55:00.558Z"
   },
   {
    "duration": 12,
    "start_time": "2022-02-06T10:55:00.685Z"
   },
   {
    "duration": 759,
    "start_time": "2022-02-06T10:55:00.700Z"
   },
   {
    "duration": -159,
    "start_time": "2022-02-06T10:55:01.620Z"
   },
   {
    "duration": 465,
    "start_time": "2022-02-06T10:55:07.110Z"
   },
   {
    "duration": 9,
    "start_time": "2022-02-06T10:55:15.143Z"
   },
   {
    "duration": 8,
    "start_time": "2022-02-06T10:55:34.680Z"
   },
   {
    "duration": 7,
    "start_time": "2022-02-06T10:55:41.766Z"
   },
   {
    "duration": 11,
    "start_time": "2022-02-06T10:55:58.662Z"
   },
   {
    "duration": 1654,
    "start_time": "2022-02-06T10:56:35.911Z"
   },
   {
    "duration": 8,
    "start_time": "2022-02-06T10:57:30.588Z"
   },
   {
    "duration": 9,
    "start_time": "2022-02-06T10:57:39.126Z"
   },
   {
    "duration": 1404,
    "start_time": "2022-02-06T10:57:40.933Z"
   },
   {
    "duration": 5,
    "start_time": "2022-02-06T10:58:41.702Z"
   },
   {
    "duration": 1568,
    "start_time": "2022-02-06T10:58:42.613Z"
   },
   {
    "duration": 8,
    "start_time": "2022-02-06T10:59:40.725Z"
   },
   {
    "duration": 6,
    "start_time": "2022-02-06T10:59:41.412Z"
   },
   {
    "duration": 1832,
    "start_time": "2022-02-06T10:59:43.796Z"
   },
   {
    "duration": 8,
    "start_time": "2022-02-06T11:02:53.682Z"
   },
   {
    "duration": 8,
    "start_time": "2022-02-06T11:03:08.417Z"
   },
   {
    "duration": 7,
    "start_time": "2022-02-06T11:03:13.380Z"
   },
   {
    "duration": 263,
    "start_time": "2022-02-06T11:03:37.249Z"
   },
   {
    "duration": 8,
    "start_time": "2022-02-06T11:03:45.969Z"
   },
   {
    "duration": 8,
    "start_time": "2022-02-06T11:03:56.226Z"
   },
   {
    "duration": 231,
    "start_time": "2022-02-06T11:04:17.505Z"
   },
   {
    "duration": 7,
    "start_time": "2022-02-06T11:04:22.353Z"
   },
   {
    "duration": 7,
    "start_time": "2022-02-06T11:04:40.081Z"
   },
   {
    "duration": 345,
    "start_time": "2022-02-06T11:05:53.985Z"
   },
   {
    "duration": 14,
    "start_time": "2022-02-06T11:05:58.634Z"
   },
   {
    "duration": 228,
    "start_time": "2022-02-06T11:07:14.066Z"
   },
   {
    "duration": 262,
    "start_time": "2022-02-06T11:07:19.824Z"
   },
   {
    "duration": 6,
    "start_time": "2022-02-06T11:07:30.847Z"
   },
   {
    "duration": 6,
    "start_time": "2022-02-06T11:07:53.307Z"
   },
   {
    "duration": 7,
    "start_time": "2022-02-06T11:07:53.316Z"
   },
   {
    "duration": 690,
    "start_time": "2022-02-06T11:07:53.328Z"
   },
   {
    "duration": 3,
    "start_time": "2022-02-06T11:07:54.020Z"
   },
   {
    "duration": 8,
    "start_time": "2022-02-06T11:07:54.025Z"
   },
   {
    "duration": 22,
    "start_time": "2022-02-06T11:07:54.035Z"
   },
   {
    "duration": 14,
    "start_time": "2022-02-06T11:07:54.060Z"
   },
   {
    "duration": 77,
    "start_time": "2022-02-06T11:07:54.079Z"
   },
   {
    "duration": 10,
    "start_time": "2022-02-06T11:07:54.159Z"
   },
   {
    "duration": 13,
    "start_time": "2022-02-06T11:07:54.171Z"
   },
   {
    "duration": 6,
    "start_time": "2022-02-06T11:07:54.186Z"
   },
   {
    "duration": 289,
    "start_time": "2022-02-06T11:08:06.224Z"
   },
   {
    "duration": 7,
    "start_time": "2022-02-06T11:08:28.723Z"
   },
   {
    "duration": 10,
    "start_time": "2022-02-06T11:08:28.733Z"
   },
   {
    "duration": 723,
    "start_time": "2022-02-06T11:08:28.746Z"
   },
   {
    "duration": 3,
    "start_time": "2022-02-06T11:08:29.472Z"
   },
   {
    "duration": 6,
    "start_time": "2022-02-06T11:08:29.478Z"
   },
   {
    "duration": 18,
    "start_time": "2022-02-06T11:08:29.486Z"
   },
   {
    "duration": 11,
    "start_time": "2022-02-06T11:08:29.506Z"
   },
   {
    "duration": 58,
    "start_time": "2022-02-06T11:08:29.548Z"
   },
   {
    "duration": 9,
    "start_time": "2022-02-06T11:08:29.608Z"
   },
   {
    "duration": 32,
    "start_time": "2022-02-06T11:08:29.619Z"
   },
   {
    "duration": 5,
    "start_time": "2022-02-06T11:08:29.653Z"
   },
   {
    "duration": 240,
    "start_time": "2022-02-06T11:08:51.742Z"
   },
   {
    "duration": 7,
    "start_time": "2022-02-06T11:09:03.060Z"
   },
   {
    "duration": 8,
    "start_time": "2022-02-06T11:09:03.069Z"
   },
   {
    "duration": 733,
    "start_time": "2022-02-06T11:09:03.080Z"
   },
   {
    "duration": 3,
    "start_time": "2022-02-06T11:09:03.817Z"
   },
   {
    "duration": 15,
    "start_time": "2022-02-06T11:09:03.823Z"
   },
   {
    "duration": 31,
    "start_time": "2022-02-06T11:09:03.840Z"
   },
   {
    "duration": 16,
    "start_time": "2022-02-06T11:09:03.874Z"
   },
   {
    "duration": 95,
    "start_time": "2022-02-06T11:09:03.893Z"
   },
   {
    "duration": 10,
    "start_time": "2022-02-06T11:09:03.992Z"
   },
   {
    "duration": 15,
    "start_time": "2022-02-06T11:09:04.004Z"
   },
   {
    "duration": 27,
    "start_time": "2022-02-06T11:09:04.021Z"
   },
   {
    "duration": 28,
    "start_time": "2022-02-06T11:09:07.024Z"
   },
   {
    "duration": 16,
    "start_time": "2022-02-06T11:09:17.294Z"
   },
   {
    "duration": 29,
    "start_time": "2022-02-06T11:09:39.630Z"
   },
   {
    "duration": 14,
    "start_time": "2022-02-06T11:09:42.142Z"
   },
   {
    "duration": 15,
    "start_time": "2022-02-06T11:09:45.870Z"
   },
   {
    "duration": 29,
    "start_time": "2022-02-06T11:09:50.974Z"
   },
   {
    "duration": 13,
    "start_time": "2022-02-06T11:09:52.830Z"
   },
   {
    "duration": 7,
    "start_time": "2022-02-06T11:09:56.706Z"
   },
   {
    "duration": 8,
    "start_time": "2022-02-06T11:09:56.715Z"
   },
   {
    "duration": 706,
    "start_time": "2022-02-06T11:09:56.727Z"
   },
   {
    "duration": 3,
    "start_time": "2022-02-06T11:09:57.436Z"
   },
   {
    "duration": 5,
    "start_time": "2022-02-06T11:09:57.442Z"
   },
   {
    "duration": 21,
    "start_time": "2022-02-06T11:09:57.449Z"
   },
   {
    "duration": 12,
    "start_time": "2022-02-06T11:09:57.472Z"
   },
   {
    "duration": 81,
    "start_time": "2022-02-06T11:09:57.487Z"
   },
   {
    "duration": 9,
    "start_time": "2022-02-06T11:09:57.572Z"
   },
   {
    "duration": 6,
    "start_time": "2022-02-06T11:09:57.583Z"
   },
   {
    "duration": 5,
    "start_time": "2022-02-06T11:09:57.592Z"
   },
   {
    "duration": 70,
    "start_time": "2022-02-06T11:09:57.599Z"
   },
   {
    "duration": 24,
    "start_time": "2022-02-06T11:09:59.782Z"
   },
   {
    "duration": 14,
    "start_time": "2022-02-06T11:10:04.094Z"
   },
   {
    "duration": 281,
    "start_time": "2022-02-06T11:10:11.614Z"
   },
   {
    "duration": 6,
    "start_time": "2022-02-06T11:11:15.358Z"
   },
   {
    "duration": 401,
    "start_time": "2022-02-06T11:16:16.346Z"
   },
   {
    "duration": 7,
    "start_time": "2022-02-06T11:16:28.295Z"
   },
   {
    "duration": 8,
    "start_time": "2022-02-06T11:16:28.305Z"
   },
   {
    "duration": 730,
    "start_time": "2022-02-06T11:16:28.317Z"
   },
   {
    "duration": 3,
    "start_time": "2022-02-06T11:16:29.050Z"
   },
   {
    "duration": 9,
    "start_time": "2022-02-06T11:16:29.056Z"
   },
   {
    "duration": 22,
    "start_time": "2022-02-06T11:16:29.068Z"
   },
   {
    "duration": 12,
    "start_time": "2022-02-06T11:16:29.093Z"
   },
   {
    "duration": 80,
    "start_time": "2022-02-06T11:16:29.109Z"
   },
   {
    "duration": 10,
    "start_time": "2022-02-06T11:16:29.192Z"
   },
   {
    "duration": 17,
    "start_time": "2022-02-06T11:16:29.204Z"
   },
   {
    "duration": 27,
    "start_time": "2022-02-06T11:16:29.223Z"
   },
   {
    "duration": 30,
    "start_time": "2022-02-06T11:16:29.252Z"
   },
   {
    "duration": 13,
    "start_time": "2022-02-06T11:16:29.284Z"
   },
   {
    "duration": 303,
    "start_time": "2022-02-06T11:16:29.299Z"
   },
   {
    "duration": -181,
    "start_time": "2022-02-06T11:16:29.786Z"
   },
   {
    "duration": -184,
    "start_time": "2022-02-06T11:16:29.791Z"
   },
   {
    "duration": -186,
    "start_time": "2022-02-06T11:16:29.794Z"
   },
   {
    "duration": -192,
    "start_time": "2022-02-06T11:16:29.802Z"
   },
   {
    "duration": -203,
    "start_time": "2022-02-06T11:16:29.814Z"
   },
   {
    "duration": -208,
    "start_time": "2022-02-06T11:16:29.820Z"
   },
   {
    "duration": -212,
    "start_time": "2022-02-06T11:16:29.826Z"
   },
   {
    "duration": -216,
    "start_time": "2022-02-06T11:16:29.831Z"
   },
   {
    "duration": -220,
    "start_time": "2022-02-06T11:16:29.837Z"
   },
   {
    "duration": -222,
    "start_time": "2022-02-06T11:16:29.840Z"
   },
   {
    "duration": -235,
    "start_time": "2022-02-06T11:16:29.854Z"
   },
   {
    "duration": -238,
    "start_time": "2022-02-06T11:16:29.859Z"
   },
   {
    "duration": -243,
    "start_time": "2022-02-06T11:16:29.865Z"
   },
   {
    "duration": -255,
    "start_time": "2022-02-06T11:16:29.879Z"
   },
   {
    "duration": -266,
    "start_time": "2022-02-06T11:16:29.892Z"
   },
   {
    "duration": -275,
    "start_time": "2022-02-06T11:16:29.902Z"
   },
   {
    "duration": -287,
    "start_time": "2022-02-06T11:16:29.915Z"
   },
   {
    "duration": -290,
    "start_time": "2022-02-06T11:16:29.920Z"
   },
   {
    "duration": -303,
    "start_time": "2022-02-06T11:16:29.934Z"
   },
   {
    "duration": -312,
    "start_time": "2022-02-06T11:16:29.945Z"
   },
   {
    "duration": 7,
    "start_time": "2022-02-06T11:16:35.002Z"
   },
   {
    "duration": 8,
    "start_time": "2022-02-06T11:16:35.012Z"
   },
   {
    "duration": 702,
    "start_time": "2022-02-06T11:16:35.023Z"
   },
   {
    "duration": 4,
    "start_time": "2022-02-06T11:16:35.728Z"
   },
   {
    "duration": 7,
    "start_time": "2022-02-06T11:16:35.734Z"
   },
   {
    "duration": 24,
    "start_time": "2022-02-06T11:16:35.743Z"
   },
   {
    "duration": 11,
    "start_time": "2022-02-06T11:16:35.770Z"
   },
   {
    "duration": 82,
    "start_time": "2022-02-06T11:16:35.784Z"
   },
   {
    "duration": 12,
    "start_time": "2022-02-06T11:16:35.869Z"
   },
   {
    "duration": 9,
    "start_time": "2022-02-06T11:16:35.884Z"
   },
   {
    "duration": 19,
    "start_time": "2022-02-06T11:16:35.895Z"
   },
   {
    "duration": 55,
    "start_time": "2022-02-06T11:16:35.917Z"
   },
   {
    "duration": 13,
    "start_time": "2022-02-06T11:16:35.975Z"
   },
   {
    "duration": 266,
    "start_time": "2022-02-06T11:16:37.933Z"
   },
   {
    "duration": 6,
    "start_time": "2022-02-06T11:19:25.260Z"
   },
   {
    "duration": 18,
    "start_time": "2022-02-06T11:19:25.268Z"
   },
   {
    "duration": 726,
    "start_time": "2022-02-06T11:19:25.289Z"
   },
   {
    "duration": 3,
    "start_time": "2022-02-06T11:19:26.018Z"
   },
   {
    "duration": 15,
    "start_time": "2022-02-06T11:19:26.023Z"
   },
   {
    "duration": 21,
    "start_time": "2022-02-06T11:19:26.040Z"
   },
   {
    "duration": 12,
    "start_time": "2022-02-06T11:19:26.063Z"
   },
   {
    "duration": 78,
    "start_time": "2022-02-06T11:19:26.077Z"
   },
   {
    "duration": 10,
    "start_time": "2022-02-06T11:19:26.160Z"
   },
   {
    "duration": 6,
    "start_time": "2022-02-06T11:19:26.173Z"
   },
   {
    "duration": 5,
    "start_time": "2022-02-06T11:19:26.181Z"
   },
   {
    "duration": 65,
    "start_time": "2022-02-06T11:19:26.189Z"
   },
   {
    "duration": 14,
    "start_time": "2022-02-06T11:19:26.256Z"
   },
   {
    "duration": 612,
    "start_time": "2022-02-06T11:19:28.378Z"
   },
   {
    "duration": 34,
    "start_time": "2022-02-06T11:20:08.186Z"
   },
   {
    "duration": 366,
    "start_time": "2022-02-06T11:21:04.699Z"
   },
   {
    "duration": 262,
    "start_time": "2022-02-06T11:21:17.577Z"
   },
   {
    "duration": 36,
    "start_time": "2022-02-06T11:21:45.976Z"
   },
   {
    "duration": 22,
    "start_time": "2022-02-06T11:21:50.200Z"
   },
   {
    "duration": 7,
    "start_time": "2022-02-06T11:22:57.564Z"
   },
   {
    "duration": 12,
    "start_time": "2022-02-06T11:22:57.573Z"
   },
   {
    "duration": 690,
    "start_time": "2022-02-06T11:22:57.589Z"
   },
   {
    "duration": 3,
    "start_time": "2022-02-06T11:22:58.282Z"
   },
   {
    "duration": 10,
    "start_time": "2022-02-06T11:22:58.288Z"
   },
   {
    "duration": 24,
    "start_time": "2022-02-06T11:22:58.300Z"
   },
   {
    "duration": 16,
    "start_time": "2022-02-06T11:22:58.327Z"
   },
   {
    "duration": 69,
    "start_time": "2022-02-06T11:22:58.352Z"
   },
   {
    "duration": 28,
    "start_time": "2022-02-06T11:22:58.425Z"
   },
   {
    "duration": 8,
    "start_time": "2022-02-06T11:22:58.455Z"
   },
   {
    "duration": 6,
    "start_time": "2022-02-06T11:22:58.465Z"
   },
   {
    "duration": 77,
    "start_time": "2022-02-06T11:22:58.474Z"
   },
   {
    "duration": 14,
    "start_time": "2022-02-06T11:22:58.553Z"
   },
   {
    "duration": 38,
    "start_time": "2022-02-06T11:22:58.569Z"
   },
   {
    "duration": 59,
    "start_time": "2022-02-06T11:22:58.609Z"
   },
   {
    "duration": 337,
    "start_time": "2022-02-06T11:22:58.671Z"
   },
   {
    "duration": 143,
    "start_time": "2022-02-06T11:22:59.013Z"
   },
   {
    "duration": 194,
    "start_time": "2022-02-06T11:22:59.163Z"
   },
   {
    "duration": 272,
    "start_time": "2022-02-06T11:22:59.450Z"
   },
   {
    "duration": 57,
    "start_time": "2022-02-06T11:22:59.724Z"
   },
   {
    "duration": 13,
    "start_time": "2022-02-06T11:22:59.784Z"
   },
   {
    "duration": 330,
    "start_time": "2022-02-06T11:22:59.799Z"
   },
   {
    "duration": 59950,
    "start_time": "2022-02-06T11:23:00.133Z"
   },
   {
    "duration": 39,
    "start_time": "2022-02-06T11:24:00.086Z"
   },
   {
    "duration": 271,
    "start_time": "2022-02-06T11:24:00.127Z"
   },
   {
    "duration": 55,
    "start_time": "2022-02-06T11:24:00.401Z"
   },
   {
    "duration": 139,
    "start_time": "2022-02-06T11:24:00.550Z"
   },
   {
    "duration": 40,
    "start_time": "2022-02-06T11:32:22.467Z"
   },
   {
    "duration": 39,
    "start_time": "2022-02-06T11:32:28.131Z"
   },
   {
    "duration": 337,
    "start_time": "2022-02-06T11:32:32.020Z"
   },
   {
    "duration": 35,
    "start_time": "2022-02-06T11:32:35.027Z"
   },
   {
    "duration": 56,
    "start_time": "2022-02-06T11:32:37.363Z"
   },
   {
    "duration": 100,
    "start_time": "2022-02-06T11:32:40.132Z"
   },
   {
    "duration": 6,
    "start_time": "2022-02-06T11:33:10.870Z"
   },
   {
    "duration": 6,
    "start_time": "2022-02-06T11:33:11.603Z"
   },
   {
    "duration": 957,
    "start_time": "2022-02-06T11:33:15.218Z"
   },
   {
    "duration": 1129,
    "start_time": "2022-02-06T11:33:56.962Z"
   },
   {
    "duration": 49,
    "start_time": "2022-02-06T11:34:15.154Z"
   },
   {
    "duration": 241,
    "start_time": "2022-02-06T11:36:03.218Z"
   },
   {
    "duration": 486,
    "start_time": "2022-02-06T11:36:10.705Z"
   },
   {
    "duration": 6,
    "start_time": "2022-02-06T11:36:35.362Z"
   },
   {
    "duration": 6,
    "start_time": "2022-02-06T11:36:35.920Z"
   },
   {
    "duration": 87,
    "start_time": "2022-02-06T11:36:36.463Z"
   },
   {
    "duration": 30,
    "start_time": "2022-02-06T11:36:38.560Z"
   },
   {
    "duration": 31,
    "start_time": "2022-02-06T11:37:24.720Z"
   },
   {
    "duration": 47,
    "start_time": "2022-02-06T11:37:29.104Z"
   },
   {
    "duration": 710,
    "start_time": "2022-02-06T11:38:15.855Z"
   },
   {
    "duration": 85,
    "start_time": "2022-02-06T11:39:03.904Z"
   },
   {
    "duration": 34,
    "start_time": "2022-02-06T11:39:42.446Z"
   },
   {
    "duration": 731,
    "start_time": "2022-02-06T11:44:56.796Z"
   },
   {
    "duration": 734,
    "start_time": "2022-02-06T11:45:20.688Z"
   },
   {
    "duration": 660,
    "start_time": "2022-02-06T11:45:33.147Z"
   },
   {
    "duration": 5498,
    "start_time": "2022-02-06T11:49:46.216Z"
   },
   {
    "duration": 4059,
    "start_time": "2022-02-06T11:50:40.120Z"
   },
   {
    "duration": 3916,
    "start_time": "2022-02-06T11:50:53.832Z"
   },
   {
    "duration": 4922,
    "start_time": "2022-02-06T11:51:04.536Z"
   },
   {
    "duration": 2005,
    "start_time": "2022-02-06T12:00:17.698Z"
   },
   {
    "duration": 2422,
    "start_time": "2022-02-06T12:22:37.735Z"
   },
   {
    "duration": 1856,
    "start_time": "2022-02-06T12:30:32.802Z"
   },
   {
    "duration": 2596,
    "start_time": "2022-02-06T12:30:38.759Z"
   },
   {
    "duration": 2367,
    "start_time": "2022-02-06T12:30:56.385Z"
   },
   {
    "duration": 3271,
    "start_time": "2022-02-06T12:31:04.480Z"
   },
   {
    "duration": 3067,
    "start_time": "2022-02-06T12:31:14.191Z"
   },
   {
    "duration": 84,
    "start_time": "2022-02-06T12:31:31.951Z"
   },
   {
    "duration": 35,
    "start_time": "2022-02-06T12:31:38.239Z"
   },
   {
    "duration": 3691,
    "start_time": "2022-02-06T12:33:04.239Z"
   },
   {
    "duration": 1799,
    "start_time": "2022-02-06T12:33:11.599Z"
   },
   {
    "duration": 2528,
    "start_time": "2022-02-06T12:33:35.854Z"
   },
   {
    "duration": 3861,
    "start_time": "2022-02-06T12:39:36.952Z"
   },
   {
    "duration": 4514,
    "start_time": "2022-02-06T12:39:55.170Z"
   },
   {
    "duration": 1828,
    "start_time": "2022-02-06T12:40:04.370Z"
   },
   {
    "duration": 1658,
    "start_time": "2022-02-06T13:09:17.895Z"
   },
   {
    "duration": 20,
    "start_time": "2022-02-06T13:09:45.917Z"
   },
   {
    "duration": 7,
    "start_time": "2022-02-06T13:12:56.223Z"
   },
   {
    "duration": 132,
    "start_time": "2022-02-06T13:12:56.238Z"
   },
   {
    "duration": 17,
    "start_time": "2022-02-06T13:12:56.373Z"
   },
   {
    "duration": 18,
    "start_time": "2022-02-06T13:12:56.394Z"
   },
   {
    "duration": 9,
    "start_time": "2022-02-06T13:12:56.415Z"
   },
   {
    "duration": 23,
    "start_time": "2022-02-06T13:12:56.426Z"
   },
   {
    "duration": 59,
    "start_time": "2022-02-06T13:12:56.451Z"
   },
   {
    "duration": 9,
    "start_time": "2022-02-06T13:12:56.512Z"
   },
   {
    "duration": 45,
    "start_time": "2022-02-06T13:12:56.525Z"
   },
   {
    "duration": 18,
    "start_time": "2022-02-06T13:12:56.573Z"
   },
   {
    "duration": 35,
    "start_time": "2022-02-06T13:12:56.594Z"
   },
   {
    "duration": 19,
    "start_time": "2022-02-06T13:12:56.632Z"
   },
   {
    "duration": 49,
    "start_time": "2022-02-06T13:12:56.654Z"
   },
   {
    "duration": 23,
    "start_time": "2022-02-06T13:12:56.706Z"
   },
   {
    "duration": 329,
    "start_time": "2022-02-06T13:12:56.732Z"
   },
   {
    "duration": 186,
    "start_time": "2022-02-06T13:12:57.063Z"
   },
   {
    "duration": 103,
    "start_time": "2022-02-06T13:12:57.251Z"
   },
   {
    "duration": 524,
    "start_time": "2022-02-06T13:12:57.358Z"
   },
   {
    "duration": 47,
    "start_time": "2022-02-06T13:12:57.884Z"
   },
   {
    "duration": 13,
    "start_time": "2022-02-06T13:12:57.948Z"
   },
   {
    "duration": 272,
    "start_time": "2022-02-06T13:12:57.963Z"
   },
   {
    "duration": 668,
    "start_time": "2022-02-06T13:13:55.238Z"
   },
   {
    "duration": 5,
    "start_time": "2022-02-06T13:13:55.909Z"
   },
   {
    "duration": 132,
    "start_time": "2022-02-06T13:13:55.917Z"
   },
   {
    "duration": 16,
    "start_time": "2022-02-06T13:13:56.051Z"
   },
   {
    "duration": 9,
    "start_time": "2022-02-06T13:13:56.070Z"
   },
   {
    "duration": 7,
    "start_time": "2022-02-06T13:13:56.081Z"
   },
   {
    "duration": 14,
    "start_time": "2022-02-06T13:13:56.090Z"
   },
   {
    "duration": 85,
    "start_time": "2022-02-06T13:13:56.106Z"
   },
   {
    "duration": 9,
    "start_time": "2022-02-06T13:13:56.193Z"
   },
   {
    "duration": 14,
    "start_time": "2022-02-06T13:13:56.205Z"
   },
   {
    "duration": 7,
    "start_time": "2022-02-06T13:13:56.221Z"
   },
   {
    "duration": 29,
    "start_time": "2022-02-06T13:13:56.249Z"
   },
   {
    "duration": 13,
    "start_time": "2022-02-06T13:13:56.280Z"
   },
   {
    "duration": 63,
    "start_time": "2022-02-06T13:13:56.296Z"
   },
   {
    "duration": 24,
    "start_time": "2022-02-06T13:13:56.361Z"
   },
   {
    "duration": 316,
    "start_time": "2022-02-06T13:13:56.387Z"
   },
   {
    "duration": 51,
    "start_time": "2022-02-06T13:13:56.706Z"
   },
   {
    "duration": 111,
    "start_time": "2022-02-06T13:13:56.849Z"
   },
   {
    "duration": 361,
    "start_time": "2022-02-06T13:13:56.963Z"
   },
   {
    "duration": 56,
    "start_time": "2022-02-06T13:13:57.326Z"
   },
   {
    "duration": 16,
    "start_time": "2022-02-06T13:13:57.385Z"
   },
   {
    "duration": 270,
    "start_time": "2022-02-06T13:13:57.403Z"
   },
   {
    "duration": 55159,
    "start_time": "2022-02-06T13:13:57.676Z"
   },
   {
    "duration": 47,
    "start_time": "2022-02-06T13:14:52.837Z"
   },
   {
    "duration": 269,
    "start_time": "2022-02-06T13:14:52.886Z"
   },
   {
    "duration": 96,
    "start_time": "2022-02-06T13:14:53.158Z"
   },
   {
    "duration": 137,
    "start_time": "2022-02-06T13:14:53.257Z"
   },
   {
    "duration": 458,
    "start_time": "2022-02-06T13:14:53.396Z"
   },
   {
    "duration": 6,
    "start_time": "2022-02-06T13:14:53.856Z"
   },
   {
    "duration": 36,
    "start_time": "2022-02-06T13:14:53.864Z"
   },
   {
    "duration": 48,
    "start_time": "2022-02-06T13:14:53.902Z"
   },
   {
    "duration": 214,
    "start_time": "2022-02-06T13:14:53.953Z"
   },
   {
    "duration": 236,
    "start_time": "2022-02-06T13:14:54.170Z"
   },
   {
    "duration": 59,
    "start_time": "2022-02-06T13:14:54.409Z"
   },
   {
    "duration": 698,
    "start_time": "2022-02-06T13:14:54.476Z"
   },
   {
    "duration": 202,
    "start_time": "2022-02-06T13:20:09.413Z"
   },
   {
    "duration": 100,
    "start_time": "2022-02-06T13:20:16.439Z"
   },
   {
    "duration": 7,
    "start_time": "2022-02-06T13:20:38.524Z"
   },
   {
    "duration": 133,
    "start_time": "2022-02-06T13:20:38.534Z"
   },
   {
    "duration": 3,
    "start_time": "2022-02-06T13:20:38.670Z"
   },
   {
    "duration": 22,
    "start_time": "2022-02-06T13:20:38.676Z"
   },
   {
    "duration": 6,
    "start_time": "2022-02-06T13:20:38.700Z"
   },
   {
    "duration": 8,
    "start_time": "2022-02-06T13:20:38.708Z"
   },
   {
    "duration": 30,
    "start_time": "2022-02-06T13:20:38.718Z"
   },
   {
    "duration": 60,
    "start_time": "2022-02-06T13:20:38.752Z"
   },
   {
    "duration": 33,
    "start_time": "2022-02-06T13:20:38.815Z"
   },
   {
    "duration": 8,
    "start_time": "2022-02-06T13:20:38.850Z"
   },
   {
    "duration": 6,
    "start_time": "2022-02-06T13:20:38.860Z"
   },
   {
    "duration": 44,
    "start_time": "2022-02-06T13:20:38.869Z"
   },
   {
    "duration": 34,
    "start_time": "2022-02-06T13:20:38.916Z"
   },
   {
    "duration": 38,
    "start_time": "2022-02-06T13:20:38.953Z"
   },
   {
    "duration": 23,
    "start_time": "2022-02-06T13:20:38.993Z"
   },
   {
    "duration": 345,
    "start_time": "2022-02-06T13:20:39.019Z"
   },
   {
    "duration": 89,
    "start_time": "2022-02-06T13:20:39.366Z"
   },
   {
    "duration": 196,
    "start_time": "2022-02-06T13:20:39.458Z"
   },
   {
    "duration": 355,
    "start_time": "2022-02-06T13:20:39.657Z"
   },
   {
    "duration": 57,
    "start_time": "2022-02-06T13:20:40.014Z"
   },
   {
    "duration": 13,
    "start_time": "2022-02-06T13:20:40.074Z"
   },
   {
    "duration": 274,
    "start_time": "2022-02-06T13:20:40.089Z"
   },
   {
    "duration": 56703,
    "start_time": "2022-02-06T13:20:40.368Z"
   },
   {
    "duration": 40,
    "start_time": "2022-02-06T13:21:37.075Z"
   },
   {
    "duration": 306,
    "start_time": "2022-02-06T13:21:37.119Z"
   },
   {
    "duration": 133,
    "start_time": "2022-02-06T13:21:37.427Z"
   },
   {
    "duration": 146,
    "start_time": "2022-02-06T13:21:37.563Z"
   },
   {
    "duration": 513,
    "start_time": "2022-02-06T13:21:37.712Z"
   },
   {
    "duration": 7,
    "start_time": "2022-02-06T13:21:38.227Z"
   },
   {
    "duration": 14,
    "start_time": "2022-02-06T13:21:38.236Z"
   },
   {
    "duration": 96,
    "start_time": "2022-02-06T13:21:38.253Z"
   },
   {
    "duration": 120,
    "start_time": "2022-02-06T13:21:38.352Z"
   },
   {
    "duration": 156,
    "start_time": "2022-02-06T13:21:38.548Z"
   },
   {
    "duration": 52,
    "start_time": "2022-02-06T13:21:38.707Z"
   },
   {
    "duration": 830,
    "start_time": "2022-02-06T13:21:38.762Z"
   },
   {
    "duration": 386,
    "start_time": "2022-02-06T15:36:52.305Z"
   },
   {
    "duration": 322,
    "start_time": "2022-02-06T15:37:12.482Z"
   },
   {
    "duration": 384,
    "start_time": "2022-02-06T15:37:27.808Z"
   },
   {
    "duration": 450,
    "start_time": "2022-02-06T15:38:26.544Z"
   },
   {
    "duration": 368,
    "start_time": "2022-02-06T15:38:37.536Z"
   },
   {
    "duration": 201,
    "start_time": "2022-02-06T15:41:15.050Z"
   },
   {
    "duration": 208,
    "start_time": "2022-02-06T15:41:56.393Z"
   },
   {
    "duration": 303,
    "start_time": "2022-02-06T15:42:01.200Z"
   },
   {
    "duration": 220,
    "start_time": "2022-02-06T15:42:07.998Z"
   },
   {
    "duration": 197,
    "start_time": "2022-02-06T15:42:11.902Z"
   },
   {
    "duration": 221,
    "start_time": "2022-02-06T15:42:15.999Z"
   },
   {
    "duration": 292,
    "start_time": "2022-02-06T15:42:44.782Z"
   },
   {
    "duration": 206,
    "start_time": "2022-02-06T15:42:51.853Z"
   },
   {
    "duration": 716,
    "start_time": "2022-02-06T15:45:35.789Z"
   },
   {
    "duration": 457,
    "start_time": "2022-02-06T16:00:53.637Z"
   },
   {
    "duration": 476,
    "start_time": "2022-02-06T16:01:25.937Z"
   },
   {
    "duration": 465,
    "start_time": "2022-02-06T16:01:35.649Z"
   },
   {
    "duration": 714,
    "start_time": "2022-02-06T16:01:51.267Z"
   },
   {
    "duration": 460,
    "start_time": "2022-02-06T16:01:57.841Z"
   },
   {
    "duration": 481,
    "start_time": "2022-02-06T16:02:17.009Z"
   },
   {
    "duration": 488,
    "start_time": "2022-02-06T16:02:47.569Z"
   },
   {
    "duration": 456,
    "start_time": "2022-02-06T16:03:29.600Z"
   },
   {
    "duration": 465,
    "start_time": "2022-02-06T16:03:34.976Z"
   },
   {
    "duration": 468,
    "start_time": "2022-02-06T16:03:58.820Z"
   },
   {
    "duration": 474,
    "start_time": "2022-02-06T16:04:05.712Z"
   },
   {
    "duration": 471,
    "start_time": "2022-02-06T16:04:16.832Z"
   },
   {
    "duration": 653,
    "start_time": "2022-02-06T16:05:28.288Z"
   },
   {
    "duration": 700,
    "start_time": "2022-02-06T16:06:26.576Z"
   },
   {
    "duration": 1135,
    "start_time": "2022-02-07T19:11:15.613Z"
   },
   {
    "duration": 196,
    "start_time": "2022-02-07T19:11:16.750Z"
   },
   {
    "duration": 16,
    "start_time": "2022-02-07T19:11:21.843Z"
   },
   {
    "duration": 10,
    "start_time": "2022-02-07T19:12:33.031Z"
   },
   {
    "duration": 48,
    "start_time": "2022-02-07T19:12:42.229Z"
   },
   {
    "duration": 11,
    "start_time": "2022-02-07T19:32:41.209Z"
   },
   {
    "duration": 43,
    "start_time": "2022-02-07T19:33:26.684Z"
   },
   {
    "duration": 51,
    "start_time": "2022-02-07T19:33:29.308Z"
   },
   {
    "duration": 10,
    "start_time": "2022-02-07T19:33:36.876Z"
   },
   {
    "duration": 7,
    "start_time": "2022-02-07T19:36:55.895Z"
   },
   {
    "duration": 5,
    "start_time": "2022-02-07T19:37:01.377Z"
   },
   {
    "duration": 124,
    "start_time": "2022-02-07T19:37:01.384Z"
   },
   {
    "duration": 13,
    "start_time": "2022-02-07T19:37:01.511Z"
   },
   {
    "duration": 22,
    "start_time": "2022-02-07T19:37:01.526Z"
   },
   {
    "duration": 16,
    "start_time": "2022-02-07T19:37:01.550Z"
   },
   {
    "duration": 62,
    "start_time": "2022-02-07T19:37:01.568Z"
   },
   {
    "duration": 7,
    "start_time": "2022-02-07T19:37:05.033Z"
   },
   {
    "duration": 4,
    "start_time": "2022-02-07T19:44:18.358Z"
   },
   {
    "duration": 6,
    "start_time": "2022-02-07T19:44:22.342Z"
   },
   {
    "duration": 4,
    "start_time": "2022-02-07T19:44:22.994Z"
   },
   {
    "duration": 4,
    "start_time": "2022-02-07T20:22:26.338Z"
   },
   {
    "duration": 143,
    "start_time": "2022-02-07T20:22:26.344Z"
   },
   {
    "duration": 12,
    "start_time": "2022-02-07T20:22:26.489Z"
   },
   {
    "duration": 18,
    "start_time": "2022-02-07T20:22:26.503Z"
   },
   {
    "duration": 27,
    "start_time": "2022-02-07T20:22:26.523Z"
   },
   {
    "duration": 55,
    "start_time": "2022-02-07T20:22:26.552Z"
   },
   {
    "duration": 8,
    "start_time": "2022-02-07T20:22:26.609Z"
   },
   {
    "duration": 11,
    "start_time": "2022-02-07T20:22:26.619Z"
   },
   {
    "duration": 4,
    "start_time": "2022-02-07T20:22:26.632Z"
   },
   {
    "duration": 16,
    "start_time": "2022-02-07T20:22:28.960Z"
   },
   {
    "duration": 10,
    "start_time": "2022-02-07T20:22:31.680Z"
   },
   {
    "duration": 9,
    "start_time": "2022-02-07T20:22:47.266Z"
   },
   {
    "duration": 9,
    "start_time": "2022-02-07T20:23:44.432Z"
   },
   {
    "duration": 3,
    "start_time": "2022-02-07T20:36:33.192Z"
   },
   {
    "duration": 3,
    "start_time": "2022-02-07T20:37:31.066Z"
   },
   {
    "duration": 3,
    "start_time": "2022-02-07T20:38:07.097Z"
   },
   {
    "duration": 228,
    "start_time": "2022-02-07T20:38:12.171Z"
   },
   {
    "duration": 7,
    "start_time": "2022-02-07T20:38:19.658Z"
   },
   {
    "duration": 137,
    "start_time": "2022-02-07T20:38:19.667Z"
   },
   {
    "duration": 13,
    "start_time": "2022-02-07T20:38:19.806Z"
   },
   {
    "duration": 13,
    "start_time": "2022-02-07T20:38:19.821Z"
   },
   {
    "duration": 10,
    "start_time": "2022-02-07T20:38:19.836Z"
   },
   {
    "duration": 42,
    "start_time": "2022-02-07T20:38:19.848Z"
   },
   {
    "duration": 6,
    "start_time": "2022-02-07T20:38:19.892Z"
   },
   {
    "duration": 22,
    "start_time": "2022-02-07T20:38:19.900Z"
   },
   {
    "duration": 13,
    "start_time": "2022-02-07T20:38:19.924Z"
   },
   {
    "duration": 24,
    "start_time": "2022-02-07T20:38:19.938Z"
   },
   {
    "duration": 29,
    "start_time": "2022-02-07T20:38:19.963Z"
   },
   {
    "duration": 11,
    "start_time": "2022-02-07T20:38:19.994Z"
   },
   {
    "duration": 4,
    "start_time": "2022-02-07T20:38:22.842Z"
   },
   {
    "duration": 145,
    "start_time": "2022-02-07T20:38:25.932Z"
   },
   {
    "duration": 17,
    "start_time": "2022-02-07T20:39:04.042Z"
   },
   {
    "duration": 13,
    "start_time": "2022-02-07T20:39:08.265Z"
   },
   {
    "duration": 4,
    "start_time": "2022-02-07T20:39:46.073Z"
   },
   {
    "duration": 124,
    "start_time": "2022-02-07T20:39:46.080Z"
   },
   {
    "duration": 12,
    "start_time": "2022-02-07T20:39:46.206Z"
   },
   {
    "duration": 11,
    "start_time": "2022-02-07T20:39:46.221Z"
   },
   {
    "duration": 11,
    "start_time": "2022-02-07T20:39:46.234Z"
   },
   {
    "duration": 41,
    "start_time": "2022-02-07T20:39:46.247Z"
   },
   {
    "duration": 7,
    "start_time": "2022-02-07T20:39:46.289Z"
   },
   {
    "duration": 12,
    "start_time": "2022-02-07T20:39:46.297Z"
   },
   {
    "duration": 6,
    "start_time": "2022-02-07T20:39:46.310Z"
   },
   {
    "duration": 15,
    "start_time": "2022-02-07T20:39:46.318Z"
   },
   {
    "duration": 30,
    "start_time": "2022-02-07T20:39:46.334Z"
   },
   {
    "duration": 8,
    "start_time": "2022-02-07T20:39:46.365Z"
   },
   {
    "duration": 3,
    "start_time": "2022-02-07T20:39:50.154Z"
   },
   {
    "duration": 24,
    "start_time": "2022-02-07T20:39:52.907Z"
   },
   {
    "duration": 16,
    "start_time": "2022-02-07T20:39:56.009Z"
   },
   {
    "duration": 34,
    "start_time": "2022-02-07T20:41:12.933Z"
   },
   {
    "duration": 12,
    "start_time": "2022-02-07T20:42:08.326Z"
   },
   {
    "duration": 261,
    "start_time": "2022-02-08T17:20:18.886Z"
   },
   {
    "duration": 1191,
    "start_time": "2022-02-08T17:20:24.336Z"
   },
   {
    "duration": 163,
    "start_time": "2022-02-08T17:20:25.529Z"
   },
   {
    "duration": 16,
    "start_time": "2022-02-08T17:20:25.694Z"
   },
   {
    "duration": 8,
    "start_time": "2022-02-08T17:20:25.712Z"
   },
   {
    "duration": 10,
    "start_time": "2022-02-08T17:20:25.721Z"
   },
   {
    "duration": 41,
    "start_time": "2022-02-08T17:20:25.733Z"
   },
   {
    "duration": 7,
    "start_time": "2022-02-08T17:20:25.776Z"
   },
   {
    "duration": 5,
    "start_time": "2022-02-08T17:20:25.813Z"
   },
   {
    "duration": 4,
    "start_time": "2022-02-08T17:20:25.820Z"
   },
   {
    "duration": 13,
    "start_time": "2022-02-08T17:20:25.826Z"
   },
   {
    "duration": 12,
    "start_time": "2022-02-08T17:20:25.841Z"
   },
   {
    "duration": 10,
    "start_time": "2022-02-08T17:20:25.855Z"
   },
   {
    "duration": 46,
    "start_time": "2022-02-08T17:20:25.868Z"
   },
   {
    "duration": 32,
    "start_time": "2022-02-08T17:20:25.917Z"
   },
   {
    "duration": 12,
    "start_time": "2022-02-08T17:20:25.951Z"
   },
   {
    "duration": 220,
    "start_time": "2022-02-08T17:20:28.003Z"
   },
   {
    "duration": 204,
    "start_time": "2022-02-08T17:21:10.819Z"
   },
   {
    "duration": 214,
    "start_time": "2022-02-08T17:21:16.817Z"
   },
   {
    "duration": 225,
    "start_time": "2022-02-08T17:21:19.873Z"
   },
   {
    "duration": 209,
    "start_time": "2022-02-08T17:21:25.745Z"
   },
   {
    "duration": 21,
    "start_time": "2022-02-08T17:28:19.374Z"
   },
   {
    "duration": 12,
    "start_time": "2022-02-08T17:28:22.749Z"
   },
   {
    "duration": 265,
    "start_time": "2022-02-08T17:28:25.533Z"
   },
   {
    "duration": 157,
    "start_time": "2022-02-08T17:37:16.067Z"
   },
   {
    "duration": 569,
    "start_time": "2022-02-08T17:43:08.176Z"
   },
   {
    "duration": 3,
    "start_time": "2022-02-08T17:43:28.371Z"
   },
   {
    "duration": 4,
    "start_time": "2022-02-08T17:43:40.114Z"
   },
   {
    "duration": 563,
    "start_time": "2022-02-08T17:44:07.394Z"
   },
   {
    "duration": 166,
    "start_time": "2022-02-08T17:45:03.650Z"
   },
   {
    "duration": 4,
    "start_time": "2022-02-08T17:45:07.668Z"
   },
   {
    "duration": 489,
    "start_time": "2022-02-08T17:45:08.373Z"
   },
   {
    "duration": 4,
    "start_time": "2022-02-08T17:45:18.594Z"
   },
   {
    "duration": 445,
    "start_time": "2022-02-08T17:45:19.121Z"
   },
   {
    "duration": 3,
    "start_time": "2022-02-08T17:45:24.338Z"
   },
   {
    "duration": 464,
    "start_time": "2022-02-08T17:45:24.832Z"
   },
   {
    "duration": 4,
    "start_time": "2022-02-08T17:45:30.881Z"
   },
   {
    "duration": 496,
    "start_time": "2022-02-08T17:45:31.344Z"
   },
   {
    "duration": 505,
    "start_time": "2022-02-08T17:45:53.920Z"
   },
   {
    "duration": 4,
    "start_time": "2022-02-08T17:46:00.961Z"
   },
   {
    "duration": 439,
    "start_time": "2022-02-08T17:46:01.664Z"
   },
   {
    "duration": 3,
    "start_time": "2022-02-08T17:46:05.456Z"
   },
   {
    "duration": 455,
    "start_time": "2022-02-08T17:46:06.015Z"
   },
   {
    "duration": 4,
    "start_time": "2022-02-08T17:46:16.848Z"
   },
   {
    "duration": 452,
    "start_time": "2022-02-08T17:46:19.360Z"
   },
   {
    "duration": 482,
    "start_time": "2022-02-08T17:46:31.760Z"
   },
   {
    "duration": 4,
    "start_time": "2022-02-08T17:47:14.613Z"
   },
   {
    "duration": 10,
    "start_time": "2022-02-08T17:47:15.072Z"
   },
   {
    "duration": 5,
    "start_time": "2022-02-08T18:10:12.339Z"
   },
   {
    "duration": 13,
    "start_time": "2022-02-08T18:10:14.531Z"
   },
   {
    "duration": 4,
    "start_time": "2022-02-08T18:14:52.835Z"
   },
   {
    "duration": 114,
    "start_time": "2022-02-08T18:15:07.598Z"
   },
   {
    "duration": 117,
    "start_time": "2022-02-08T18:15:51.997Z"
   },
   {
    "duration": 32,
    "start_time": "2022-02-08T18:16:52.990Z"
   },
   {
    "duration": 110,
    "start_time": "2022-02-08T18:17:45.405Z"
   },
   {
    "duration": 72,
    "start_time": "2022-02-08T18:18:27.037Z"
   },
   {
    "duration": 196,
    "start_time": "2022-02-08T18:18:31.117Z"
   },
   {
    "duration": 46,
    "start_time": "2022-02-08T18:18:42.076Z"
   },
   {
    "duration": 125,
    "start_time": "2022-02-08T18:19:05.692Z"
   },
   {
    "duration": 5,
    "start_time": "2022-02-08T18:19:35.452Z"
   },
   {
    "duration": 153,
    "start_time": "2022-02-08T18:19:35.459Z"
   },
   {
    "duration": 12,
    "start_time": "2022-02-08T18:19:35.614Z"
   },
   {
    "duration": 12,
    "start_time": "2022-02-08T18:19:35.627Z"
   },
   {
    "duration": 10,
    "start_time": "2022-02-08T18:19:35.641Z"
   },
   {
    "duration": 61,
    "start_time": "2022-02-08T18:19:35.652Z"
   },
   {
    "duration": 7,
    "start_time": "2022-02-08T18:19:35.715Z"
   },
   {
    "duration": 8,
    "start_time": "2022-02-08T18:19:35.724Z"
   },
   {
    "duration": 4,
    "start_time": "2022-02-08T18:19:35.733Z"
   },
   {
    "duration": 14,
    "start_time": "2022-02-08T18:19:35.738Z"
   },
   {
    "duration": 10,
    "start_time": "2022-02-08T18:19:35.753Z"
   },
   {
    "duration": 9,
    "start_time": "2022-02-08T18:19:35.764Z"
   },
   {
    "duration": 40,
    "start_time": "2022-02-08T18:19:35.774Z"
   },
   {
    "duration": 28,
    "start_time": "2022-02-08T18:19:35.816Z"
   },
   {
    "duration": 12,
    "start_time": "2022-02-08T18:19:35.846Z"
   },
   {
    "duration": 232,
    "start_time": "2022-02-08T18:19:35.860Z"
   },
   {
    "duration": 163,
    "start_time": "2022-02-08T18:19:36.095Z"
   },
   {
    "duration": 5,
    "start_time": "2022-02-08T18:19:36.260Z"
   },
   {
    "duration": 12,
    "start_time": "2022-02-08T18:19:36.269Z"
   },
   {
    "duration": 111,
    "start_time": "2022-02-08T18:19:39.210Z"
   },
   {
    "duration": 112,
    "start_time": "2022-02-08T18:22:53.402Z"
   },
   {
    "duration": 159,
    "start_time": "2022-02-08T18:22:59.353Z"
   },
   {
    "duration": 6,
    "start_time": "2022-02-08T18:23:03.385Z"
   },
   {
    "duration": 144,
    "start_time": "2022-02-08T18:23:03.393Z"
   },
   {
    "duration": 12,
    "start_time": "2022-02-08T18:23:03.539Z"
   },
   {
    "duration": 9,
    "start_time": "2022-02-08T18:23:03.553Z"
   },
   {
    "duration": 10,
    "start_time": "2022-02-08T18:23:03.564Z"
   },
   {
    "duration": 58,
    "start_time": "2022-02-08T18:23:03.576Z"
   },
   {
    "duration": 7,
    "start_time": "2022-02-08T18:23:03.637Z"
   },
   {
    "duration": 6,
    "start_time": "2022-02-08T18:23:03.646Z"
   },
   {
    "duration": 4,
    "start_time": "2022-02-08T18:23:03.654Z"
   },
   {
    "duration": 15,
    "start_time": "2022-02-08T18:23:03.660Z"
   },
   {
    "duration": 44,
    "start_time": "2022-02-08T18:23:03.677Z"
   },
   {
    "duration": 21,
    "start_time": "2022-02-08T18:23:03.723Z"
   },
   {
    "duration": 4,
    "start_time": "2022-02-08T18:23:03.746Z"
   },
   {
    "duration": 42,
    "start_time": "2022-02-08T18:23:03.752Z"
   },
   {
    "duration": 11,
    "start_time": "2022-02-08T18:23:03.796Z"
   },
   {
    "duration": 220,
    "start_time": "2022-02-08T18:23:03.812Z"
   },
   {
    "duration": 170,
    "start_time": "2022-02-08T18:23:04.034Z"
   },
   {
    "duration": 8,
    "start_time": "2022-02-08T18:23:04.206Z"
   },
   {
    "duration": 13,
    "start_time": "2022-02-08T18:23:04.217Z"
   },
   {
    "duration": 162,
    "start_time": "2022-02-08T18:23:06.553Z"
   },
   {
    "duration": 233,
    "start_time": "2022-02-08T18:23:13.881Z"
   },
   {
    "duration": 39,
    "start_time": "2022-02-08T18:23:26.361Z"
   },
   {
    "duration": 128,
    "start_time": "2022-02-08T18:23:34.090Z"
   },
   {
    "duration": 206,
    "start_time": "2022-02-08T18:23:46.713Z"
   },
   {
    "duration": 38919,
    "start_time": "2022-02-08T18:29:02.023Z"
   },
   {
    "duration": 73,
    "start_time": "2022-02-08T18:30:38.248Z"
   },
   {
    "duration": 38456,
    "start_time": "2022-02-08T18:30:42.454Z"
   },
   {
    "duration": 4,
    "start_time": "2022-02-08T18:45:15.340Z"
   },
   {
    "duration": 37241,
    "start_time": "2022-02-08T18:45:20.991Z"
   },
   {
    "duration": 236,
    "start_time": "2022-02-08T19:11:45.165Z"
   },
   {
    "duration": 311,
    "start_time": "2022-02-08T19:13:02.588Z"
   },
   {
    "duration": 202,
    "start_time": "2022-02-08T19:13:48.684Z"
   },
   {
    "duration": 250,
    "start_time": "2022-02-08T19:14:27.764Z"
   },
   {
    "duration": 264,
    "start_time": "2022-02-08T19:14:39.978Z"
   },
   {
    "duration": 296,
    "start_time": "2022-02-08T19:20:19.431Z"
   },
   {
    "duration": 528,
    "start_time": "2022-02-08T19:20:38.535Z"
   },
   {
    "duration": 258,
    "start_time": "2022-02-08T19:20:52.728Z"
   },
   {
    "duration": 269,
    "start_time": "2022-02-08T19:23:19.445Z"
   },
   {
    "duration": 257,
    "start_time": "2022-02-08T19:23:38.309Z"
   },
   {
    "duration": 277,
    "start_time": "2022-02-08T19:23:53.637Z"
   },
   {
    "duration": 329,
    "start_time": "2022-02-08T19:24:01.380Z"
   },
   {
    "duration": 336,
    "start_time": "2022-02-08T19:24:06.472Z"
   },
   {
    "duration": 35,
    "start_time": "2022-02-08T19:52:50.595Z"
   },
   {
    "duration": 41,
    "start_time": "2022-02-08T19:53:20.051Z"
   },
   {
    "duration": 38,
    "start_time": "2022-02-08T19:53:26.307Z"
   },
   {
    "duration": 75,
    "start_time": "2022-02-08T19:54:14.837Z"
   },
   {
    "duration": 42,
    "start_time": "2022-02-08T19:54:19.683Z"
   },
   {
    "duration": 47,
    "start_time": "2022-02-08T19:54:35.971Z"
   },
   {
    "duration": 353,
    "start_time": "2022-02-08T19:55:30.531Z"
   },
   {
    "duration": 84,
    "start_time": "2022-02-08T19:55:51.330Z"
   },
   {
    "duration": 339,
    "start_time": "2022-02-08T19:55:56.867Z"
   },
   {
    "duration": 67,
    "start_time": "2022-02-08T19:59:48.353Z"
   },
   {
    "duration": 332,
    "start_time": "2022-02-08T20:01:33.887Z"
   },
   {
    "duration": 377,
    "start_time": "2022-02-10T17:49:37.694Z"
   },
   {
    "duration": 1652,
    "start_time": "2022-02-10T17:49:42.362Z"
   },
   {
    "duration": 232,
    "start_time": "2022-02-10T17:49:44.017Z"
   },
   {
    "duration": 23,
    "start_time": "2022-02-10T17:49:44.252Z"
   },
   {
    "duration": 14,
    "start_time": "2022-02-10T17:49:44.278Z"
   },
   {
    "duration": 15,
    "start_time": "2022-02-10T17:49:44.295Z"
   },
   {
    "duration": 103,
    "start_time": "2022-02-10T17:49:44.313Z"
   },
   {
    "duration": 11,
    "start_time": "2022-02-10T17:49:44.419Z"
   },
   {
    "duration": 32,
    "start_time": "2022-02-10T17:49:44.433Z"
   },
   {
    "duration": 5,
    "start_time": "2022-02-10T17:49:44.471Z"
   },
   {
    "duration": 20,
    "start_time": "2022-02-10T17:49:44.479Z"
   },
   {
    "duration": 19,
    "start_time": "2022-02-10T17:49:44.502Z"
   },
   {
    "duration": 46,
    "start_time": "2022-02-10T17:49:44.523Z"
   },
   {
    "duration": 5,
    "start_time": "2022-02-10T17:49:44.572Z"
   },
   {
    "duration": 38,
    "start_time": "2022-02-10T17:49:44.579Z"
   },
   {
    "duration": 58,
    "start_time": "2022-02-10T17:49:44.620Z"
   },
   {
    "duration": 443,
    "start_time": "2022-02-10T17:49:44.681Z"
   },
   {
    "duration": 319,
    "start_time": "2022-02-10T17:49:45.127Z"
   },
   {
    "duration": 8,
    "start_time": "2022-02-10T17:49:45.460Z"
   },
   {
    "duration": 19,
    "start_time": "2022-02-10T17:49:45.470Z"
   },
   {
    "duration": 176,
    "start_time": "2022-02-10T17:49:45.492Z"
   },
   {
    "duration": 57628,
    "start_time": "2022-02-10T17:49:45.671Z"
   },
   {
    "duration": 543,
    "start_time": "2022-02-10T17:50:43.302Z"
   },
   {
    "duration": 75,
    "start_time": "2022-02-10T17:50:43.848Z"
   },
   {
    "duration": 243,
    "start_time": "2022-02-10T17:50:43.926Z"
   },
   {
    "duration": 525,
    "start_time": "2022-02-10T17:50:44.171Z"
   },
   {
    "duration": 5,
    "start_time": "2022-02-10T17:50:44.699Z"
   },
   {
    "duration": 82,
    "start_time": "2022-02-10T17:50:57.209Z"
   },
   {
    "duration": 99,
    "start_time": "2022-02-10T17:51:27.862Z"
   },
   {
    "duration": 312,
    "start_time": "2022-02-10T17:52:02.902Z"
   },
   {
    "duration": 228,
    "start_time": "2022-02-10T17:53:11.046Z"
   },
   {
    "duration": 774,
    "start_time": "2022-02-10T17:54:05.126Z"
   },
   {
    "duration": 784,
    "start_time": "2022-02-10T18:04:03.406Z"
   },
   {
    "duration": 7,
    "start_time": "2022-02-10T18:04:06.356Z"
   },
   {
    "duration": 48,
    "start_time": "2022-02-10T18:05:08.468Z"
   },
   {
    "duration": 38,
    "start_time": "2022-02-10T18:05:22.528Z"
   },
   {
    "duration": 181,
    "start_time": "2022-02-10T18:05:31.789Z"
   },
   {
    "duration": 976,
    "start_time": "2022-02-10T18:06:01.166Z"
   },
   {
    "duration": 1017,
    "start_time": "2022-02-10T18:06:10.318Z"
   },
   {
    "duration": 230,
    "start_time": "2022-02-10T18:16:43.753Z"
   },
   {
    "duration": 332,
    "start_time": "2022-02-10T18:16:48.379Z"
   },
   {
    "duration": 769,
    "start_time": "2022-02-10T18:16:55.656Z"
   },
   {
    "duration": 358,
    "start_time": "2022-02-10T18:20:56.468Z"
   },
   {
    "duration": 391,
    "start_time": "2022-02-10T18:21:20.277Z"
   },
   {
    "duration": 454,
    "start_time": "2022-02-10T18:21:28.788Z"
   },
   {
    "duration": 255,
    "start_time": "2022-02-10T18:21:48.661Z"
   },
   {
    "duration": 230,
    "start_time": "2022-02-10T18:23:04.276Z"
   },
   {
    "duration": 452,
    "start_time": "2022-02-10T18:23:43.317Z"
   },
   {
    "duration": 924,
    "start_time": "2022-02-10T18:23:54.279Z"
   },
   {
    "duration": 285,
    "start_time": "2022-02-10T18:29:20.207Z"
   },
   {
    "duration": 222,
    "start_time": "2022-02-10T18:29:43.274Z"
   },
   {
    "duration": 206,
    "start_time": "2022-02-10T18:29:58.577Z"
   },
   {
    "duration": 368,
    "start_time": "2022-02-10T18:30:09.411Z"
   },
   {
    "duration": 668,
    "start_time": "2022-02-10T18:30:17.857Z"
   },
   {
    "duration": 487,
    "start_time": "2022-02-10T18:41:42.201Z"
   },
   {
    "duration": 697,
    "start_time": "2022-02-10T18:41:49.385Z"
   },
   {
    "duration": 702,
    "start_time": "2022-02-10T18:41:54.841Z"
   },
   {
    "duration": 812,
    "start_time": "2022-02-10T18:42:51.350Z"
   },
   {
    "duration": 1093,
    "start_time": "2022-02-10T18:44:50.548Z"
   },
   {
    "duration": 956,
    "start_time": "2022-02-10T18:44:56.572Z"
   },
   {
    "duration": 777,
    "start_time": "2022-02-10T18:45:48.185Z"
   },
   {
    "duration": 513,
    "start_time": "2022-02-10T18:45:52.055Z"
   },
   {
    "duration": 783,
    "start_time": "2022-02-10T18:46:00.039Z"
   },
   {
    "duration": 804,
    "start_time": "2022-02-10T18:46:17.392Z"
   },
   {
    "duration": 779,
    "start_time": "2022-02-10T18:48:53.702Z"
   },
   {
    "duration": 796,
    "start_time": "2022-02-10T18:49:00.198Z"
   },
   {
    "duration": 6,
    "start_time": "2022-02-10T19:27:35.483Z"
   },
   {
    "duration": 290,
    "start_time": "2022-02-10T19:27:35.495Z"
   },
   {
    "duration": 18,
    "start_time": "2022-02-10T19:27:35.788Z"
   },
   {
    "duration": 18,
    "start_time": "2022-02-10T19:27:35.808Z"
   },
   {
    "duration": 13,
    "start_time": "2022-02-10T19:27:35.829Z"
   },
   {
    "duration": 69,
    "start_time": "2022-02-10T19:27:35.844Z"
   },
   {
    "duration": 9,
    "start_time": "2022-02-10T19:27:35.915Z"
   },
   {
    "duration": 7,
    "start_time": "2022-02-10T19:27:35.926Z"
   },
   {
    "duration": 5,
    "start_time": "2022-02-10T19:27:35.961Z"
   },
   {
    "duration": 22,
    "start_time": "2022-02-10T19:27:35.968Z"
   },
   {
    "duration": 17,
    "start_time": "2022-02-10T19:27:35.992Z"
   },
   {
    "duration": 14,
    "start_time": "2022-02-10T19:27:36.011Z"
   },
   {
    "duration": 34,
    "start_time": "2022-02-10T19:27:36.027Z"
   },
   {
    "duration": 38,
    "start_time": "2022-02-10T19:27:36.064Z"
   },
   {
    "duration": 16,
    "start_time": "2022-02-10T19:27:36.105Z"
   },
   {
    "duration": 354,
    "start_time": "2022-02-10T19:27:36.124Z"
   },
   {
    "duration": 236,
    "start_time": "2022-02-10T19:27:36.481Z"
   },
   {
    "duration": 5,
    "start_time": "2022-02-10T19:27:36.720Z"
   },
   {
    "duration": 41,
    "start_time": "2022-02-10T19:27:36.728Z"
   },
   {
    "duration": 97,
    "start_time": "2022-02-10T19:27:36.772Z"
   },
   {
    "duration": 56467,
    "start_time": "2022-02-10T19:27:36.873Z"
   },
   {
    "duration": 410,
    "start_time": "2022-02-10T19:28:33.342Z"
   },
   {
    "duration": 51,
    "start_time": "2022-02-10T19:28:33.760Z"
   },
   {
    "duration": 244,
    "start_time": "2022-02-10T19:28:33.815Z"
   },
   {
    "duration": 502,
    "start_time": "2022-02-10T19:28:34.063Z"
   },
   {
    "duration": 5,
    "start_time": "2022-02-10T19:28:34.567Z"
   },
   {
    "duration": 100,
    "start_time": "2022-02-10T19:28:34.574Z"
   },
   {
    "duration": 192,
    "start_time": "2022-02-10T19:28:34.676Z"
   },
   {
    "duration": 797,
    "start_time": "2022-02-10T19:28:34.872Z"
   },
   {
    "duration": 5,
    "start_time": "2022-02-10T19:28:35.671Z"
   },
   {
    "duration": 52,
    "start_time": "2022-02-10T19:28:35.678Z"
   },
   {
    "duration": 228,
    "start_time": "2022-02-10T19:28:35.732Z"
   },
   {
    "duration": 754,
    "start_time": "2022-02-10T19:28:35.962Z"
   },
   {
    "duration": 225,
    "start_time": "2022-02-10T19:28:36.718Z"
   },
   {
    "duration": 375,
    "start_time": "2022-02-10T19:28:36.946Z"
   },
   {
    "duration": 655,
    "start_time": "2022-02-10T19:28:37.324Z"
   },
   {
    "duration": 497,
    "start_time": "2022-02-10T19:28:37.981Z"
   },
   {
    "duration": 745,
    "start_time": "2022-02-10T19:28:38.481Z"
   },
   {
    "duration": 1580,
    "start_time": "2022-02-12T09:30:39.079Z"
   },
   {
    "duration": 286,
    "start_time": "2022-02-12T09:30:40.662Z"
   },
   {
    "duration": 33,
    "start_time": "2022-02-12T09:30:40.953Z"
   },
   {
    "duration": 33,
    "start_time": "2022-02-12T09:30:40.990Z"
   },
   {
    "duration": 20,
    "start_time": "2022-02-12T09:30:41.026Z"
   },
   {
    "duration": 115,
    "start_time": "2022-02-12T09:30:41.049Z"
   },
   {
    "duration": 13,
    "start_time": "2022-02-12T09:30:41.167Z"
   },
   {
    "duration": 10,
    "start_time": "2022-02-12T09:30:41.184Z"
   },
   {
    "duration": 29,
    "start_time": "2022-02-12T09:30:41.197Z"
   },
   {
    "duration": 471,
    "start_time": "2022-02-12T09:31:41.339Z"
   },
   {
    "duration": 12,
    "start_time": "2022-02-12T09:31:47.668Z"
   },
   {
    "duration": 169,
    "start_time": "2022-02-12T09:31:47.684Z"
   },
   {
    "duration": 23,
    "start_time": "2022-02-12T09:31:47.860Z"
   },
   {
    "duration": 13,
    "start_time": "2022-02-12T09:31:47.886Z"
   },
   {
    "duration": 28,
    "start_time": "2022-02-12T09:31:47.901Z"
   },
   {
    "duration": 59,
    "start_time": "2022-02-12T09:31:47.931Z"
   },
   {
    "duration": 32,
    "start_time": "2022-02-12T09:31:47.993Z"
   },
   {
    "duration": 7,
    "start_time": "2022-02-12T09:31:48.029Z"
   },
   {
    "duration": 7,
    "start_time": "2022-02-12T09:31:48.038Z"
   },
   {
    "duration": 350,
    "start_time": "2022-02-12T09:31:49.864Z"
   },
   {
    "duration": 121,
    "start_time": "2022-02-12T09:32:04.008Z"
   },
   {
    "duration": 112,
    "start_time": "2022-02-12T09:32:09.598Z"
   },
   {
    "duration": 183,
    "start_time": "2022-02-12T09:32:20.328Z"
   },
   {
    "duration": 105,
    "start_time": "2022-02-12T09:32:59.976Z"
   },
   {
    "duration": 125,
    "start_time": "2022-02-12T09:33:13.192Z"
   },
   {
    "duration": 23812,
    "start_time": "2022-02-12T09:33:17.239Z"
   },
   {
    "duration": 10181,
    "start_time": "2022-02-12T09:33:47.191Z"
   },
   {
    "duration": 392,
    "start_time": "2022-02-12T09:35:06.167Z"
   },
   {
    "duration": 705,
    "start_time": "2022-02-12T09:35:15.015Z"
   },
   {
    "duration": 344,
    "start_time": "2022-02-12T09:35:59.690Z"
   },
   {
    "duration": 306,
    "start_time": "2022-02-12T09:36:03.576Z"
   },
   {
    "duration": 591,
    "start_time": "2022-02-12T09:38:12.377Z"
   },
   {
    "duration": 353,
    "start_time": "2022-02-12T09:38:40.038Z"
   },
   {
    "duration": 325,
    "start_time": "2022-02-12T09:38:48.725Z"
   },
   {
    "duration": 335,
    "start_time": "2022-02-12T09:38:53.765Z"
   },
   {
    "duration": 326,
    "start_time": "2022-02-12T09:39:02.229Z"
   },
   {
    "duration": 525,
    "start_time": "2022-02-12T09:39:09.621Z"
   },
   {
    "duration": 352,
    "start_time": "2022-02-12T09:39:39.990Z"
   },
   {
    "duration": 349,
    "start_time": "2022-02-12T09:39:45.925Z"
   },
   {
    "duration": 351,
    "start_time": "2022-02-12T09:40:00.726Z"
   },
   {
    "duration": 342,
    "start_time": "2022-02-12T09:40:05.476Z"
   },
   {
    "duration": 325,
    "start_time": "2022-02-12T09:40:13.477Z"
   },
   {
    "duration": 9360,
    "start_time": "2022-02-12T09:42:18.978Z"
   },
   {
    "duration": 35,
    "start_time": "2022-02-12T09:44:40.292Z"
   },
   {
    "duration": 33,
    "start_time": "2022-02-12T09:44:48.347Z"
   },
   {
    "duration": 7,
    "start_time": "2022-02-12T09:45:51.993Z"
   },
   {
    "duration": 249,
    "start_time": "2022-02-12T09:45:52.006Z"
   },
   {
    "duration": 31,
    "start_time": "2022-02-12T09:45:52.259Z"
   },
   {
    "duration": 28,
    "start_time": "2022-02-12T09:45:52.295Z"
   },
   {
    "duration": 24,
    "start_time": "2022-02-12T09:45:52.327Z"
   },
   {
    "duration": 133,
    "start_time": "2022-02-12T09:45:52.354Z"
   },
   {
    "duration": 33,
    "start_time": "2022-02-12T09:45:52.490Z"
   },
   {
    "duration": 9,
    "start_time": "2022-02-12T09:45:52.527Z"
   },
   {
    "duration": 7,
    "start_time": "2022-02-12T09:45:52.541Z"
   },
   {
    "duration": 3580,
    "start_time": "2022-02-12T09:45:52.552Z"
   },
   {
    "duration": 8665,
    "start_time": "2022-02-12T09:46:02.779Z"
   },
   {
    "duration": 7,
    "start_time": "2022-02-12T10:21:37.565Z"
   },
   {
    "duration": 268,
    "start_time": "2022-02-12T10:21:37.575Z"
   },
   {
    "duration": 18,
    "start_time": "2022-02-12T10:21:37.847Z"
   },
   {
    "duration": 15,
    "start_time": "2022-02-12T10:21:37.868Z"
   },
   {
    "duration": 14,
    "start_time": "2022-02-12T10:21:37.886Z"
   },
   {
    "duration": 60,
    "start_time": "2022-02-12T10:21:37.924Z"
   },
   {
    "duration": 10,
    "start_time": "2022-02-12T10:21:37.987Z"
   },
   {
    "duration": 35,
    "start_time": "2022-02-12T10:21:38.000Z"
   },
   {
    "duration": 5,
    "start_time": "2022-02-12T10:21:38.038Z"
   },
   {
    "duration": 3847,
    "start_time": "2022-02-12T10:21:38.046Z"
   },
   {
    "duration": 8629,
    "start_time": "2022-02-12T10:21:41.896Z"
   },
   {
    "duration": 28,
    "start_time": "2022-02-12T10:21:50.528Z"
   },
   {
    "duration": 77,
    "start_time": "2022-02-12T10:21:50.559Z"
   },
   {
    "duration": 15,
    "start_time": "2022-02-12T10:21:50.638Z"
   },
   {
    "duration": 5,
    "start_time": "2022-02-12T10:21:50.657Z"
   },
   {
    "duration": 104,
    "start_time": "2022-02-12T10:21:50.665Z"
   },
   {
    "duration": 16,
    "start_time": "2022-02-12T10:21:50.772Z"
   },
   {
    "duration": 425,
    "start_time": "2022-02-12T10:21:50.791Z"
   },
   {
    "duration": 237,
    "start_time": "2022-02-12T10:21:51.221Z"
   },
   {
    "duration": 6,
    "start_time": "2022-02-12T10:21:51.461Z"
   },
   {
    "duration": 21,
    "start_time": "2022-02-12T10:21:51.470Z"
   },
   {
    "duration": 231,
    "start_time": "2022-02-12T10:21:51.493Z"
   },
   {
    "duration": 59233,
    "start_time": "2022-02-12T10:21:51.727Z"
   },
   {
    "duration": 536,
    "start_time": "2022-02-12T10:22:50.963Z"
   },
   {
    "duration": 60,
    "start_time": "2022-02-12T10:22:51.502Z"
   },
   {
    "duration": 261,
    "start_time": "2022-02-12T10:22:51.565Z"
   },
   {
    "duration": 514,
    "start_time": "2022-02-12T10:22:51.828Z"
   },
   {
    "duration": 6,
    "start_time": "2022-02-12T10:22:52.345Z"
   },
   {
    "duration": 109,
    "start_time": "2022-02-12T10:22:52.353Z"
   },
   {
    "duration": 272,
    "start_time": "2022-02-12T10:22:52.464Z"
   },
   {
    "duration": 801,
    "start_time": "2022-02-12T10:22:52.738Z"
   },
   {
    "duration": 6,
    "start_time": "2022-02-12T10:22:53.542Z"
   },
   {
    "duration": 75,
    "start_time": "2022-02-12T10:22:53.550Z"
   },
   {
    "duration": 204,
    "start_time": "2022-02-12T10:22:53.627Z"
   },
   {
    "duration": 756,
    "start_time": "2022-02-12T10:22:53.834Z"
   },
   {
    "duration": 253,
    "start_time": "2022-02-12T10:22:54.595Z"
   },
   {
    "duration": 338,
    "start_time": "2022-02-12T10:22:54.851Z"
   },
   {
    "duration": 947,
    "start_time": "2022-02-12T10:22:55.192Z"
   },
   {
    "duration": 497,
    "start_time": "2022-02-12T10:22:56.142Z"
   },
   {
    "duration": 937,
    "start_time": "2022-02-12T10:22:56.642Z"
   },
   {
    "duration": 1102,
    "start_time": "2022-02-12T10:22:57.581Z"
   },
   {
    "duration": 378,
    "start_time": "2022-02-12T10:24:25.481Z"
   },
   {
    "duration": 353,
    "start_time": "2022-02-12T10:25:00.619Z"
   },
   {
    "duration": 16,
    "start_time": "2022-02-12T10:25:07.015Z"
   },
   {
    "duration": 514,
    "start_time": "2022-02-12T10:26:44.725Z"
   },
   {
    "duration": 872,
    "start_time": "2022-02-12T10:27:05.989Z"
   },
   {
    "duration": 628,
    "start_time": "2022-02-12T10:27:20.855Z"
   },
   {
    "duration": 528,
    "start_time": "2022-02-12T10:27:36.229Z"
   },
   {
    "duration": 715,
    "start_time": "2022-02-12T10:27:53.011Z"
   },
   {
    "duration": 665,
    "start_time": "2022-02-12T10:27:56.840Z"
   },
   {
    "duration": 974,
    "start_time": "2022-02-12T10:28:03.699Z"
   },
   {
    "duration": 777,
    "start_time": "2022-02-12T10:28:09.235Z"
   },
   {
    "duration": 1119,
    "start_time": "2022-02-12T17:51:34.155Z"
   },
   {
    "duration": 234,
    "start_time": "2022-02-12T17:51:35.276Z"
   },
   {
    "duration": 15,
    "start_time": "2022-02-12T17:51:35.512Z"
   },
   {
    "duration": 8,
    "start_time": "2022-02-12T17:51:35.528Z"
   },
   {
    "duration": 10,
    "start_time": "2022-02-12T17:51:35.537Z"
   },
   {
    "duration": 39,
    "start_time": "2022-02-12T17:51:35.549Z"
   },
   {
    "duration": 7,
    "start_time": "2022-02-12T17:51:35.612Z"
   },
   {
    "duration": 12,
    "start_time": "2022-02-12T17:51:35.622Z"
   },
   {
    "duration": 3,
    "start_time": "2022-02-12T17:51:35.636Z"
   },
   {
    "duration": 104344,
    "start_time": "2022-02-12T17:51:35.641Z"
   },
   {
    "duration": 331,
    "start_time": "2022-02-12T17:53:19.987Z"
   },
   {
    "duration": 1121,
    "start_time": "2022-02-12T17:53:19.199Z"
   },
   {
    "duration": 1082,
    "start_time": "2022-02-12T17:53:19.239Z"
   },
   {
    "duration": 1058,
    "start_time": "2022-02-12T17:53:19.265Z"
   },
   {
    "duration": 1031,
    "start_time": "2022-02-12T17:53:19.293Z"
   },
   {
    "duration": 1014,
    "start_time": "2022-02-12T17:53:19.311Z"
   },
   {
    "duration": 1010,
    "start_time": "2022-02-12T17:53:19.316Z"
   },
   {
    "duration": 1004,
    "start_time": "2022-02-12T17:53:19.323Z"
   },
   {
    "duration": 1000,
    "start_time": "2022-02-12T17:53:19.328Z"
   },
   {
    "duration": 994,
    "start_time": "2022-02-12T17:53:19.335Z"
   },
   {
    "duration": 990,
    "start_time": "2022-02-12T17:53:19.341Z"
   },
   {
    "duration": 985,
    "start_time": "2022-02-12T17:53:19.347Z"
   },
   {
    "duration": 980,
    "start_time": "2022-02-12T17:53:19.353Z"
   },
   {
    "duration": 975,
    "start_time": "2022-02-12T17:53:19.359Z"
   },
   {
    "duration": 970,
    "start_time": "2022-02-12T17:53:19.365Z"
   },
   {
    "duration": 965,
    "start_time": "2022-02-12T17:53:19.371Z"
   },
   {
    "duration": 962,
    "start_time": "2022-02-12T17:53:19.376Z"
   },
   {
    "duration": 956,
    "start_time": "2022-02-12T17:53:19.382Z"
   },
   {
    "duration": 939,
    "start_time": "2022-02-12T17:53:19.401Z"
   },
   {
    "duration": 924,
    "start_time": "2022-02-12T17:53:19.417Z"
   },
   {
    "duration": 909,
    "start_time": "2022-02-12T17:53:19.433Z"
   },
   {
    "duration": 887,
    "start_time": "2022-02-12T17:53:19.456Z"
   },
   {
    "duration": 874,
    "start_time": "2022-02-12T17:53:19.470Z"
   },
   {
    "duration": 858,
    "start_time": "2022-02-12T17:53:19.487Z"
   },
   {
    "duration": 839,
    "start_time": "2022-02-12T17:53:19.507Z"
   },
   {
    "duration": 822,
    "start_time": "2022-02-12T17:53:19.525Z"
   },
   {
    "duration": 807,
    "start_time": "2022-02-12T17:53:19.541Z"
   },
   {
    "duration": 804,
    "start_time": "2022-02-12T17:53:19.546Z"
   },
   {
    "duration": 800,
    "start_time": "2022-02-12T17:53:19.551Z"
   },
   {
    "duration": 795,
    "start_time": "2022-02-12T17:53:19.556Z"
   },
   {
    "duration": 790,
    "start_time": "2022-02-12T17:53:19.562Z"
   },
   {
    "duration": 5,
    "start_time": "2022-02-12T17:53:39.141Z"
   },
   {
    "duration": 121,
    "start_time": "2022-02-12T17:53:39.148Z"
   },
   {
    "duration": 12,
    "start_time": "2022-02-12T17:53:39.271Z"
   },
   {
    "duration": 9,
    "start_time": "2022-02-12T17:53:39.285Z"
   },
   {
    "duration": 10,
    "start_time": "2022-02-12T17:53:39.296Z"
   },
   {
    "duration": 42,
    "start_time": "2022-02-12T17:53:39.308Z"
   },
   {
    "duration": 9,
    "start_time": "2022-02-12T17:53:39.352Z"
   },
   {
    "duration": 5,
    "start_time": "2022-02-12T17:53:39.363Z"
   },
   {
    "duration": 4,
    "start_time": "2022-02-12T17:53:39.370Z"
   },
   {
    "duration": 1218,
    "start_time": "2022-02-12T17:54:29.086Z"
   },
   {
    "duration": 182,
    "start_time": "2022-02-12T17:54:30.306Z"
   },
   {
    "duration": 15,
    "start_time": "2022-02-12T17:54:30.490Z"
   },
   {
    "duration": 8,
    "start_time": "2022-02-12T17:54:30.507Z"
   },
   {
    "duration": 22,
    "start_time": "2022-02-12T17:54:30.517Z"
   },
   {
    "duration": 50,
    "start_time": "2022-02-12T17:54:30.541Z"
   },
   {
    "duration": 6,
    "start_time": "2022-02-12T17:54:30.593Z"
   },
   {
    "duration": 29,
    "start_time": "2022-02-12T17:54:30.601Z"
   },
   {
    "duration": 19,
    "start_time": "2022-02-12T17:54:30.633Z"
   },
   {
    "duration": 27570,
    "start_time": "2022-02-12T17:54:30.653Z"
   },
   {
    "duration": 340,
    "start_time": "2022-02-12T17:54:58.225Z"
   },
   {
    "duration": 1161,
    "start_time": "2022-02-12T17:54:57.407Z"
   },
   {
    "duration": 1153,
    "start_time": "2022-02-12T17:54:57.416Z"
   },
   {
    "duration": 1148,
    "start_time": "2022-02-12T17:54:57.422Z"
   },
   {
    "duration": 1143,
    "start_time": "2022-02-12T17:54:57.429Z"
   },
   {
    "duration": 1138,
    "start_time": "2022-02-12T17:54:57.435Z"
   },
   {
    "duration": 1136,
    "start_time": "2022-02-12T17:54:57.439Z"
   },
   {
    "duration": 1132,
    "start_time": "2022-02-12T17:54:57.444Z"
   },
   {
    "duration": 1129,
    "start_time": "2022-02-12T17:54:57.449Z"
   },
   {
    "duration": 1124,
    "start_time": "2022-02-12T17:54:57.455Z"
   },
   {
    "duration": 1121,
    "start_time": "2022-02-12T17:54:57.460Z"
   },
   {
    "duration": 1117,
    "start_time": "2022-02-12T17:54:57.465Z"
   },
   {
    "duration": 1114,
    "start_time": "2022-02-12T17:54:57.470Z"
   },
   {
    "duration": 1110,
    "start_time": "2022-02-12T17:54:57.475Z"
   },
   {
    "duration": 1107,
    "start_time": "2022-02-12T17:54:57.479Z"
   },
   {
    "duration": 1102,
    "start_time": "2022-02-12T17:54:57.485Z"
   },
   {
    "duration": 1100,
    "start_time": "2022-02-12T17:54:57.489Z"
   },
   {
    "duration": 1086,
    "start_time": "2022-02-12T17:54:57.504Z"
   },
   {
    "duration": 1081,
    "start_time": "2022-02-12T17:54:57.510Z"
   },
   {
    "duration": 1077,
    "start_time": "2022-02-12T17:54:57.515Z"
   },
   {
    "duration": 1073,
    "start_time": "2022-02-12T17:54:57.520Z"
   },
   {
    "duration": 1068,
    "start_time": "2022-02-12T17:54:57.526Z"
   },
   {
    "duration": 1064,
    "start_time": "2022-02-12T17:54:57.531Z"
   },
   {
    "duration": 1061,
    "start_time": "2022-02-12T17:54:57.536Z"
   },
   {
    "duration": 1058,
    "start_time": "2022-02-12T17:54:57.540Z"
   },
   {
    "duration": 1054,
    "start_time": "2022-02-12T17:54:57.545Z"
   },
   {
    "duration": 1050,
    "start_time": "2022-02-12T17:54:57.550Z"
   },
   {
    "duration": 1046,
    "start_time": "2022-02-12T17:54:57.555Z"
   },
   {
    "duration": 1043,
    "start_time": "2022-02-12T17:54:57.559Z"
   },
   {
    "duration": 1039,
    "start_time": "2022-02-12T17:54:57.564Z"
   },
   {
    "duration": 1035,
    "start_time": "2022-02-12T17:54:57.569Z"
   },
   {
    "duration": 1189,
    "start_time": "2022-02-12T17:55:07.900Z"
   },
   {
    "duration": 123,
    "start_time": "2022-02-12T17:55:10.246Z"
   },
   {
    "duration": 16,
    "start_time": "2022-02-12T17:55:11.559Z"
   },
   {
    "duration": 9,
    "start_time": "2022-02-12T17:55:13.270Z"
   },
   {
    "duration": 12,
    "start_time": "2022-02-12T17:55:13.812Z"
   },
   {
    "duration": 42,
    "start_time": "2022-02-12T17:55:14.340Z"
   },
   {
    "duration": 8,
    "start_time": "2022-02-12T17:55:15.446Z"
   },
   {
    "duration": 6,
    "start_time": "2022-02-12T17:55:16.564Z"
   },
   {
    "duration": 4,
    "start_time": "2022-02-12T17:55:17.571Z"
   },
   {
    "duration": 66681,
    "start_time": "2022-02-12T17:55:19.814Z"
   },
   {
    "duration": 35,
    "start_time": "2022-02-12T17:56:33.377Z"
   },
   {
    "duration": 12,
    "start_time": "2022-02-12T17:56:45.932Z"
   },
   {
    "duration": 10,
    "start_time": "2022-02-12T17:56:45.946Z"
   },
   {
    "duration": 14,
    "start_time": "2022-02-12T17:57:04.843Z"
   },
   {
    "duration": 6525,
    "start_time": "2022-02-12T17:57:04.859Z"
   },
   {
    "duration": 15,
    "start_time": "2022-02-12T17:57:31.380Z"
   },
   {
    "duration": 12,
    "start_time": "2022-02-12T17:57:34.162Z"
   },
   {
    "duration": 9,
    "start_time": "2022-02-12T17:57:34.692Z"
   },
   {
    "duration": 3,
    "start_time": "2022-02-12T17:57:35.715Z"
   },
   {
    "duration": 28,
    "start_time": "2022-02-12T17:57:36.756Z"
   },
   {
    "duration": 11,
    "start_time": "2022-02-12T17:57:37.299Z"
   },
   {
    "duration": 269,
    "start_time": "2022-02-12T17:57:40.987Z"
   },
   {
    "duration": 156,
    "start_time": "2022-02-12T17:57:42.978Z"
   },
   {
    "duration": 4,
    "start_time": "2022-02-12T17:57:43.570Z"
   },
   {
    "duration": 13,
    "start_time": "2022-02-12T17:57:44.657Z"
   },
   {
    "duration": 56,
    "start_time": "2022-02-12T17:57:46.161Z"
   },
   {
    "duration": 39236,
    "start_time": "2022-02-12T17:57:47.283Z"
   },
   {
    "duration": 360,
    "start_time": "2022-02-12T17:58:26.522Z"
   },
   {
    "duration": 342,
    "start_time": "2022-02-12T17:59:24.914Z"
   },
   {
    "duration": 38,
    "start_time": "2022-02-12T17:59:28.993Z"
   },
   {
    "duration": 61,
    "start_time": "2022-02-12T17:59:29.856Z"
   },
   {
    "duration": 351,
    "start_time": "2022-02-12T17:59:30.770Z"
   },
   {
    "duration": 3,
    "start_time": "2022-02-12T17:59:33.633Z"
   },
   {
    "duration": 56,
    "start_time": "2022-02-12T17:59:34.576Z"
   },
   {
    "duration": 173,
    "start_time": "2022-02-12T17:59:35.041Z"
   },
   {
    "duration": 498,
    "start_time": "2022-02-12T17:59:35.552Z"
   },
   {
    "duration": 5,
    "start_time": "2022-02-12T17:59:37.553Z"
   },
   {
    "duration": 35,
    "start_time": "2022-02-12T17:59:38.513Z"
   },
   {
    "duration": 42,
    "start_time": "2022-02-12T17:59:38.977Z"
   },
   {
    "duration": 513,
    "start_time": "2022-02-12T17:59:39.474Z"
   },
   {
    "duration": 143,
    "start_time": "2022-02-12T17:59:41.392Z"
   },
   {
    "duration": 325,
    "start_time": "2022-02-12T17:59:41.888Z"
   },
   {
    "duration": 438,
    "start_time": "2022-02-12T17:59:42.304Z"
   },
   {
    "duration": 328,
    "start_time": "2022-02-12T17:59:45.889Z"
   },
   {
    "duration": 501,
    "start_time": "2022-02-12T17:59:46.355Z"
   },
   {
    "duration": 515,
    "start_time": "2022-02-12T17:59:46.863Z"
   },
   {
    "duration": 673,
    "start_time": "2022-02-12T17:59:52.961Z"
   },
   {
    "duration": 609,
    "start_time": "2022-02-12T18:00:34.530Z"
   },
   {
    "duration": 499,
    "start_time": "2022-02-12T18:00:52.913Z"
   },
   {
    "duration": 498,
    "start_time": "2022-02-12T18:00:59.089Z"
   },
   {
    "duration": 525,
    "start_time": "2022-02-12T18:01:08.064Z"
   },
   {
    "duration": 548,
    "start_time": "2022-02-12T18:01:14.511Z"
   },
   {
    "duration": 1666,
    "start_time": "2022-02-12T19:00:34.324Z"
   },
   {
    "duration": 2305,
    "start_time": "2022-02-12T19:00:35.993Z"
   },
   {
    "duration": 31,
    "start_time": "2022-02-12T19:00:38.301Z"
   },
   {
    "duration": 11,
    "start_time": "2022-02-12T19:00:38.335Z"
   },
   {
    "duration": 15,
    "start_time": "2022-02-12T19:00:38.348Z"
   },
   {
    "duration": 113,
    "start_time": "2022-02-12T19:00:38.365Z"
   },
   {
    "duration": 10,
    "start_time": "2022-02-12T19:00:38.533Z"
   },
   {
    "duration": 12,
    "start_time": "2022-02-12T19:00:38.546Z"
   },
   {
    "duration": 5,
    "start_time": "2022-02-12T19:00:38.561Z"
   },
   {
    "duration": 8,
    "start_time": "2022-02-12T19:00:38.568Z"
   },
   {
    "duration": 9,
    "start_time": "2022-02-12T19:00:38.579Z"
   },
   {
    "duration": 23,
    "start_time": "2022-02-12T19:00:38.591Z"
   },
   {
    "duration": 14,
    "start_time": "2022-02-12T19:00:38.617Z"
   },
   {
    "duration": 16,
    "start_time": "2022-02-12T19:00:38.633Z"
   },
   {
    "duration": 4,
    "start_time": "2022-02-12T19:00:38.651Z"
   },
   {
    "duration": 45,
    "start_time": "2022-02-12T19:00:38.658Z"
   },
   {
    "duration": 222,
    "start_time": "2022-02-12T19:01:44.564Z"
   },
   {
    "duration": 402,
    "start_time": "2022-02-12T19:01:55.532Z"
   },
   {
    "duration": 6,
    "start_time": "2022-02-12T19:02:55.518Z"
   },
   {
    "duration": 249,
    "start_time": "2022-02-12T19:03:26.886Z"
   },
   {
    "duration": 198,
    "start_time": "2022-02-12T19:03:34.454Z"
   },
   {
    "duration": 214,
    "start_time": "2022-02-12T19:05:24.351Z"
   },
   {
    "duration": 123,
    "start_time": "2022-02-12T19:05:27.417Z"
   },
   {
    "duration": 481,
    "start_time": "2022-02-12T19:05:31.085Z"
   },
   {
    "duration": 352,
    "start_time": "2022-02-12T19:05:45.918Z"
   },
   {
    "duration": 5,
    "start_time": "2022-02-12T19:05:48.683Z"
   },
   {
    "duration": 328,
    "start_time": "2022-02-12T19:07:19.209Z"
   },
   {
    "duration": 358,
    "start_time": "2022-02-12T19:07:20.345Z"
   },
   {
    "duration": 5,
    "start_time": "2022-02-12T19:07:22.964Z"
   },
   {
    "duration": 323,
    "start_time": "2022-02-12T19:08:54.509Z"
   },
   {
    "duration": 120,
    "start_time": "2022-02-12T19:08:56.624Z"
   },
   {
    "duration": 342,
    "start_time": "2022-02-12T19:08:57.658Z"
   },
   {
    "duration": 352,
    "start_time": "2022-02-12T19:09:34.325Z"
   },
   {
    "duration": 5,
    "start_time": "2022-02-12T19:09:38.003Z"
   },
   {
    "duration": 212,
    "start_time": "2022-02-12T19:10:09.127Z"
   },
   {
    "duration": 180,
    "start_time": "2022-02-12T19:10:13.965Z"
   },
   {
    "duration": 318,
    "start_time": "2022-02-12T19:10:18.728Z"
   },
   {
    "duration": 213,
    "start_time": "2022-02-12T19:10:21.302Z"
   },
   {
    "duration": 224,
    "start_time": "2022-02-12T19:10:24.070Z"
   },
   {
    "duration": 213,
    "start_time": "2022-02-12T19:10:26.483Z"
   },
   {
    "duration": 208,
    "start_time": "2022-02-12T19:10:31.806Z"
   },
   {
    "duration": 222,
    "start_time": "2022-02-12T19:10:33.499Z"
   },
   {
    "duration": 240,
    "start_time": "2022-02-12T19:10:38.040Z"
   },
   {
    "duration": 180,
    "start_time": "2022-02-12T19:10:39.198Z"
   },
   {
    "duration": 281,
    "start_time": "2022-02-12T19:10:42.798Z"
   },
   {
    "duration": 201,
    "start_time": "2022-02-12T19:10:44.688Z"
   },
   {
    "duration": 204,
    "start_time": "2022-02-12T19:10:45.931Z"
   },
   {
    "duration": 196,
    "start_time": "2022-02-12T19:10:48.079Z"
   },
   {
    "duration": 214,
    "start_time": "2022-02-12T19:10:50.426Z"
   },
   {
    "duration": 216,
    "start_time": "2022-02-12T19:10:52.159Z"
   },
   {
    "duration": 222,
    "start_time": "2022-02-12T19:10:54.856Z"
   },
   {
    "duration": 213,
    "start_time": "2022-02-12T19:11:02.855Z"
   },
   {
    "duration": 214,
    "start_time": "2022-02-12T19:11:04.489Z"
   },
   {
    "duration": 217,
    "start_time": "2022-02-12T19:11:05.837Z"
   },
   {
    "duration": 211,
    "start_time": "2022-02-12T19:11:07.607Z"
   },
   {
    "duration": 220,
    "start_time": "2022-02-12T19:11:09.695Z"
   },
   {
    "duration": 224,
    "start_time": "2022-02-12T19:11:11.688Z"
   },
   {
    "duration": 340,
    "start_time": "2022-02-12T19:11:14.642Z"
   },
   {
    "duration": 215,
    "start_time": "2022-02-12T19:11:17.605Z"
   }
  ],
  "kernelspec": {
   "display_name": "Python 3 (ipykernel)",
   "language": "python",
   "name": "python3"
  },
  "language_info": {
   "codemirror_mode": {
    "name": "ipython",
    "version": 3
   },
   "file_extension": ".py",
   "mimetype": "text/x-python",
   "name": "python",
   "nbconvert_exporter": "python",
   "pygments_lexer": "ipython3",
   "version": "3.9.5"
  },
  "toc": {
   "base_numbering": 1,
   "nav_menu": {},
   "number_sections": true,
   "sideBar": true,
   "skip_h1_title": true,
   "title_cell": "Содержание",
   "title_sidebar": "Contents",
   "toc_cell": true,
   "toc_position": {
    "height": "calc(100% - 180px)",
    "left": "10px",
    "top": "150px",
    "width": "165px"
   },
   "toc_section_display": true,
   "toc_window_display": true
  }
 },
 "nbformat": 4,
 "nbformat_minor": 2
}
